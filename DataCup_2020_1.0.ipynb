{
  "nbformat": 4,
  "nbformat_minor": 0,
  "metadata": {
    "colab": {
      "name": "brewing.ipynb",
      "provenance": [],
      "collapsed_sections": []
    },
    "kernelspec": {
      "name": "python3",
      "display_name": "Python 3"
    },
    "accelerator": "GPU"
  },
  "cells": [
    {
      "cell_type": "code",
      "metadata": {
        "colab": {
          "base_uri": "https://localhost:8080/"
        },
        "id": "EqCCMB2-cIOj",
        "outputId": "80dec27a-e60d-48c6-e1ee-21c529f65c16"
      },
      "source": [
        "import pandas as pd\n",
        "import numpy as np\n",
        "import matplotlib.pyplot as plt\n",
        "import seaborn as sns\n",
        "from sklearn.ensemble import RandomForestClassifier\n",
        "import statsmodels.api as sm\n",
        "from sklearn.model_selection import train_test_split\n",
        "from sklearn.metrics import accuracy_score\n",
        "from sklearn.metrics import roc_curve, auc"
      ],
      "execution_count": 1,
      "outputs": [
        {
          "output_type": "stream",
          "text": [
            "/usr/local/lib/python3.6/dist-packages/statsmodels/tools/_testing.py:19: FutureWarning: pandas.util.testing is deprecated. Use the functions in the public API at pandas.testing instead.\n",
            "  import pandas.util.testing as tm\n"
          ],
          "name": "stderr"
        }
      ]
    },
    {
      "cell_type": "code",
      "metadata": {
        "id": "yayo-wCscozI"
      },
      "source": [
        "path = './'\n",
        "\n",
        "df_est = pd.read_csv(path + 'Input1_clientes_estructura.csv', sep=';')\n",
        "df_venta = pd.read_csv(path + 'Input2_clientes_venta.csv', sep=';')"
      ],
      "execution_count": 2,
      "outputs": []
    },
    {
      "cell_type": "markdown",
      "metadata": {
        "id": "6XuIQsftxE5w"
      },
      "source": [
        "<h1>Exploracion</h1>"
      ]
    },
    {
      "cell_type": "code",
      "metadata": {
        "colab": {
          "base_uri": "https://localhost:8080/",
          "height": 195
        },
        "id": "Y0rbqgtKcvJs",
        "outputId": "3f2640ca-4ed2-4bd3-a546-dc70684d25f0"
      },
      "source": [
        "df_est.head()"
      ],
      "execution_count": 3,
      "outputs": [
        {
          "output_type": "execute_result",
          "data": {
            "text/html": [
              "<div>\n",
              "<style scoped>\n",
              "    .dataframe tbody tr th:only-of-type {\n",
              "        vertical-align: middle;\n",
              "    }\n",
              "\n",
              "    .dataframe tbody tr th {\n",
              "        vertical-align: top;\n",
              "    }\n",
              "\n",
              "    .dataframe thead th {\n",
              "        text-align: right;\n",
              "    }\n",
              "</style>\n",
              "<table border=\"1\" class=\"dataframe\">\n",
              "  <thead>\n",
              "    <tr style=\"text-align: right;\">\n",
              "      <th></th>\n",
              "      <th>Cliente</th>\n",
              "      <th>Regional2</th>\n",
              "      <th>Gerencia2</th>\n",
              "      <th>SubCanal2</th>\n",
              "      <th>Categoria</th>\n",
              "      <th>Nevera</th>\n",
              "    </tr>\n",
              "  </thead>\n",
              "  <tbody>\n",
              "    <tr>\n",
              "      <th>0</th>\n",
              "      <td>1</td>\n",
              "      <td>Regional 1</td>\n",
              "      <td>Gerencia_1</td>\n",
              "      <td>Subcanal_1</td>\n",
              "      <td>Categoria_1</td>\n",
              "      <td>0</td>\n",
              "    </tr>\n",
              "    <tr>\n",
              "      <th>1</th>\n",
              "      <td>2</td>\n",
              "      <td>Regional 1</td>\n",
              "      <td>Gerencia_1</td>\n",
              "      <td>Subcanal_1</td>\n",
              "      <td>Categoria_1</td>\n",
              "      <td>0</td>\n",
              "    </tr>\n",
              "    <tr>\n",
              "      <th>2</th>\n",
              "      <td>3</td>\n",
              "      <td>Regional 1</td>\n",
              "      <td>Gerencia_1</td>\n",
              "      <td>Subcanal_1</td>\n",
              "      <td>Categoria_1</td>\n",
              "      <td>0</td>\n",
              "    </tr>\n",
              "    <tr>\n",
              "      <th>3</th>\n",
              "      <td>4</td>\n",
              "      <td>Regional 1</td>\n",
              "      <td>Gerencia_1</td>\n",
              "      <td>Subcanal_1</td>\n",
              "      <td>Categoria_1</td>\n",
              "      <td>1</td>\n",
              "    </tr>\n",
              "    <tr>\n",
              "      <th>4</th>\n",
              "      <td>5</td>\n",
              "      <td>Regional 1</td>\n",
              "      <td>Gerencia_1</td>\n",
              "      <td>Subcanal_1</td>\n",
              "      <td>Categoria_2</td>\n",
              "      <td>1</td>\n",
              "    </tr>\n",
              "  </tbody>\n",
              "</table>\n",
              "</div>"
            ],
            "text/plain": [
              "   Cliente   Regional2   Gerencia2   SubCanal2    Categoria  Nevera\n",
              "0        1  Regional 1  Gerencia_1  Subcanal_1  Categoria_1       0\n",
              "1        2  Regional 1  Gerencia_1  Subcanal_1  Categoria_1       0\n",
              "2        3  Regional 1  Gerencia_1  Subcanal_1  Categoria_1       0\n",
              "3        4  Regional 1  Gerencia_1  Subcanal_1  Categoria_1       1\n",
              "4        5  Regional 1  Gerencia_1  Subcanal_1  Categoria_2       1"
            ]
          },
          "metadata": {
            "tags": []
          },
          "execution_count": 3
        }
      ]
    },
    {
      "cell_type": "code",
      "metadata": {
        "colab": {
          "base_uri": "https://localhost:8080/",
          "height": 195
        },
        "id": "ek_9KwFpcxy9",
        "outputId": "fed68991-4d18-4de0-b15c-af6f00a461c1"
      },
      "source": [
        "df_venta.head()"
      ],
      "execution_count": 4,
      "outputs": [
        {
          "output_type": "execute_result",
          "data": {
            "text/html": [
              "<div>\n",
              "<style scoped>\n",
              "    .dataframe tbody tr th:only-of-type {\n",
              "        vertical-align: middle;\n",
              "    }\n",
              "\n",
              "    .dataframe tbody tr th {\n",
              "        vertical-align: top;\n",
              "    }\n",
              "\n",
              "    .dataframe thead th {\n",
              "        text-align: right;\n",
              "    }\n",
              "</style>\n",
              "<table border=\"1\" class=\"dataframe\">\n",
              "  <thead>\n",
              "    <tr style=\"text-align: right;\">\n",
              "      <th></th>\n",
              "      <th>Año</th>\n",
              "      <th>Mes</th>\n",
              "      <th>Cliente</th>\n",
              "      <th>SegmentoPrecio2</th>\n",
              "      <th>Marca2</th>\n",
              "      <th>Cupo2</th>\n",
              "      <th>CapacidadEnvase2</th>\n",
              "      <th>Volumen</th>\n",
              "      <th>disc</th>\n",
              "      <th>nr</th>\n",
              "    </tr>\n",
              "  </thead>\n",
              "  <tbody>\n",
              "    <tr>\n",
              "      <th>0</th>\n",
              "      <td>2019</td>\n",
              "      <td>5</td>\n",
              "      <td>10</td>\n",
              "      <td>SegmentoPrecio_1</td>\n",
              "      <td>Marca_1</td>\n",
              "      <td>Cupo_1</td>\n",
              "      <td>CapacidadEnvase_12</td>\n",
              "      <td>0.112229</td>\n",
              "      <td>-30.590603</td>\n",
              "      <td>900.328567</td>\n",
              "    </tr>\n",
              "    <tr>\n",
              "      <th>1</th>\n",
              "      <td>2019</td>\n",
              "      <td>5</td>\n",
              "      <td>10</td>\n",
              "      <td>SegmentoPrecio_1</td>\n",
              "      <td>Marca_2</td>\n",
              "      <td>Cupo_2</td>\n",
              "      <td>CapacidadEnvase_10</td>\n",
              "      <td>0.021734</td>\n",
              "      <td>0.000000</td>\n",
              "      <td>149.184463</td>\n",
              "    </tr>\n",
              "    <tr>\n",
              "      <th>2</th>\n",
              "      <td>2019</td>\n",
              "      <td>5</td>\n",
              "      <td>10</td>\n",
              "      <td>SegmentoPrecio_2</td>\n",
              "      <td>Marca_3</td>\n",
              "      <td>Cupo_2</td>\n",
              "      <td>CapacidadEnvase_10</td>\n",
              "      <td>0.043469</td>\n",
              "      <td>0.000000</td>\n",
              "      <td>359.625828</td>\n",
              "    </tr>\n",
              "    <tr>\n",
              "      <th>3</th>\n",
              "      <td>2019</td>\n",
              "      <td>5</td>\n",
              "      <td>10</td>\n",
              "      <td>SegmentoPrecio_1</td>\n",
              "      <td>Marca_1</td>\n",
              "      <td>Cupo_2</td>\n",
              "      <td>CapacidadEnvase_16</td>\n",
              "      <td>0.026345</td>\n",
              "      <td>-31.065261</td>\n",
              "      <td>134.748399</td>\n",
              "    </tr>\n",
              "    <tr>\n",
              "      <th>4</th>\n",
              "      <td>2019</td>\n",
              "      <td>5</td>\n",
              "      <td>10</td>\n",
              "      <td>SegmentoPrecio_1</td>\n",
              "      <td>Marca_4</td>\n",
              "      <td>Cupo_2</td>\n",
              "      <td>CapacidadEnvase_10</td>\n",
              "      <td>0.086938</td>\n",
              "      <td>0.000000</td>\n",
              "      <td>496.901005</td>\n",
              "    </tr>\n",
              "  </tbody>\n",
              "</table>\n",
              "</div>"
            ],
            "text/plain": [
              "    Año  Mes  Cliente  ...   Volumen       disc          nr\n",
              "0  2019    5       10  ...  0.112229 -30.590603  900.328567\n",
              "1  2019    5       10  ...  0.021734   0.000000  149.184463\n",
              "2  2019    5       10  ...  0.043469   0.000000  359.625828\n",
              "3  2019    5       10  ...  0.026345 -31.065261  134.748399\n",
              "4  2019    5       10  ...  0.086938   0.000000  496.901005\n",
              "\n",
              "[5 rows x 10 columns]"
            ]
          },
          "metadata": {
            "tags": []
          },
          "execution_count": 4
        }
      ]
    },
    {
      "cell_type": "code",
      "metadata": {
        "colab": {
          "base_uri": "https://localhost:8080/"
        },
        "id": "fj7xDFnYczO1",
        "outputId": "2e673f49-dfed-4451-9509-3010492a32fd"
      },
      "source": [
        "df_venta.isnull().sum()"
      ],
      "execution_count": 5,
      "outputs": [
        {
          "output_type": "execute_result",
          "data": {
            "text/plain": [
              "Año                 0\n",
              "Mes                 0\n",
              "Cliente             0\n",
              "SegmentoPrecio2     0\n",
              "Marca2              0\n",
              "Cupo2               0\n",
              "CapacidadEnvase2    0\n",
              "Volumen             0\n",
              "disc                0\n",
              "nr                  0\n",
              "dtype: int64"
            ]
          },
          "metadata": {
            "tags": []
          },
          "execution_count": 5
        }
      ]
    },
    {
      "cell_type": "code",
      "metadata": {
        "colab": {
          "base_uri": "https://localhost:8080/"
        },
        "id": "9olnPJsTx8QD",
        "outputId": "b9ffd089-0b54-4127-e0ad-c017aac69c04"
      },
      "source": [
        "df_venta['Año'].unique()\n",
        "df_venta.groupby('Año')['Mes'].unique()"
      ],
      "execution_count": 6,
      "outputs": [
        {
          "output_type": "execute_result",
          "data": {
            "text/plain": [
              "Año\n",
              "2019    [5, 6, 7, 9, 8, 10, 11, 12]\n",
              "2020    [1, 2, 3, 5, 6, 7, 8, 9, 4]\n",
              "Name: Mes, dtype: object"
            ]
          },
          "metadata": {
            "tags": []
          },
          "execution_count": 6
        }
      ]
    },
    {
      "cell_type": "markdown",
      "metadata": {
        "id": "SFFBpUAwxNtW"
      },
      "source": [
        "<h1>FEATURE ENGINEERING</h1>"
      ]
    },
    {
      "cell_type": "code",
      "metadata": {
        "colab": {
          "base_uri": "https://localhost:8080/"
        },
        "id": "DiD_Mbohc1Ob",
        "outputId": "3c25d5f9-5a8a-43e8-a52b-4bb218f6bf1b"
      },
      "source": [
        "# vamos a realizar una copia para dejar la data original tal cual esta\n",
        "df_new_venta = df_venta.copy()\n",
        "df_new_venta.info()"
      ],
      "execution_count": 7,
      "outputs": [
        {
          "output_type": "stream",
          "text": [
            "<class 'pandas.core.frame.DataFrame'>\n",
            "RangeIndex: 1406116 entries, 0 to 1406115\n",
            "Data columns (total 10 columns):\n",
            " #   Column            Non-Null Count    Dtype  \n",
            "---  ------            --------------    -----  \n",
            " 0   Año               1406116 non-null  int64  \n",
            " 1   Mes               1406116 non-null  int64  \n",
            " 2   Cliente           1406116 non-null  int64  \n",
            " 3   SegmentoPrecio2   1406116 non-null  object \n",
            " 4   Marca2            1406116 non-null  object \n",
            " 5   Cupo2             1406116 non-null  object \n",
            " 6   CapacidadEnvase2  1406116 non-null  object \n",
            " 7   Volumen           1406116 non-null  float64\n",
            " 8   disc              1406116 non-null  float64\n",
            " 9   nr                1406116 non-null  float64\n",
            "dtypes: float64(3), int64(3), object(4)\n",
            "memory usage: 107.3+ MB\n"
          ],
          "name": "stdout"
        }
      ]
    },
    {
      "cell_type": "code",
      "metadata": {
        "colab": {
          "base_uri": "https://localhost:8080/",
          "height": 402
        },
        "id": "7VIdYWFic3by",
        "outputId": "417f1ec5-2ace-48bf-ed7e-18bf6911a82a"
      },
      "source": [
        "# vamos a unir las tres columnas de Marca2, Cupo2, CapacidadEnvase2 an una Sola\n",
        "# de esta manera al realizar el filtro nos quedara mas facil\n",
        "def createProduct(x):\n",
        "    result = x['Marca2'] + '-' + x['Cupo2'] + '-' + x['CapacidadEnvase2']\n",
        "    return result\n",
        "df_new_venta['producto'] = df_new_venta.apply(createProduct, axis=1)\n",
        "df_new_venta.drop(['Marca2', 'Cupo2', 'CapacidadEnvase2'], axis=1, inplace=True)\n",
        "df_new_venta"
      ],
      "execution_count": 8,
      "outputs": [
        {
          "output_type": "execute_result",
          "data": {
            "text/html": [
              "<div>\n",
              "<style scoped>\n",
              "    .dataframe tbody tr th:only-of-type {\n",
              "        vertical-align: middle;\n",
              "    }\n",
              "\n",
              "    .dataframe tbody tr th {\n",
              "        vertical-align: top;\n",
              "    }\n",
              "\n",
              "    .dataframe thead th {\n",
              "        text-align: right;\n",
              "    }\n",
              "</style>\n",
              "<table border=\"1\" class=\"dataframe\">\n",
              "  <thead>\n",
              "    <tr style=\"text-align: right;\">\n",
              "      <th></th>\n",
              "      <th>Año</th>\n",
              "      <th>Mes</th>\n",
              "      <th>Cliente</th>\n",
              "      <th>SegmentoPrecio2</th>\n",
              "      <th>Volumen</th>\n",
              "      <th>disc</th>\n",
              "      <th>nr</th>\n",
              "      <th>producto</th>\n",
              "    </tr>\n",
              "  </thead>\n",
              "  <tbody>\n",
              "    <tr>\n",
              "      <th>0</th>\n",
              "      <td>2019</td>\n",
              "      <td>5</td>\n",
              "      <td>10</td>\n",
              "      <td>SegmentoPrecio_1</td>\n",
              "      <td>0.112229</td>\n",
              "      <td>-30.590603</td>\n",
              "      <td>900.328567</td>\n",
              "      <td>Marca_1-Cupo_1-CapacidadEnvase_12</td>\n",
              "    </tr>\n",
              "    <tr>\n",
              "      <th>1</th>\n",
              "      <td>2019</td>\n",
              "      <td>5</td>\n",
              "      <td>10</td>\n",
              "      <td>SegmentoPrecio_1</td>\n",
              "      <td>0.021734</td>\n",
              "      <td>0.000000</td>\n",
              "      <td>149.184463</td>\n",
              "      <td>Marca_2-Cupo_2-CapacidadEnvase_10</td>\n",
              "    </tr>\n",
              "    <tr>\n",
              "      <th>2</th>\n",
              "      <td>2019</td>\n",
              "      <td>5</td>\n",
              "      <td>10</td>\n",
              "      <td>SegmentoPrecio_2</td>\n",
              "      <td>0.043469</td>\n",
              "      <td>0.000000</td>\n",
              "      <td>359.625828</td>\n",
              "      <td>Marca_3-Cupo_2-CapacidadEnvase_10</td>\n",
              "    </tr>\n",
              "    <tr>\n",
              "      <th>3</th>\n",
              "      <td>2019</td>\n",
              "      <td>5</td>\n",
              "      <td>10</td>\n",
              "      <td>SegmentoPrecio_1</td>\n",
              "      <td>0.026345</td>\n",
              "      <td>-31.065261</td>\n",
              "      <td>134.748399</td>\n",
              "      <td>Marca_1-Cupo_2-CapacidadEnvase_16</td>\n",
              "    </tr>\n",
              "    <tr>\n",
              "      <th>4</th>\n",
              "      <td>2019</td>\n",
              "      <td>5</td>\n",
              "      <td>10</td>\n",
              "      <td>SegmentoPrecio_1</td>\n",
              "      <td>0.086938</td>\n",
              "      <td>0.000000</td>\n",
              "      <td>496.901005</td>\n",
              "      <td>Marca_4-Cupo_2-CapacidadEnvase_10</td>\n",
              "    </tr>\n",
              "    <tr>\n",
              "      <th>...</th>\n",
              "      <td>...</td>\n",
              "      <td>...</td>\n",
              "      <td>...</td>\n",
              "      <td>...</td>\n",
              "      <td>...</td>\n",
              "      <td>...</td>\n",
              "      <td>...</td>\n",
              "      <td>...</td>\n",
              "    </tr>\n",
              "    <tr>\n",
              "      <th>1406111</th>\n",
              "      <td>2020</td>\n",
              "      <td>8</td>\n",
              "      <td>20577</td>\n",
              "      <td>SegmentoPrecio_3</td>\n",
              "      <td>0.039122</td>\n",
              "      <td>0.000000</td>\n",
              "      <td>544.150314</td>\n",
              "      <td>Marca_39-Cupo_2-CapacidadEnvase_10</td>\n",
              "    </tr>\n",
              "    <tr>\n",
              "      <th>1406112</th>\n",
              "      <td>2020</td>\n",
              "      <td>7</td>\n",
              "      <td>20580</td>\n",
              "      <td>SegmentoPrecio_1</td>\n",
              "      <td>0.000000</td>\n",
              "      <td>0.000000</td>\n",
              "      <td>0.000000</td>\n",
              "      <td>Marca_38-Cupo_2-CapacidadEnvase_10</td>\n",
              "    </tr>\n",
              "    <tr>\n",
              "      <th>1406113</th>\n",
              "      <td>2020</td>\n",
              "      <td>7</td>\n",
              "      <td>20580</td>\n",
              "      <td>SegmentoPrecio_3</td>\n",
              "      <td>0.058683</td>\n",
              "      <td>0.000000</td>\n",
              "      <td>759.218996</td>\n",
              "      <td>Marca_39-Cupo_2-CapacidadEnvase_10</td>\n",
              "    </tr>\n",
              "    <tr>\n",
              "      <th>1406114</th>\n",
              "      <td>2020</td>\n",
              "      <td>9</td>\n",
              "      <td>20580</td>\n",
              "      <td>SegmentoPrecio_1</td>\n",
              "      <td>0.000000</td>\n",
              "      <td>0.000000</td>\n",
              "      <td>0.000000</td>\n",
              "      <td>Marca_38-Cupo_2-CapacidadEnvase_10</td>\n",
              "    </tr>\n",
              "    <tr>\n",
              "      <th>1406115</th>\n",
              "      <td>2020</td>\n",
              "      <td>9</td>\n",
              "      <td>20580</td>\n",
              "      <td>SegmentoPrecio_3</td>\n",
              "      <td>0.019561</td>\n",
              "      <td>0.000000</td>\n",
              "      <td>269.150196</td>\n",
              "      <td>Marca_39-Cupo_2-CapacidadEnvase_10</td>\n",
              "    </tr>\n",
              "  </tbody>\n",
              "</table>\n",
              "<p>1406116 rows × 8 columns</p>\n",
              "</div>"
            ],
            "text/plain": [
              "          Año  Mes  ...          nr                            producto\n",
              "0        2019    5  ...  900.328567   Marca_1-Cupo_1-CapacidadEnvase_12\n",
              "1        2019    5  ...  149.184463   Marca_2-Cupo_2-CapacidadEnvase_10\n",
              "2        2019    5  ...  359.625828   Marca_3-Cupo_2-CapacidadEnvase_10\n",
              "3        2019    5  ...  134.748399   Marca_1-Cupo_2-CapacidadEnvase_16\n",
              "4        2019    5  ...  496.901005   Marca_4-Cupo_2-CapacidadEnvase_10\n",
              "...       ...  ...  ...         ...                                 ...\n",
              "1406111  2020    8  ...  544.150314  Marca_39-Cupo_2-CapacidadEnvase_10\n",
              "1406112  2020    7  ...    0.000000  Marca_38-Cupo_2-CapacidadEnvase_10\n",
              "1406113  2020    7  ...  759.218996  Marca_39-Cupo_2-CapacidadEnvase_10\n",
              "1406114  2020    9  ...    0.000000  Marca_38-Cupo_2-CapacidadEnvase_10\n",
              "1406115  2020    9  ...  269.150196  Marca_39-Cupo_2-CapacidadEnvase_10\n",
              "\n",
              "[1406116 rows x 8 columns]"
            ]
          },
          "metadata": {
            "tags": []
          },
          "execution_count": 8
        }
      ]
    },
    {
      "cell_type": "code",
      "metadata": {
        "colab": {
          "base_uri": "https://localhost:8080/",
          "height": 195
        },
        "id": "B4M646nUdTgb",
        "outputId": "b1311e52-383f-4eaa-b5ef-8ec2d7c89dae"
      },
      "source": [
        "# de nuevo vamos a realizar una copia para mantener df_new_venta tal cual\n",
        "# ya que nos puede servir para mas adelante\n",
        "df_ventas_2 = df_new_venta.drop(['SegmentoPrecio2', 'Volumen', 'disc', 'nr'], axis=1)\n",
        "df_ventas_2 = df_ventas_2.merge(df_est, on=['Cliente'])\n",
        "df_ventas_2.head()"
      ],
      "execution_count": 9,
      "outputs": [
        {
          "output_type": "execute_result",
          "data": {
            "text/html": [
              "<div>\n",
              "<style scoped>\n",
              "    .dataframe tbody tr th:only-of-type {\n",
              "        vertical-align: middle;\n",
              "    }\n",
              "\n",
              "    .dataframe tbody tr th {\n",
              "        vertical-align: top;\n",
              "    }\n",
              "\n",
              "    .dataframe thead th {\n",
              "        text-align: right;\n",
              "    }\n",
              "</style>\n",
              "<table border=\"1\" class=\"dataframe\">\n",
              "  <thead>\n",
              "    <tr style=\"text-align: right;\">\n",
              "      <th></th>\n",
              "      <th>Año</th>\n",
              "      <th>Mes</th>\n",
              "      <th>Cliente</th>\n",
              "      <th>producto</th>\n",
              "      <th>Regional2</th>\n",
              "      <th>Gerencia2</th>\n",
              "      <th>SubCanal2</th>\n",
              "      <th>Categoria</th>\n",
              "      <th>Nevera</th>\n",
              "    </tr>\n",
              "  </thead>\n",
              "  <tbody>\n",
              "    <tr>\n",
              "      <th>0</th>\n",
              "      <td>2019</td>\n",
              "      <td>5</td>\n",
              "      <td>10</td>\n",
              "      <td>Marca_1-Cupo_1-CapacidadEnvase_12</td>\n",
              "      <td>Regional 1</td>\n",
              "      <td>Gerencia_3</td>\n",
              "      <td>Subcanal_1</td>\n",
              "      <td>Categoria_2</td>\n",
              "      <td>1</td>\n",
              "    </tr>\n",
              "    <tr>\n",
              "      <th>1</th>\n",
              "      <td>2019</td>\n",
              "      <td>5</td>\n",
              "      <td>10</td>\n",
              "      <td>Marca_2-Cupo_2-CapacidadEnvase_10</td>\n",
              "      <td>Regional 1</td>\n",
              "      <td>Gerencia_3</td>\n",
              "      <td>Subcanal_1</td>\n",
              "      <td>Categoria_2</td>\n",
              "      <td>1</td>\n",
              "    </tr>\n",
              "    <tr>\n",
              "      <th>2</th>\n",
              "      <td>2019</td>\n",
              "      <td>5</td>\n",
              "      <td>10</td>\n",
              "      <td>Marca_3-Cupo_2-CapacidadEnvase_10</td>\n",
              "      <td>Regional 1</td>\n",
              "      <td>Gerencia_3</td>\n",
              "      <td>Subcanal_1</td>\n",
              "      <td>Categoria_2</td>\n",
              "      <td>1</td>\n",
              "    </tr>\n",
              "    <tr>\n",
              "      <th>3</th>\n",
              "      <td>2019</td>\n",
              "      <td>5</td>\n",
              "      <td>10</td>\n",
              "      <td>Marca_1-Cupo_2-CapacidadEnvase_16</td>\n",
              "      <td>Regional 1</td>\n",
              "      <td>Gerencia_3</td>\n",
              "      <td>Subcanal_1</td>\n",
              "      <td>Categoria_2</td>\n",
              "      <td>1</td>\n",
              "    </tr>\n",
              "    <tr>\n",
              "      <th>4</th>\n",
              "      <td>2019</td>\n",
              "      <td>5</td>\n",
              "      <td>10</td>\n",
              "      <td>Marca_4-Cupo_2-CapacidadEnvase_10</td>\n",
              "      <td>Regional 1</td>\n",
              "      <td>Gerencia_3</td>\n",
              "      <td>Subcanal_1</td>\n",
              "      <td>Categoria_2</td>\n",
              "      <td>1</td>\n",
              "    </tr>\n",
              "  </tbody>\n",
              "</table>\n",
              "</div>"
            ],
            "text/plain": [
              "    Año  Mes  Cliente  ...   SubCanal2    Categoria Nevera\n",
              "0  2019    5       10  ...  Subcanal_1  Categoria_2      1\n",
              "1  2019    5       10  ...  Subcanal_1  Categoria_2      1\n",
              "2  2019    5       10  ...  Subcanal_1  Categoria_2      1\n",
              "3  2019    5       10  ...  Subcanal_1  Categoria_2      1\n",
              "4  2019    5       10  ...  Subcanal_1  Categoria_2      1\n",
              "\n",
              "[5 rows x 9 columns]"
            ]
          },
          "metadata": {
            "tags": []
          },
          "execution_count": 9
        }
      ]
    },
    {
      "cell_type": "markdown",
      "metadata": {
        "id": "0T1Cn79ltYNJ"
      },
      "source": [
        "<h1>RandomForest</h1>\n"
      ]
    },
    {
      "cell_type": "code",
      "metadata": {
        "id": "gVtDJT2-wgzc"
      },
      "source": [
        "# Aqui vamos a realizar un nuevo feature Engineering donde cambiaremos a 0 y 1 si\n",
        "# la marca a predecir fue comprada o no\n",
        "\n",
        "def marca_uno(x):\n",
        "  if str(x) == 'Marca_20-Cupo_3-CapacidadEnvase_9':\n",
        "    return 1\n",
        "  else:\n",
        "    return 0\n",
        "\n",
        "def marca_dos(x):\n",
        "  if str(x) == 'Marca_16-Cupo_2-CapacidadEnvase_10':\n",
        "    return 1\n",
        "  else:\n",
        "    return 0\n",
        "\n",
        "def marca_tres(x):\n",
        "  if str(x) == 'Marca_9-Cupo_3-CapacidadEnvase_12':\n",
        "    return 1\n",
        "  else:\n",
        "    return 0\n",
        "\n",
        "def marca_Inno_uno(x):\n",
        "  if str(x) == 'Marca_38-Cupo_2-CapacidadEnvase_10':\n",
        "    return 1\n",
        "  else:\n",
        "    return 0\n",
        "\n",
        "def marca_Inno_dos(x):\n",
        "  if str(x) == 'Marca_39-Cupo_2-CapacidadEnvase_10':\n",
        "    return 1\n",
        "  else:\n",
        "    return 0"
      ],
      "execution_count": 10,
      "outputs": []
    },
    {
      "cell_type": "code",
      "metadata": {
        "id": "R0pKvX3exRsz"
      },
      "source": [
        "df_ventas_2['Marca1'] = df_ventas_2['producto'].apply(marca_uno)\n",
        "df_ventas_2['Marca2'] = df_ventas_2['producto'].apply(marca_dos)\n",
        "df_ventas_2['Marca3'] = df_ventas_2['producto'].apply(marca_tres)\n",
        "df_ventas_2['MarcaInno1'] = df_ventas_2['producto'].apply(marca_Inno_uno)\n",
        "df_ventas_2['MarcaInno2'] = df_ventas_2['producto'].apply(marca_Inno_dos)"
      ],
      "execution_count": 11,
      "outputs": []
    },
    {
      "cell_type": "code",
      "metadata": {
        "colab": {
          "base_uri": "https://localhost:8080/",
          "height": 402
        },
        "id": "0bOMBVDLxRZk",
        "outputId": "46766e0e-325c-42cc-cec0-e04376cd0c90"
      },
      "source": [
        "aux = df_ventas_2[['Año', 'Mes', 'Cliente', 'Marca1', 'Marca2', 'Marca3', 'MarcaInno1', 'MarcaInno2']]\n",
        "aux_group = aux.groupby(['Año', 'Mes', 'Cliente']).sum()\n",
        "result = aux_group.reset_index()\n",
        "result"
      ],
      "execution_count": 12,
      "outputs": [
        {
          "output_type": "execute_result",
          "data": {
            "text/html": [
              "<div>\n",
              "<style scoped>\n",
              "    .dataframe tbody tr th:only-of-type {\n",
              "        vertical-align: middle;\n",
              "    }\n",
              "\n",
              "    .dataframe tbody tr th {\n",
              "        vertical-align: top;\n",
              "    }\n",
              "\n",
              "    .dataframe thead th {\n",
              "        text-align: right;\n",
              "    }\n",
              "</style>\n",
              "<table border=\"1\" class=\"dataframe\">\n",
              "  <thead>\n",
              "    <tr style=\"text-align: right;\">\n",
              "      <th></th>\n",
              "      <th>Año</th>\n",
              "      <th>Mes</th>\n",
              "      <th>Cliente</th>\n",
              "      <th>Marca1</th>\n",
              "      <th>Marca2</th>\n",
              "      <th>Marca3</th>\n",
              "      <th>MarcaInno1</th>\n",
              "      <th>MarcaInno2</th>\n",
              "    </tr>\n",
              "  </thead>\n",
              "  <tbody>\n",
              "    <tr>\n",
              "      <th>0</th>\n",
              "      <td>2019</td>\n",
              "      <td>5</td>\n",
              "      <td>9</td>\n",
              "      <td>0</td>\n",
              "      <td>0</td>\n",
              "      <td>0</td>\n",
              "      <td>0</td>\n",
              "      <td>0</td>\n",
              "    </tr>\n",
              "    <tr>\n",
              "      <th>1</th>\n",
              "      <td>2019</td>\n",
              "      <td>5</td>\n",
              "      <td>10</td>\n",
              "      <td>0</td>\n",
              "      <td>0</td>\n",
              "      <td>0</td>\n",
              "      <td>0</td>\n",
              "      <td>0</td>\n",
              "    </tr>\n",
              "    <tr>\n",
              "      <th>2</th>\n",
              "      <td>2019</td>\n",
              "      <td>5</td>\n",
              "      <td>11</td>\n",
              "      <td>0</td>\n",
              "      <td>0</td>\n",
              "      <td>0</td>\n",
              "      <td>0</td>\n",
              "      <td>0</td>\n",
              "    </tr>\n",
              "    <tr>\n",
              "      <th>3</th>\n",
              "      <td>2019</td>\n",
              "      <td>5</td>\n",
              "      <td>12</td>\n",
              "      <td>0</td>\n",
              "      <td>1</td>\n",
              "      <td>0</td>\n",
              "      <td>0</td>\n",
              "      <td>0</td>\n",
              "    </tr>\n",
              "    <tr>\n",
              "      <th>4</th>\n",
              "      <td>2019</td>\n",
              "      <td>5</td>\n",
              "      <td>13</td>\n",
              "      <td>0</td>\n",
              "      <td>0</td>\n",
              "      <td>0</td>\n",
              "      <td>0</td>\n",
              "      <td>0</td>\n",
              "    </tr>\n",
              "    <tr>\n",
              "      <th>...</th>\n",
              "      <td>...</td>\n",
              "      <td>...</td>\n",
              "      <td>...</td>\n",
              "      <td>...</td>\n",
              "      <td>...</td>\n",
              "      <td>...</td>\n",
              "      <td>...</td>\n",
              "      <td>...</td>\n",
              "    </tr>\n",
              "    <tr>\n",
              "      <th>204631</th>\n",
              "      <td>2020</td>\n",
              "      <td>9</td>\n",
              "      <td>20411</td>\n",
              "      <td>0</td>\n",
              "      <td>0</td>\n",
              "      <td>0</td>\n",
              "      <td>1</td>\n",
              "      <td>1</td>\n",
              "    </tr>\n",
              "    <tr>\n",
              "      <th>204632</th>\n",
              "      <td>2020</td>\n",
              "      <td>9</td>\n",
              "      <td>20414</td>\n",
              "      <td>0</td>\n",
              "      <td>0</td>\n",
              "      <td>0</td>\n",
              "      <td>1</td>\n",
              "      <td>1</td>\n",
              "    </tr>\n",
              "    <tr>\n",
              "      <th>204633</th>\n",
              "      <td>2020</td>\n",
              "      <td>9</td>\n",
              "      <td>20434</td>\n",
              "      <td>0</td>\n",
              "      <td>0</td>\n",
              "      <td>0</td>\n",
              "      <td>1</td>\n",
              "      <td>1</td>\n",
              "    </tr>\n",
              "    <tr>\n",
              "      <th>204634</th>\n",
              "      <td>2020</td>\n",
              "      <td>9</td>\n",
              "      <td>20456</td>\n",
              "      <td>0</td>\n",
              "      <td>0</td>\n",
              "      <td>0</td>\n",
              "      <td>1</td>\n",
              "      <td>1</td>\n",
              "    </tr>\n",
              "    <tr>\n",
              "      <th>204635</th>\n",
              "      <td>2020</td>\n",
              "      <td>9</td>\n",
              "      <td>20580</td>\n",
              "      <td>0</td>\n",
              "      <td>0</td>\n",
              "      <td>0</td>\n",
              "      <td>1</td>\n",
              "      <td>1</td>\n",
              "    </tr>\n",
              "  </tbody>\n",
              "</table>\n",
              "<p>204636 rows × 8 columns</p>\n",
              "</div>"
            ],
            "text/plain": [
              "         Año  Mes  Cliente  Marca1  Marca2  Marca3  MarcaInno1  MarcaInno2\n",
              "0       2019    5        9       0       0       0           0           0\n",
              "1       2019    5       10       0       0       0           0           0\n",
              "2       2019    5       11       0       0       0           0           0\n",
              "3       2019    5       12       0       1       0           0           0\n",
              "4       2019    5       13       0       0       0           0           0\n",
              "...      ...  ...      ...     ...     ...     ...         ...         ...\n",
              "204631  2020    9    20411       0       0       0           1           1\n",
              "204632  2020    9    20414       0       0       0           1           1\n",
              "204633  2020    9    20434       0       0       0           1           1\n",
              "204634  2020    9    20456       0       0       0           1           1\n",
              "204635  2020    9    20580       0       0       0           1           1\n",
              "\n",
              "[204636 rows x 8 columns]"
            ]
          },
          "metadata": {
            "tags": []
          },
          "execution_count": 12
        }
      ]
    },
    {
      "cell_type": "code",
      "metadata": {
        "id": "acSCzugC0e7d"
      },
      "source": [
        "# este proceso se tiene que realizar para pasarlo por el RandomForest sin problemas\n",
        "cliente_info = df_est.copy()\n",
        "\n",
        "cliente_info['Regional2'] = cliente_info['Regional2'].astype('category')\n",
        "cliente_info['Gerencia2'] = cliente_info['Gerencia2'].astype('category')\n",
        "cliente_info['SubCanal2'] = cliente_info['SubCanal2'].astype('category')\n",
        "cliente_info['Categoria'] = cliente_info['Categoria'].astype('category')\n",
        "\n",
        "cliente_info['Regional2'] = cliente_info.Regional2.cat.codes\n",
        "cliente_info['Gerencia2'] = cliente_info.Gerencia2.cat.codes\n",
        "cliente_info['SubCanal2'] = cliente_info.SubCanal2.cat.codes\n",
        "cliente_info['Categoria'] = cliente_info.Categoria.cat.codes"
      ],
      "execution_count": 13,
      "outputs": []
    },
    {
      "cell_type": "markdown",
      "metadata": {
        "id": "Lqj-zJkFxNDX"
      },
      "source": [
        "primer producto"
      ]
    },
    {
      "cell_type": "code",
      "metadata": {
        "id": "HviOBjqxyS1o"
      },
      "source": [
        "primer_producto = result[['Año', 'Mes', 'Cliente', 'Marca1']]"
      ],
      "execution_count": 14,
      "outputs": []
    },
    {
      "cell_type": "code",
      "metadata": {
        "colab": {
          "base_uri": "https://localhost:8080/",
          "height": 402
        },
        "id": "wD2Rn9bQ0iWk",
        "outputId": "ebe1b912-9120-4e57-c6b3-1524a7eb8b95"
      },
      "source": [
        "primer_producto = primer_producto.merge(cliente_info, on='Cliente')\n",
        "primer_producto"
      ],
      "execution_count": 15,
      "outputs": [
        {
          "output_type": "execute_result",
          "data": {
            "text/html": [
              "<div>\n",
              "<style scoped>\n",
              "    .dataframe tbody tr th:only-of-type {\n",
              "        vertical-align: middle;\n",
              "    }\n",
              "\n",
              "    .dataframe tbody tr th {\n",
              "        vertical-align: top;\n",
              "    }\n",
              "\n",
              "    .dataframe thead th {\n",
              "        text-align: right;\n",
              "    }\n",
              "</style>\n",
              "<table border=\"1\" class=\"dataframe\">\n",
              "  <thead>\n",
              "    <tr style=\"text-align: right;\">\n",
              "      <th></th>\n",
              "      <th>Año</th>\n",
              "      <th>Mes</th>\n",
              "      <th>Cliente</th>\n",
              "      <th>Marca1</th>\n",
              "      <th>Regional2</th>\n",
              "      <th>Gerencia2</th>\n",
              "      <th>SubCanal2</th>\n",
              "      <th>Categoria</th>\n",
              "      <th>Nevera</th>\n",
              "    </tr>\n",
              "  </thead>\n",
              "  <tbody>\n",
              "    <tr>\n",
              "      <th>0</th>\n",
              "      <td>2019</td>\n",
              "      <td>5</td>\n",
              "      <td>9</td>\n",
              "      <td>0</td>\n",
              "      <td>0</td>\n",
              "      <td>3</td>\n",
              "      <td>22</td>\n",
              "      <td>2</td>\n",
              "      <td>1</td>\n",
              "    </tr>\n",
              "    <tr>\n",
              "      <th>1</th>\n",
              "      <td>2019</td>\n",
              "      <td>6</td>\n",
              "      <td>9</td>\n",
              "      <td>0</td>\n",
              "      <td>0</td>\n",
              "      <td>3</td>\n",
              "      <td>22</td>\n",
              "      <td>2</td>\n",
              "      <td>1</td>\n",
              "    </tr>\n",
              "    <tr>\n",
              "      <th>2</th>\n",
              "      <td>2019</td>\n",
              "      <td>7</td>\n",
              "      <td>9</td>\n",
              "      <td>0</td>\n",
              "      <td>0</td>\n",
              "      <td>3</td>\n",
              "      <td>22</td>\n",
              "      <td>2</td>\n",
              "      <td>1</td>\n",
              "    </tr>\n",
              "    <tr>\n",
              "      <th>3</th>\n",
              "      <td>2019</td>\n",
              "      <td>8</td>\n",
              "      <td>9</td>\n",
              "      <td>0</td>\n",
              "      <td>0</td>\n",
              "      <td>3</td>\n",
              "      <td>22</td>\n",
              "      <td>2</td>\n",
              "      <td>1</td>\n",
              "    </tr>\n",
              "    <tr>\n",
              "      <th>4</th>\n",
              "      <td>2019</td>\n",
              "      <td>9</td>\n",
              "      <td>9</td>\n",
              "      <td>0</td>\n",
              "      <td>0</td>\n",
              "      <td>3</td>\n",
              "      <td>22</td>\n",
              "      <td>2</td>\n",
              "      <td>1</td>\n",
              "    </tr>\n",
              "    <tr>\n",
              "      <th>...</th>\n",
              "      <td>...</td>\n",
              "      <td>...</td>\n",
              "      <td>...</td>\n",
              "      <td>...</td>\n",
              "      <td>...</td>\n",
              "      <td>...</td>\n",
              "      <td>...</td>\n",
              "      <td>...</td>\n",
              "      <td>...</td>\n",
              "    </tr>\n",
              "    <tr>\n",
              "      <th>204631</th>\n",
              "      <td>2020</td>\n",
              "      <td>9</td>\n",
              "      <td>20186</td>\n",
              "      <td>0</td>\n",
              "      <td>0</td>\n",
              "      <td>10</td>\n",
              "      <td>29</td>\n",
              "      <td>0</td>\n",
              "      <td>0</td>\n",
              "    </tr>\n",
              "    <tr>\n",
              "      <th>204632</th>\n",
              "      <td>2020</td>\n",
              "      <td>9</td>\n",
              "      <td>20309</td>\n",
              "      <td>0</td>\n",
              "      <td>0</td>\n",
              "      <td>1</td>\n",
              "      <td>22</td>\n",
              "      <td>2</td>\n",
              "      <td>0</td>\n",
              "    </tr>\n",
              "    <tr>\n",
              "      <th>204633</th>\n",
              "      <td>2020</td>\n",
              "      <td>9</td>\n",
              "      <td>20312</td>\n",
              "      <td>0</td>\n",
              "      <td>0</td>\n",
              "      <td>7</td>\n",
              "      <td>27</td>\n",
              "      <td>1</td>\n",
              "      <td>0</td>\n",
              "    </tr>\n",
              "    <tr>\n",
              "      <th>204634</th>\n",
              "      <td>2020</td>\n",
              "      <td>9</td>\n",
              "      <td>20434</td>\n",
              "      <td>0</td>\n",
              "      <td>0</td>\n",
              "      <td>1</td>\n",
              "      <td>24</td>\n",
              "      <td>2</td>\n",
              "      <td>0</td>\n",
              "    </tr>\n",
              "    <tr>\n",
              "      <th>204635</th>\n",
              "      <td>2020</td>\n",
              "      <td>9</td>\n",
              "      <td>20456</td>\n",
              "      <td>0</td>\n",
              "      <td>0</td>\n",
              "      <td>1</td>\n",
              "      <td>0</td>\n",
              "      <td>1</td>\n",
              "      <td>0</td>\n",
              "    </tr>\n",
              "  </tbody>\n",
              "</table>\n",
              "<p>204636 rows × 9 columns</p>\n",
              "</div>"
            ],
            "text/plain": [
              "         Año  Mes  Cliente  Marca1  ...  Gerencia2  SubCanal2  Categoria  Nevera\n",
              "0       2019    5        9       0  ...          3         22          2       1\n",
              "1       2019    6        9       0  ...          3         22          2       1\n",
              "2       2019    7        9       0  ...          3         22          2       1\n",
              "3       2019    8        9       0  ...          3         22          2       1\n",
              "4       2019    9        9       0  ...          3         22          2       1\n",
              "...      ...  ...      ...     ...  ...        ...        ...        ...     ...\n",
              "204631  2020    9    20186       0  ...         10         29          0       0\n",
              "204632  2020    9    20309       0  ...          1         22          2       0\n",
              "204633  2020    9    20312       0  ...          7         27          1       0\n",
              "204634  2020    9    20434       0  ...          1         24          2       0\n",
              "204635  2020    9    20456       0  ...          1          0          1       0\n",
              "\n",
              "[204636 rows x 9 columns]"
            ]
          },
          "metadata": {
            "tags": []
          },
          "execution_count": 15
        }
      ]
    },
    {
      "cell_type": "code",
      "metadata": {
        "id": "AAj6QGaUWBe1"
      },
      "source": [
        "# primer Marca a predecir\n",
        "y = primer_producto['Marca1']\n",
        "x = primer_producto[['Año', 'Mes', 'Cliente', 'Regional2', 'Gerencia2', 'SubCanal2', 'Categoria', 'Nevera']]"
      ],
      "execution_count": 16,
      "outputs": []
    },
    {
      "cell_type": "code",
      "metadata": {
        "id": "JQ5sig9cWkOl"
      },
      "source": [
        "X_train, X_test, y_train, y_test = train_test_split(x, y, test_size=0.2, random_state=42)"
      ],
      "execution_count": 17,
      "outputs": []
    },
    {
      "cell_type": "code",
      "metadata": {
        "colab": {
          "base_uri": "https://localhost:8080/"
        },
        "id": "RXvObbEWW1rT",
        "outputId": "972b84f1-41a4-4873-a7fa-b330420c178b"
      },
      "source": [
        "clf1 = RandomForestClassifier(max_depth=2, random_state=42)\n",
        "clf1.fit(X_train, y_train)"
      ],
      "execution_count": 18,
      "outputs": [
        {
          "output_type": "execute_result",
          "data": {
            "text/plain": [
              "RandomForestClassifier(bootstrap=True, ccp_alpha=0.0, class_weight=None,\n",
              "                       criterion='gini', max_depth=2, max_features='auto',\n",
              "                       max_leaf_nodes=None, max_samples=None,\n",
              "                       min_impurity_decrease=0.0, min_impurity_split=None,\n",
              "                       min_samples_leaf=1, min_samples_split=2,\n",
              "                       min_weight_fraction_leaf=0.0, n_estimators=100,\n",
              "                       n_jobs=None, oob_score=False, random_state=42, verbose=0,\n",
              "                       warm_start=False)"
            ]
          },
          "metadata": {
            "tags": []
          },
          "execution_count": 18
        }
      ]
    },
    {
      "cell_type": "code",
      "metadata": {
        "colab": {
          "base_uri": "https://localhost:8080/"
        },
        "id": "7cGvRG3seNJa",
        "outputId": "25136202-5ec8-4635-e994-2559fa63934e"
      },
      "source": [
        "answer = clf1.predict(X_test)\n",
        "ans = clf1.predict_proba(X_test)\n",
        "print(ans)\n",
        "print(clf1.classes_)"
      ],
      "execution_count": 19,
      "outputs": [
        {
          "output_type": "stream",
          "text": [
            "[[0.992006   0.007994  ]\n",
            " [0.98616139 0.01383861]\n",
            " [0.97807069 0.02192931]\n",
            " ...\n",
            " [0.94371954 0.05628046]\n",
            " [0.98602662 0.01397338]\n",
            " [0.98382524 0.01617476]]\n",
            "[0 1]\n"
          ],
          "name": "stdout"
        }
      ]
    },
    {
      "cell_type": "code",
      "metadata": {
        "colab": {
          "base_uri": "https://localhost:8080/"
        },
        "id": "7e1fpoFXeZie",
        "outputId": "d087c7d6-f593-4b9f-8362-13e504dc46b8"
      },
      "source": [
        "acc_score = accuracy_score(y_test, answer)\n",
        "print(acc_score)\n",
        "roc = roc_curve(y_test, answer)\n",
        "print(roc)\n",
        "auc_score = auc(roc[0], roc[1])\n",
        "print(auc_score)"
      ],
      "execution_count": 20,
      "outputs": [
        {
          "output_type": "stream",
          "text": [
            "0.9736121970289289\n",
            "(array([0., 1.]), array([0., 1.]), array([1, 0]))\n",
            "0.5\n"
          ],
          "name": "stdout"
        }
      ]
    },
    {
      "cell_type": "markdown",
      "metadata": {
        "id": "g7sRezJchI4i"
      },
      "source": [
        "segundo producto\n",
        "\n"
      ]
    },
    {
      "cell_type": "code",
      "metadata": {
        "colab": {
          "base_uri": "https://localhost:8080/"
        },
        "id": "2HCxHLnCiLoC",
        "outputId": "9b3899c0-6381-47d9-9f63-c1af8fdca381"
      },
      "source": [
        "segundo_producto = result[['Año', 'Mes', 'Cliente', 'Marca2']]\n",
        "segundo_producto = segundo_producto.merge(cliente_info, on='Cliente')\n",
        "\n",
        "# separacion de data y separacion entre train y test data\n",
        "y = segundo_producto['Marca2']\n",
        "x = segundo_producto[['Año', 'Mes', 'Cliente', 'Regional2', 'Gerencia2', 'SubCanal2', 'Categoria', 'Nevera']]\n",
        "X_train, X_test, y_train, y_test = train_test_split(x, y, test_size=0.2, random_state=42)\n",
        "\n",
        "# Modelo\n",
        "clf2 = RandomForestClassifier(max_depth=2, random_state=42)\n",
        "clf2.fit(X_train, y_train)\n",
        "\n",
        "# Medidas\n",
        "answer = clf2.predict(X_test)\n",
        "acc_score = accuracy_score(y_test, answer)\n",
        "print(acc_score)\n",
        "roc = roc_curve(y_test, answer)\n",
        "print(roc)\n",
        "auc_score = auc(roc[0], roc[1])\n",
        "print(auc_score)"
      ],
      "execution_count": 21,
      "outputs": [
        {
          "output_type": "stream",
          "text": [
            "0.9521354573885848\n",
            "(array([0., 1.]), array([0., 1.]), array([1, 0]))\n",
            "0.5\n"
          ],
          "name": "stdout"
        }
      ]
    },
    {
      "cell_type": "markdown",
      "metadata": {
        "id": "4Ya1RzmGi7Ux"
      },
      "source": [
        "tercer producto"
      ]
    },
    {
      "cell_type": "code",
      "metadata": {
        "colab": {
          "base_uri": "https://localhost:8080/"
        },
        "id": "E99CDF-Ri7HO",
        "outputId": "94d62f20-d9b4-47dd-f921-76ea2d643fb2"
      },
      "source": [
        "tercer_producto = result[['Año', 'Mes', 'Cliente', 'Marca3']]\n",
        "tercer_producto = tercer_producto.merge(cliente_info, on='Cliente')\n",
        "\n",
        "# separacion de data y separacion entre train y test data\n",
        "y = tercer_producto['Marca3']\n",
        "x = tercer_producto[['Año', 'Mes', 'Cliente', 'Regional2', 'Gerencia2', 'SubCanal2', 'Categoria', 'Nevera']]\n",
        "\n",
        "# Modelo\n",
        "X_train, X_test, y_train, y_test = train_test_split(x, y, test_size=0.2, random_state=42)\n",
        "clf3 = RandomForestClassifier(max_depth=2, random_state=42)\n",
        "clf3.fit(X_train, y_train)\n",
        "\n",
        "# Medidas\n",
        "answer = clf3.predict(X_test)\n",
        "acc_score = accuracy_score(y_test, answer)\n",
        "print(acc_score)\n",
        "roc = roc_curve(y_test, answer)\n",
        "print(roc)\n",
        "auc_score = auc(roc[0], roc[1])\n",
        "print(auc_score)"
      ],
      "execution_count": 22,
      "outputs": [
        {
          "output_type": "stream",
          "text": [
            "0.7238809616888194\n",
            "(array([0., 1.]), array([0., 1.]), array([1, 0]))\n",
            "0.5\n"
          ],
          "name": "stdout"
        }
      ]
    },
    {
      "cell_type": "markdown",
      "metadata": {
        "id": "A5zq0rhzjjLM"
      },
      "source": [
        "cuarto producto"
      ]
    },
    {
      "cell_type": "code",
      "metadata": {
        "colab": {
          "base_uri": "https://localhost:8080/"
        },
        "id": "rpatTAm1jkyF",
        "outputId": "8a23acb4-1327-49dc-d2de-1d573aea71b7"
      },
      "source": [
        "cuarto_producto = result[['Año', 'Mes', 'Cliente', 'MarcaInno1']]\n",
        "cuarto_producto = cuarto_producto.merge(cliente_info, on='Cliente')\n",
        "\n",
        "# separacion de data y separacion entre train y test data\n",
        "y = cuarto_producto['MarcaInno1']\n",
        "x = cuarto_producto[['Año', 'Mes', 'Cliente', 'Regional2', 'Gerencia2', 'SubCanal2', 'Categoria', 'Nevera']]\n",
        "\n",
        "# Modelo\n",
        "X_train, X_test, y_train, y_test = train_test_split(x, y, test_size=0.2, random_state=42)\n",
        "clf4 = RandomForestClassifier(max_depth=2, random_state=42)\n",
        "clf4.fit(X_train, y_train)\n",
        "\n",
        "# Medidas\n",
        "answer = clf4.predict(X_test)\n",
        "acc_score = accuracy_score(y_test, answer)\n",
        "print(acc_score)\n",
        "roc = roc_curve(y_test, answer)\n",
        "print(roc)\n",
        "auc_score = auc(roc[0], roc[1])\n",
        "print(auc_score)"
      ],
      "execution_count": 23,
      "outputs": [
        {
          "output_type": "stream",
          "text": [
            "0.9568999218139171\n",
            "(array([0., 1.]), array([0., 1.]), array([1, 0]))\n",
            "0.5\n"
          ],
          "name": "stdout"
        }
      ]
    },
    {
      "cell_type": "markdown",
      "metadata": {
        "id": "WrC5GuxDj9Rj"
      },
      "source": [
        "quinto producto"
      ]
    },
    {
      "cell_type": "code",
      "metadata": {
        "colab": {
          "base_uri": "https://localhost:8080/"
        },
        "id": "K3x5S9K7j9GT",
        "outputId": "9993a605-c3c1-4be8-bfe9-f152d5e86d7c"
      },
      "source": [
        "quinto_producto = result[['Año', 'Mes', 'Cliente', 'MarcaInno2']]\n",
        "quinto_producto = quinto_producto.merge(cliente_info, on='Cliente')\n",
        "\n",
        "# separacion de data y separacion entre train y test data\n",
        "y = quinto_producto['MarcaInno2']\n",
        "x = quinto_producto[['Año', 'Mes', 'Cliente', 'Regional2', 'Gerencia2', 'SubCanal2', 'Categoria', 'Nevera']]\n",
        "\n",
        "# Modelo\n",
        "X_train, X_test, y_train, y_test = train_test_split(x, y, test_size=0.2, random_state=42)\n",
        "clf5 = RandomForestClassifier(max_depth=2, random_state=42)\n",
        "clf5.fit(X_train, y_train)\n",
        "\n",
        "answer = clf5.predict(X_test)\n",
        "acc_score = accuracy_score(y_test, answer)\n",
        "print(acc_score)\n",
        "roc = roc_curve(y_test, answer)\n",
        "print(roc)\n",
        "auc_score = auc(roc[0], roc[1])\n",
        "print(auc_score)"
      ],
      "execution_count": 24,
      "outputs": [
        {
          "output_type": "stream",
          "text": [
            "0.9568999218139171\n",
            "(array([0., 1.]), array([0., 1.]), array([1, 0]))\n",
            "0.5\n"
          ],
          "name": "stdout"
        }
      ]
    },
    {
      "cell_type": "markdown",
      "metadata": {
        "id": "OtmTTTILkRxF"
      },
      "source": [
        "LLENANDO TEST"
      ]
    },
    {
      "cell_type": "code",
      "metadata": {
        "id": "CUYg99p5kTWJ"
      },
      "source": [
        "df_test = pd.read_csv(path + 'Input3_clientes_test.csv', sep=';')"
      ],
      "execution_count": 25,
      "outputs": []
    },
    {
      "cell_type": "code",
      "metadata": {
        "colab": {
          "base_uri": "https://localhost:8080/",
          "height": 402
        },
        "id": "lkCTyoZ2kbnD",
        "outputId": "f623a724-a0cc-4afe-c9a1-d32e03a7ab1f"
      },
      "source": [
        "df_test"
      ],
      "execution_count": 26,
      "outputs": [
        {
          "output_type": "execute_result",
          "data": {
            "text/html": [
              "<div>\n",
              "<style scoped>\n",
              "    .dataframe tbody tr th:only-of-type {\n",
              "        vertical-align: middle;\n",
              "    }\n",
              "\n",
              "    .dataframe tbody tr th {\n",
              "        vertical-align: top;\n",
              "    }\n",
              "\n",
              "    .dataframe thead th {\n",
              "        text-align: right;\n",
              "    }\n",
              "</style>\n",
              "<table border=\"1\" class=\"dataframe\">\n",
              "  <thead>\n",
              "    <tr style=\"text-align: right;\">\n",
              "      <th></th>\n",
              "      <th>Cliente</th>\n",
              "      <th>Marca1</th>\n",
              "      <th>Marca2</th>\n",
              "      <th>Marca3</th>\n",
              "      <th>Marca_Inno1</th>\n",
              "      <th>Marca_Inno2</th>\n",
              "    </tr>\n",
              "  </thead>\n",
              "  <tbody>\n",
              "    <tr>\n",
              "      <th>0</th>\n",
              "      <td>10</td>\n",
              "      <td>NaN</td>\n",
              "      <td>NaN</td>\n",
              "      <td>NaN</td>\n",
              "      <td>NaN</td>\n",
              "      <td>NaN</td>\n",
              "    </tr>\n",
              "    <tr>\n",
              "      <th>1</th>\n",
              "      <td>12</td>\n",
              "      <td>NaN</td>\n",
              "      <td>NaN</td>\n",
              "      <td>NaN</td>\n",
              "      <td>NaN</td>\n",
              "      <td>NaN</td>\n",
              "    </tr>\n",
              "    <tr>\n",
              "      <th>2</th>\n",
              "      <td>14</td>\n",
              "      <td>NaN</td>\n",
              "      <td>NaN</td>\n",
              "      <td>NaN</td>\n",
              "      <td>NaN</td>\n",
              "      <td>NaN</td>\n",
              "    </tr>\n",
              "    <tr>\n",
              "      <th>3</th>\n",
              "      <td>15</td>\n",
              "      <td>NaN</td>\n",
              "      <td>NaN</td>\n",
              "      <td>NaN</td>\n",
              "      <td>NaN</td>\n",
              "      <td>NaN</td>\n",
              "    </tr>\n",
              "    <tr>\n",
              "      <th>4</th>\n",
              "      <td>18</td>\n",
              "      <td>NaN</td>\n",
              "      <td>NaN</td>\n",
              "      <td>NaN</td>\n",
              "      <td>NaN</td>\n",
              "      <td>NaN</td>\n",
              "    </tr>\n",
              "    <tr>\n",
              "      <th>...</th>\n",
              "      <td>...</td>\n",
              "      <td>...</td>\n",
              "      <td>...</td>\n",
              "      <td>...</td>\n",
              "      <td>...</td>\n",
              "      <td>...</td>\n",
              "    </tr>\n",
              "    <tr>\n",
              "      <th>9297</th>\n",
              "      <td>20186</td>\n",
              "      <td>NaN</td>\n",
              "      <td>NaN</td>\n",
              "      <td>NaN</td>\n",
              "      <td>NaN</td>\n",
              "      <td>NaN</td>\n",
              "    </tr>\n",
              "    <tr>\n",
              "      <th>9298</th>\n",
              "      <td>20261</td>\n",
              "      <td>NaN</td>\n",
              "      <td>NaN</td>\n",
              "      <td>NaN</td>\n",
              "      <td>NaN</td>\n",
              "      <td>NaN</td>\n",
              "    </tr>\n",
              "    <tr>\n",
              "      <th>9299</th>\n",
              "      <td>20309</td>\n",
              "      <td>NaN</td>\n",
              "      <td>NaN</td>\n",
              "      <td>NaN</td>\n",
              "      <td>NaN</td>\n",
              "      <td>NaN</td>\n",
              "    </tr>\n",
              "    <tr>\n",
              "      <th>9300</th>\n",
              "      <td>20360</td>\n",
              "      <td>NaN</td>\n",
              "      <td>NaN</td>\n",
              "      <td>NaN</td>\n",
              "      <td>NaN</td>\n",
              "      <td>NaN</td>\n",
              "    </tr>\n",
              "    <tr>\n",
              "      <th>9301</th>\n",
              "      <td>20569</td>\n",
              "      <td>NaN</td>\n",
              "      <td>NaN</td>\n",
              "      <td>NaN</td>\n",
              "      <td>NaN</td>\n",
              "      <td>NaN</td>\n",
              "    </tr>\n",
              "  </tbody>\n",
              "</table>\n",
              "<p>9302 rows × 6 columns</p>\n",
              "</div>"
            ],
            "text/plain": [
              "      Cliente  Marca1  Marca2  Marca3  Marca_Inno1  Marca_Inno2\n",
              "0          10     NaN     NaN     NaN          NaN          NaN\n",
              "1          12     NaN     NaN     NaN          NaN          NaN\n",
              "2          14     NaN     NaN     NaN          NaN          NaN\n",
              "3          15     NaN     NaN     NaN          NaN          NaN\n",
              "4          18     NaN     NaN     NaN          NaN          NaN\n",
              "...       ...     ...     ...     ...          ...          ...\n",
              "9297    20186     NaN     NaN     NaN          NaN          NaN\n",
              "9298    20261     NaN     NaN     NaN          NaN          NaN\n",
              "9299    20309     NaN     NaN     NaN          NaN          NaN\n",
              "9300    20360     NaN     NaN     NaN          NaN          NaN\n",
              "9301    20569     NaN     NaN     NaN          NaN          NaN\n",
              "\n",
              "[9302 rows x 6 columns]"
            ]
          },
          "metadata": {
            "tags": []
          },
          "execution_count": 26
        }
      ]
    },
    {
      "cell_type": "code",
      "metadata": {
        "colab": {
          "base_uri": "https://localhost:8080/",
          "height": 402
        },
        "id": "Q1vlh0u_lM2V",
        "outputId": "1f32e536-96d9-4731-f8e5-773e419fbe70"
      },
      "source": [
        "test = df_test[['Cliente']]\n",
        "test = test.merge(df_est, on='Cliente')\n",
        "test['Año'] = 2020\n",
        "test['Mes'] = 10\n",
        "test = test[['Año', 'Mes', 'Cliente', 'Regional2', 'Gerencia2', 'SubCanal2', 'Categoria', 'Nevera']]\n",
        "test"
      ],
      "execution_count": 27,
      "outputs": [
        {
          "output_type": "execute_result",
          "data": {
            "text/html": [
              "<div>\n",
              "<style scoped>\n",
              "    .dataframe tbody tr th:only-of-type {\n",
              "        vertical-align: middle;\n",
              "    }\n",
              "\n",
              "    .dataframe tbody tr th {\n",
              "        vertical-align: top;\n",
              "    }\n",
              "\n",
              "    .dataframe thead th {\n",
              "        text-align: right;\n",
              "    }\n",
              "</style>\n",
              "<table border=\"1\" class=\"dataframe\">\n",
              "  <thead>\n",
              "    <tr style=\"text-align: right;\">\n",
              "      <th></th>\n",
              "      <th>Año</th>\n",
              "      <th>Mes</th>\n",
              "      <th>Cliente</th>\n",
              "      <th>Regional2</th>\n",
              "      <th>Gerencia2</th>\n",
              "      <th>SubCanal2</th>\n",
              "      <th>Categoria</th>\n",
              "      <th>Nevera</th>\n",
              "    </tr>\n",
              "  </thead>\n",
              "  <tbody>\n",
              "    <tr>\n",
              "      <th>0</th>\n",
              "      <td>2020</td>\n",
              "      <td>10</td>\n",
              "      <td>10</td>\n",
              "      <td>Regional 1</td>\n",
              "      <td>Gerencia_3</td>\n",
              "      <td>Subcanal_1</td>\n",
              "      <td>Categoria_2</td>\n",
              "      <td>1</td>\n",
              "    </tr>\n",
              "    <tr>\n",
              "      <th>1</th>\n",
              "      <td>2020</td>\n",
              "      <td>10</td>\n",
              "      <td>12</td>\n",
              "      <td>Regional 1</td>\n",
              "      <td>Gerencia_3</td>\n",
              "      <td>Subcanal_4</td>\n",
              "      <td>Categoria_4</td>\n",
              "      <td>1</td>\n",
              "    </tr>\n",
              "    <tr>\n",
              "      <th>2</th>\n",
              "      <td>2020</td>\n",
              "      <td>10</td>\n",
              "      <td>14</td>\n",
              "      <td>Regional 1</td>\n",
              "      <td>Gerencia_3</td>\n",
              "      <td>Subcanal_1</td>\n",
              "      <td>Categoria_2</td>\n",
              "      <td>1</td>\n",
              "    </tr>\n",
              "    <tr>\n",
              "      <th>3</th>\n",
              "      <td>2020</td>\n",
              "      <td>10</td>\n",
              "      <td>15</td>\n",
              "      <td>Regional 1</td>\n",
              "      <td>Gerencia_2</td>\n",
              "      <td>Subcanal_3</td>\n",
              "      <td>Categoria_2</td>\n",
              "      <td>1</td>\n",
              "    </tr>\n",
              "    <tr>\n",
              "      <th>4</th>\n",
              "      <td>2020</td>\n",
              "      <td>10</td>\n",
              "      <td>18</td>\n",
              "      <td>Regional 1</td>\n",
              "      <td>Gerencia_3</td>\n",
              "      <td>Subcanal_1</td>\n",
              "      <td>Categoria_5</td>\n",
              "      <td>1</td>\n",
              "    </tr>\n",
              "    <tr>\n",
              "      <th>...</th>\n",
              "      <td>...</td>\n",
              "      <td>...</td>\n",
              "      <td>...</td>\n",
              "      <td>...</td>\n",
              "      <td>...</td>\n",
              "      <td>...</td>\n",
              "      <td>...</td>\n",
              "      <td>...</td>\n",
              "    </tr>\n",
              "    <tr>\n",
              "      <th>9297</th>\n",
              "      <td>2020</td>\n",
              "      <td>10</td>\n",
              "      <td>20186</td>\n",
              "      <td>Regional 1</td>\n",
              "      <td>Gerencia_9</td>\n",
              "      <td>Subcanal_7</td>\n",
              "      <td>Categoria_1</td>\n",
              "      <td>0</td>\n",
              "    </tr>\n",
              "    <tr>\n",
              "      <th>9298</th>\n",
              "      <td>2020</td>\n",
              "      <td>10</td>\n",
              "      <td>20261</td>\n",
              "      <td>Regional 1</td>\n",
              "      <td>Gerencia_10</td>\n",
              "      <td>Subcanal_1</td>\n",
              "      <td>Categoria_2</td>\n",
              "      <td>0</td>\n",
              "    </tr>\n",
              "    <tr>\n",
              "      <th>9299</th>\n",
              "      <td>2020</td>\n",
              "      <td>10</td>\n",
              "      <td>20309</td>\n",
              "      <td>Regional 1</td>\n",
              "      <td>Gerencia_10</td>\n",
              "      <td>Subcanal_3</td>\n",
              "      <td>Categoria_3</td>\n",
              "      <td>0</td>\n",
              "    </tr>\n",
              "    <tr>\n",
              "      <th>9300</th>\n",
              "      <td>2020</td>\n",
              "      <td>10</td>\n",
              "      <td>20360</td>\n",
              "      <td>Regional 1</td>\n",
              "      <td>Gerencia_10</td>\n",
              "      <td>Subcanal_8</td>\n",
              "      <td>Categoria_1</td>\n",
              "      <td>0</td>\n",
              "    </tr>\n",
              "    <tr>\n",
              "      <th>9301</th>\n",
              "      <td>2020</td>\n",
              "      <td>10</td>\n",
              "      <td>20569</td>\n",
              "      <td>Regional 1</td>\n",
              "      <td>Gerencia_6</td>\n",
              "      <td>Subcanal_3</td>\n",
              "      <td>Categoria_2</td>\n",
              "      <td>0</td>\n",
              "    </tr>\n",
              "  </tbody>\n",
              "</table>\n",
              "<p>9302 rows × 8 columns</p>\n",
              "</div>"
            ],
            "text/plain": [
              "       Año  Mes  Cliente  ...   SubCanal2    Categoria Nevera\n",
              "0     2020   10       10  ...  Subcanal_1  Categoria_2      1\n",
              "1     2020   10       12  ...  Subcanal_4  Categoria_4      1\n",
              "2     2020   10       14  ...  Subcanal_1  Categoria_2      1\n",
              "3     2020   10       15  ...  Subcanal_3  Categoria_2      1\n",
              "4     2020   10       18  ...  Subcanal_1  Categoria_5      1\n",
              "...    ...  ...      ...  ...         ...          ...    ...\n",
              "9297  2020   10    20186  ...  Subcanal_7  Categoria_1      0\n",
              "9298  2020   10    20261  ...  Subcanal_1  Categoria_2      0\n",
              "9299  2020   10    20309  ...  Subcanal_3  Categoria_3      0\n",
              "9300  2020   10    20360  ...  Subcanal_8  Categoria_1      0\n",
              "9301  2020   10    20569  ...  Subcanal_3  Categoria_2      0\n",
              "\n",
              "[9302 rows x 8 columns]"
            ]
          },
          "metadata": {
            "tags": []
          },
          "execution_count": 27
        }
      ]
    },
    {
      "cell_type": "code",
      "metadata": {
        "id": "MBTrY2CPlbNy"
      },
      "source": [
        "test['Regional2'] = test['Regional2'].astype('category')\n",
        "test['Gerencia2'] = test['Gerencia2'].astype('category')\n",
        "test['SubCanal2'] = test['SubCanal2'].astype('category')\n",
        "test['Categoria'] = test['Categoria'].astype('category')\n",
        "\n",
        "test['Regional2'] = test.Regional2.cat.codes\n",
        "test['Gerencia2'] = test.Gerencia2.cat.codes\n",
        "test['SubCanal2'] = test.SubCanal2.cat.codes\n",
        "test['Categoria'] = test.Categoria.cat.codes"
      ],
      "execution_count": 28,
      "outputs": []
    },
    {
      "cell_type": "code",
      "metadata": {
        "id": "G_jVb9GKmW_s"
      },
      "source": [
        "prob1 = clf1.predict_proba(test)[:, 1]\n",
        "prob2 = clf2.predict_proba(test)[:, 1]\n",
        "prob3 = clf3.predict_proba(test)[:, 1]\n",
        "prob4 = clf4.predict_proba(test)[:, 1]\n",
        "prob5 = clf5.predict_proba(test)[:, 1]"
      ],
      "execution_count": 29,
      "outputs": []
    },
    {
      "cell_type": "code",
      "metadata": {
        "id": "M-RMeCRfmkw1"
      },
      "source": [
        "test['Marca1'] = prob1\n",
        "test['Marca2'] = prob2\n",
        "test['Marca3'] = prob3\n",
        "test['Marca_Inno1'] = prob4\n",
        "test['Marca_Inno2'] = prob5"
      ],
      "execution_count": 30,
      "outputs": []
    },
    {
      "cell_type": "code",
      "metadata": {
        "colab": {
          "base_uri": "https://localhost:8080/",
          "height": 402
        },
        "id": "aoJ4Nw3jm8-w",
        "outputId": "3362f8fb-d106-4cf6-d034-ea1d59b8a34c"
      },
      "source": [
        "final = test[['Cliente', 'Marca1', 'Marca2', 'Marca3', 'Marca_Inno1', 'Marca_Inno2']]\n",
        "final"
      ],
      "execution_count": 31,
      "outputs": [
        {
          "output_type": "execute_result",
          "data": {
            "text/html": [
              "<div>\n",
              "<style scoped>\n",
              "    .dataframe tbody tr th:only-of-type {\n",
              "        vertical-align: middle;\n",
              "    }\n",
              "\n",
              "    .dataframe tbody tr th {\n",
              "        vertical-align: top;\n",
              "    }\n",
              "\n",
              "    .dataframe thead th {\n",
              "        text-align: right;\n",
              "    }\n",
              "</style>\n",
              "<table border=\"1\" class=\"dataframe\">\n",
              "  <thead>\n",
              "    <tr style=\"text-align: right;\">\n",
              "      <th></th>\n",
              "      <th>Cliente</th>\n",
              "      <th>Marca1</th>\n",
              "      <th>Marca2</th>\n",
              "      <th>Marca3</th>\n",
              "      <th>Marca_Inno1</th>\n",
              "      <th>Marca_Inno2</th>\n",
              "    </tr>\n",
              "  </thead>\n",
              "  <tbody>\n",
              "    <tr>\n",
              "      <th>0</th>\n",
              "      <td>10</td>\n",
              "      <td>0.055393</td>\n",
              "      <td>0.050081</td>\n",
              "      <td>0.256060</td>\n",
              "      <td>0.084214</td>\n",
              "      <td>0.084214</td>\n",
              "    </tr>\n",
              "    <tr>\n",
              "      <th>1</th>\n",
              "      <td>12</td>\n",
              "      <td>0.053019</td>\n",
              "      <td>0.080051</td>\n",
              "      <td>0.302099</td>\n",
              "      <td>0.089676</td>\n",
              "      <td>0.089676</td>\n",
              "    </tr>\n",
              "    <tr>\n",
              "      <th>2</th>\n",
              "      <td>14</td>\n",
              "      <td>0.055393</td>\n",
              "      <td>0.050081</td>\n",
              "      <td>0.256060</td>\n",
              "      <td>0.084214</td>\n",
              "      <td>0.084214</td>\n",
              "    </tr>\n",
              "    <tr>\n",
              "      <th>3</th>\n",
              "      <td>15</td>\n",
              "      <td>0.052316</td>\n",
              "      <td>0.048440</td>\n",
              "      <td>0.251948</td>\n",
              "      <td>0.084214</td>\n",
              "      <td>0.084214</td>\n",
              "    </tr>\n",
              "    <tr>\n",
              "      <th>4</th>\n",
              "      <td>18</td>\n",
              "      <td>0.056569</td>\n",
              "      <td>0.081615</td>\n",
              "      <td>0.306210</td>\n",
              "      <td>0.089874</td>\n",
              "      <td>0.089874</td>\n",
              "    </tr>\n",
              "    <tr>\n",
              "      <th>...</th>\n",
              "      <td>...</td>\n",
              "      <td>...</td>\n",
              "      <td>...</td>\n",
              "      <td>...</td>\n",
              "      <td>...</td>\n",
              "      <td>...</td>\n",
              "    </tr>\n",
              "    <tr>\n",
              "      <th>9297</th>\n",
              "      <td>20186</td>\n",
              "      <td>0.084881</td>\n",
              "      <td>0.025497</td>\n",
              "      <td>0.211585</td>\n",
              "      <td>0.216928</td>\n",
              "      <td>0.216928</td>\n",
              "    </tr>\n",
              "    <tr>\n",
              "      <th>9298</th>\n",
              "      <td>20261</td>\n",
              "      <td>0.090971</td>\n",
              "      <td>0.032706</td>\n",
              "      <td>0.220766</td>\n",
              "      <td>0.210166</td>\n",
              "      <td>0.210166</td>\n",
              "    </tr>\n",
              "    <tr>\n",
              "      <th>9299</th>\n",
              "      <td>20309</td>\n",
              "      <td>0.089158</td>\n",
              "      <td>0.031441</td>\n",
              "      <td>0.263293</td>\n",
              "      <td>0.220889</td>\n",
              "      <td>0.220889</td>\n",
              "    </tr>\n",
              "    <tr>\n",
              "      <th>9300</th>\n",
              "      <td>20360</td>\n",
              "      <td>0.088400</td>\n",
              "      <td>0.026031</td>\n",
              "      <td>0.216274</td>\n",
              "      <td>0.210332</td>\n",
              "      <td>0.210332</td>\n",
              "    </tr>\n",
              "    <tr>\n",
              "      <th>9301</th>\n",
              "      <td>20569</td>\n",
              "      <td>0.085016</td>\n",
              "      <td>0.029310</td>\n",
              "      <td>0.211237</td>\n",
              "      <td>0.217201</td>\n",
              "      <td>0.217201</td>\n",
              "    </tr>\n",
              "  </tbody>\n",
              "</table>\n",
              "<p>9302 rows × 6 columns</p>\n",
              "</div>"
            ],
            "text/plain": [
              "      Cliente    Marca1    Marca2    Marca3  Marca_Inno1  Marca_Inno2\n",
              "0          10  0.055393  0.050081  0.256060     0.084214     0.084214\n",
              "1          12  0.053019  0.080051  0.302099     0.089676     0.089676\n",
              "2          14  0.055393  0.050081  0.256060     0.084214     0.084214\n",
              "3          15  0.052316  0.048440  0.251948     0.084214     0.084214\n",
              "4          18  0.056569  0.081615  0.306210     0.089874     0.089874\n",
              "...       ...       ...       ...       ...          ...          ...\n",
              "9297    20186  0.084881  0.025497  0.211585     0.216928     0.216928\n",
              "9298    20261  0.090971  0.032706  0.220766     0.210166     0.210166\n",
              "9299    20309  0.089158  0.031441  0.263293     0.220889     0.220889\n",
              "9300    20360  0.088400  0.026031  0.216274     0.210332     0.210332\n",
              "9301    20569  0.085016  0.029310  0.211237     0.217201     0.217201\n",
              "\n",
              "[9302 rows x 6 columns]"
            ]
          },
          "metadata": {
            "tags": []
          },
          "execution_count": 31
        }
      ]
    },
    {
      "cell_type": "code",
      "metadata": {
        "colab": {
          "base_uri": "https://localhost:8080/"
        },
        "id": "NHKXhYjSqmeL",
        "outputId": "59c2298b-8f30-4ece-a1da-0b65a5ad9144"
      },
      "source": [
        "df_test.columns"
      ],
      "execution_count": 32,
      "outputs": [
        {
          "output_type": "execute_result",
          "data": {
            "text/plain": [
              "Index(['Cliente', 'Marca1', 'Marca2', 'Marca3', 'Marca_Inno1', 'Marca_Inno2'], dtype='object')"
            ]
          },
          "metadata": {
            "tags": []
          },
          "execution_count": 32
        }
      ]
    },
    {
      "cell_type": "code",
      "metadata": {
        "colab": {
          "base_uri": "https://localhost:8080/",
          "height": 402
        },
        "id": "FLxmOCXOo66W",
        "outputId": "b05b8b32-29eb-4ceb-ec5b-ab9c63182691"
      },
      "source": [
        "final.columns = df_test.columns\n",
        "final"
      ],
      "execution_count": 33,
      "outputs": [
        {
          "output_type": "execute_result",
          "data": {
            "text/html": [
              "<div>\n",
              "<style scoped>\n",
              "    .dataframe tbody tr th:only-of-type {\n",
              "        vertical-align: middle;\n",
              "    }\n",
              "\n",
              "    .dataframe tbody tr th {\n",
              "        vertical-align: top;\n",
              "    }\n",
              "\n",
              "    .dataframe thead th {\n",
              "        text-align: right;\n",
              "    }\n",
              "</style>\n",
              "<table border=\"1\" class=\"dataframe\">\n",
              "  <thead>\n",
              "    <tr style=\"text-align: right;\">\n",
              "      <th></th>\n",
              "      <th>Cliente</th>\n",
              "      <th>Marca1</th>\n",
              "      <th>Marca2</th>\n",
              "      <th>Marca3</th>\n",
              "      <th>Marca_Inno1</th>\n",
              "      <th>Marca_Inno2</th>\n",
              "    </tr>\n",
              "  </thead>\n",
              "  <tbody>\n",
              "    <tr>\n",
              "      <th>0</th>\n",
              "      <td>10</td>\n",
              "      <td>0.055393</td>\n",
              "      <td>0.050081</td>\n",
              "      <td>0.256060</td>\n",
              "      <td>0.084214</td>\n",
              "      <td>0.084214</td>\n",
              "    </tr>\n",
              "    <tr>\n",
              "      <th>1</th>\n",
              "      <td>12</td>\n",
              "      <td>0.053019</td>\n",
              "      <td>0.080051</td>\n",
              "      <td>0.302099</td>\n",
              "      <td>0.089676</td>\n",
              "      <td>0.089676</td>\n",
              "    </tr>\n",
              "    <tr>\n",
              "      <th>2</th>\n",
              "      <td>14</td>\n",
              "      <td>0.055393</td>\n",
              "      <td>0.050081</td>\n",
              "      <td>0.256060</td>\n",
              "      <td>0.084214</td>\n",
              "      <td>0.084214</td>\n",
              "    </tr>\n",
              "    <tr>\n",
              "      <th>3</th>\n",
              "      <td>15</td>\n",
              "      <td>0.052316</td>\n",
              "      <td>0.048440</td>\n",
              "      <td>0.251948</td>\n",
              "      <td>0.084214</td>\n",
              "      <td>0.084214</td>\n",
              "    </tr>\n",
              "    <tr>\n",
              "      <th>4</th>\n",
              "      <td>18</td>\n",
              "      <td>0.056569</td>\n",
              "      <td>0.081615</td>\n",
              "      <td>0.306210</td>\n",
              "      <td>0.089874</td>\n",
              "      <td>0.089874</td>\n",
              "    </tr>\n",
              "    <tr>\n",
              "      <th>...</th>\n",
              "      <td>...</td>\n",
              "      <td>...</td>\n",
              "      <td>...</td>\n",
              "      <td>...</td>\n",
              "      <td>...</td>\n",
              "      <td>...</td>\n",
              "    </tr>\n",
              "    <tr>\n",
              "      <th>9297</th>\n",
              "      <td>20186</td>\n",
              "      <td>0.084881</td>\n",
              "      <td>0.025497</td>\n",
              "      <td>0.211585</td>\n",
              "      <td>0.216928</td>\n",
              "      <td>0.216928</td>\n",
              "    </tr>\n",
              "    <tr>\n",
              "      <th>9298</th>\n",
              "      <td>20261</td>\n",
              "      <td>0.090971</td>\n",
              "      <td>0.032706</td>\n",
              "      <td>0.220766</td>\n",
              "      <td>0.210166</td>\n",
              "      <td>0.210166</td>\n",
              "    </tr>\n",
              "    <tr>\n",
              "      <th>9299</th>\n",
              "      <td>20309</td>\n",
              "      <td>0.089158</td>\n",
              "      <td>0.031441</td>\n",
              "      <td>0.263293</td>\n",
              "      <td>0.220889</td>\n",
              "      <td>0.220889</td>\n",
              "    </tr>\n",
              "    <tr>\n",
              "      <th>9300</th>\n",
              "      <td>20360</td>\n",
              "      <td>0.088400</td>\n",
              "      <td>0.026031</td>\n",
              "      <td>0.216274</td>\n",
              "      <td>0.210332</td>\n",
              "      <td>0.210332</td>\n",
              "    </tr>\n",
              "    <tr>\n",
              "      <th>9301</th>\n",
              "      <td>20569</td>\n",
              "      <td>0.085016</td>\n",
              "      <td>0.029310</td>\n",
              "      <td>0.211237</td>\n",
              "      <td>0.217201</td>\n",
              "      <td>0.217201</td>\n",
              "    </tr>\n",
              "  </tbody>\n",
              "</table>\n",
              "<p>9302 rows × 6 columns</p>\n",
              "</div>"
            ],
            "text/plain": [
              "      Cliente    Marca1    Marca2    Marca3  Marca_Inno1  Marca_Inno2\n",
              "0          10  0.055393  0.050081  0.256060     0.084214     0.084214\n",
              "1          12  0.053019  0.080051  0.302099     0.089676     0.089676\n",
              "2          14  0.055393  0.050081  0.256060     0.084214     0.084214\n",
              "3          15  0.052316  0.048440  0.251948     0.084214     0.084214\n",
              "4          18  0.056569  0.081615  0.306210     0.089874     0.089874\n",
              "...       ...       ...       ...       ...          ...          ...\n",
              "9297    20186  0.084881  0.025497  0.211585     0.216928     0.216928\n",
              "9298    20261  0.090971  0.032706  0.220766     0.210166     0.210166\n",
              "9299    20309  0.089158  0.031441  0.263293     0.220889     0.220889\n",
              "9300    20360  0.088400  0.026031  0.216274     0.210332     0.210332\n",
              "9301    20569  0.085016  0.029310  0.211237     0.217201     0.217201\n",
              "\n",
              "[9302 rows x 6 columns]"
            ]
          },
          "metadata": {
            "tags": []
          },
          "execution_count": 33
        }
      ]
    },
    {
      "cell_type": "code",
      "metadata": {
        "colab": {
          "base_uri": "https://localhost:8080/"
        },
        "id": "t6_5tfodquYp",
        "outputId": "773d3120-c119-4d13-f092-20df8e16645f"
      },
      "source": [
        "final.columns"
      ],
      "execution_count": 34,
      "outputs": [
        {
          "output_type": "execute_result",
          "data": {
            "text/plain": [
              "Index(['Cliente', 'Marca1', 'Marca2', 'Marca3', 'Marca_Inno1', 'Marca_Inno2'], dtype='object')"
            ]
          },
          "metadata": {
            "tags": []
          },
          "execution_count": 34
        }
      ]
    },
    {
      "cell_type": "code",
      "metadata": {
        "id": "CagXnVYRnF__"
      },
      "source": [
        "final.to_csv('input4_clientes_test.csv', sep=',', encoding='utf-8', index=False)"
      ],
      "execution_count": 35,
      "outputs": []
    },
    {
      "cell_type": "code",
      "metadata": {
        "colab": {
          "base_uri": "https://localhost:8080/",
          "height": 402
        },
        "id": "baLKDqvboUzH",
        "outputId": "c6f785b0-45a0-4a1a-dcf1-a40dab03b812"
      },
      "source": [
        "prueba = pd.read_csv(path + 'input4_clientes_test.csv', sep=',')\n",
        "prueba"
      ],
      "execution_count": 36,
      "outputs": [
        {
          "output_type": "execute_result",
          "data": {
            "text/html": [
              "<div>\n",
              "<style scoped>\n",
              "    .dataframe tbody tr th:only-of-type {\n",
              "        vertical-align: middle;\n",
              "    }\n",
              "\n",
              "    .dataframe tbody tr th {\n",
              "        vertical-align: top;\n",
              "    }\n",
              "\n",
              "    .dataframe thead th {\n",
              "        text-align: right;\n",
              "    }\n",
              "</style>\n",
              "<table border=\"1\" class=\"dataframe\">\n",
              "  <thead>\n",
              "    <tr style=\"text-align: right;\">\n",
              "      <th></th>\n",
              "      <th>Cliente</th>\n",
              "      <th>Marca1</th>\n",
              "      <th>Marca2</th>\n",
              "      <th>Marca3</th>\n",
              "      <th>Marca_Inno1</th>\n",
              "      <th>Marca_Inno2</th>\n",
              "    </tr>\n",
              "  </thead>\n",
              "  <tbody>\n",
              "    <tr>\n",
              "      <th>0</th>\n",
              "      <td>10</td>\n",
              "      <td>0.055393</td>\n",
              "      <td>0.050081</td>\n",
              "      <td>0.256060</td>\n",
              "      <td>0.084214</td>\n",
              "      <td>0.084214</td>\n",
              "    </tr>\n",
              "    <tr>\n",
              "      <th>1</th>\n",
              "      <td>12</td>\n",
              "      <td>0.053019</td>\n",
              "      <td>0.080051</td>\n",
              "      <td>0.302099</td>\n",
              "      <td>0.089676</td>\n",
              "      <td>0.089676</td>\n",
              "    </tr>\n",
              "    <tr>\n",
              "      <th>2</th>\n",
              "      <td>14</td>\n",
              "      <td>0.055393</td>\n",
              "      <td>0.050081</td>\n",
              "      <td>0.256060</td>\n",
              "      <td>0.084214</td>\n",
              "      <td>0.084214</td>\n",
              "    </tr>\n",
              "    <tr>\n",
              "      <th>3</th>\n",
              "      <td>15</td>\n",
              "      <td>0.052316</td>\n",
              "      <td>0.048440</td>\n",
              "      <td>0.251948</td>\n",
              "      <td>0.084214</td>\n",
              "      <td>0.084214</td>\n",
              "    </tr>\n",
              "    <tr>\n",
              "      <th>4</th>\n",
              "      <td>18</td>\n",
              "      <td>0.056569</td>\n",
              "      <td>0.081615</td>\n",
              "      <td>0.306210</td>\n",
              "      <td>0.089874</td>\n",
              "      <td>0.089874</td>\n",
              "    </tr>\n",
              "    <tr>\n",
              "      <th>...</th>\n",
              "      <td>...</td>\n",
              "      <td>...</td>\n",
              "      <td>...</td>\n",
              "      <td>...</td>\n",
              "      <td>...</td>\n",
              "      <td>...</td>\n",
              "    </tr>\n",
              "    <tr>\n",
              "      <th>9297</th>\n",
              "      <td>20186</td>\n",
              "      <td>0.084881</td>\n",
              "      <td>0.025497</td>\n",
              "      <td>0.211585</td>\n",
              "      <td>0.216928</td>\n",
              "      <td>0.216928</td>\n",
              "    </tr>\n",
              "    <tr>\n",
              "      <th>9298</th>\n",
              "      <td>20261</td>\n",
              "      <td>0.090971</td>\n",
              "      <td>0.032706</td>\n",
              "      <td>0.220766</td>\n",
              "      <td>0.210166</td>\n",
              "      <td>0.210166</td>\n",
              "    </tr>\n",
              "    <tr>\n",
              "      <th>9299</th>\n",
              "      <td>20309</td>\n",
              "      <td>0.089158</td>\n",
              "      <td>0.031441</td>\n",
              "      <td>0.263293</td>\n",
              "      <td>0.220889</td>\n",
              "      <td>0.220889</td>\n",
              "    </tr>\n",
              "    <tr>\n",
              "      <th>9300</th>\n",
              "      <td>20360</td>\n",
              "      <td>0.088400</td>\n",
              "      <td>0.026031</td>\n",
              "      <td>0.216274</td>\n",
              "      <td>0.210332</td>\n",
              "      <td>0.210332</td>\n",
              "    </tr>\n",
              "    <tr>\n",
              "      <th>9301</th>\n",
              "      <td>20569</td>\n",
              "      <td>0.085016</td>\n",
              "      <td>0.029310</td>\n",
              "      <td>0.211237</td>\n",
              "      <td>0.217201</td>\n",
              "      <td>0.217201</td>\n",
              "    </tr>\n",
              "  </tbody>\n",
              "</table>\n",
              "<p>9302 rows × 6 columns</p>\n",
              "</div>"
            ],
            "text/plain": [
              "      Cliente    Marca1    Marca2    Marca3  Marca_Inno1  Marca_Inno2\n",
              "0          10  0.055393  0.050081  0.256060     0.084214     0.084214\n",
              "1          12  0.053019  0.080051  0.302099     0.089676     0.089676\n",
              "2          14  0.055393  0.050081  0.256060     0.084214     0.084214\n",
              "3          15  0.052316  0.048440  0.251948     0.084214     0.084214\n",
              "4          18  0.056569  0.081615  0.306210     0.089874     0.089874\n",
              "...       ...       ...       ...       ...          ...          ...\n",
              "9297    20186  0.084881  0.025497  0.211585     0.216928     0.216928\n",
              "9298    20261  0.090971  0.032706  0.220766     0.210166     0.210166\n",
              "9299    20309  0.089158  0.031441  0.263293     0.220889     0.220889\n",
              "9300    20360  0.088400  0.026031  0.216274     0.210332     0.210332\n",
              "9301    20569  0.085016  0.029310  0.211237     0.217201     0.217201\n",
              "\n",
              "[9302 rows x 6 columns]"
            ]
          },
          "metadata": {
            "tags": []
          },
          "execution_count": 36
        }
      ]
    },
    {
      "cell_type": "code",
      "metadata": {
        "id": "tJ2v-LYFpj-7"
      },
      "source": [
        ""
      ],
      "execution_count": 36,
      "outputs": []
    }
  ]
}