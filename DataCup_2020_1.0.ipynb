{
  "nbformat": 4,
  "nbformat_minor": 0,
  "metadata": {
    "colab": {
      "name": "DataCup_2020_1.0.ipynb",
      "provenance": [],
      "collapsed_sections": []
    },
    "kernelspec": {
      "name": "python3",
      "display_name": "Python 3"
    },
    "accelerator": "GPU"
  },
  "cells": [
    {
      "cell_type": "code",
      "metadata": {
        "id": "EqCCMB2-cIOj"
      },
      "source": [
        "import pandas as pd\n",
        "import numpy as np\n",
        "import matplotlib.pyplot as plt\n",
        "import seaborn as sns\n",
        "from sklearn.ensemble import RandomForestClassifier\n",
        "from xgboost import XGBClassifier\n",
        "import statsmodels.api as sm\n",
        "from sklearn.model_selection import train_test_split\n",
        "from sklearn.metrics import accuracy_score\n",
        "from sklearn.metrics import roc_curve, auc\n",
        "from hyperopt import STATUS_OK, Trials, fmin, hp, tpe"
      ],
      "execution_count": 234,
      "outputs": []
    },
    {
      "cell_type": "code",
      "metadata": {
        "id": "yayo-wCscozI"
      },
      "source": [
        "path = './'\n",
        "\n",
        "df_est = pd.read_csv(path + 'Input1_clientes_estructura.csv', sep=';')\n",
        "df_venta = pd.read_csv(path + 'Input2_clientes_venta.csv', sep=';')"
      ],
      "execution_count": 2,
      "outputs": []
    },
    {
      "cell_type": "markdown",
      "metadata": {
        "id": "6XuIQsftxE5w"
      },
      "source": [
        "<h1>Exploracion</h1>"
      ]
    },
    {
      "cell_type": "code",
      "metadata": {
        "colab": {
          "base_uri": "https://localhost:8080/",
          "height": 195
        },
        "id": "Y0rbqgtKcvJs",
        "outputId": "643f3150-440c-4a2b-9c68-c25f7b21923c"
      },
      "source": [
        "df_est.head()"
      ],
      "execution_count": 3,
      "outputs": [
        {
          "output_type": "execute_result",
          "data": {
            "text/html": [
              "<div>\n",
              "<style scoped>\n",
              "    .dataframe tbody tr th:only-of-type {\n",
              "        vertical-align: middle;\n",
              "    }\n",
              "\n",
              "    .dataframe tbody tr th {\n",
              "        vertical-align: top;\n",
              "    }\n",
              "\n",
              "    .dataframe thead th {\n",
              "        text-align: right;\n",
              "    }\n",
              "</style>\n",
              "<table border=\"1\" class=\"dataframe\">\n",
              "  <thead>\n",
              "    <tr style=\"text-align: right;\">\n",
              "      <th></th>\n",
              "      <th>Cliente</th>\n",
              "      <th>Regional2</th>\n",
              "      <th>Gerencia2</th>\n",
              "      <th>SubCanal2</th>\n",
              "      <th>Categoria</th>\n",
              "      <th>Nevera</th>\n",
              "    </tr>\n",
              "  </thead>\n",
              "  <tbody>\n",
              "    <tr>\n",
              "      <th>0</th>\n",
              "      <td>1</td>\n",
              "      <td>Regional 1</td>\n",
              "      <td>Gerencia_1</td>\n",
              "      <td>Subcanal_1</td>\n",
              "      <td>Categoria_1</td>\n",
              "      <td>0</td>\n",
              "    </tr>\n",
              "    <tr>\n",
              "      <th>1</th>\n",
              "      <td>2</td>\n",
              "      <td>Regional 1</td>\n",
              "      <td>Gerencia_1</td>\n",
              "      <td>Subcanal_1</td>\n",
              "      <td>Categoria_1</td>\n",
              "      <td>0</td>\n",
              "    </tr>\n",
              "    <tr>\n",
              "      <th>2</th>\n",
              "      <td>3</td>\n",
              "      <td>Regional 1</td>\n",
              "      <td>Gerencia_1</td>\n",
              "      <td>Subcanal_1</td>\n",
              "      <td>Categoria_1</td>\n",
              "      <td>0</td>\n",
              "    </tr>\n",
              "    <tr>\n",
              "      <th>3</th>\n",
              "      <td>4</td>\n",
              "      <td>Regional 1</td>\n",
              "      <td>Gerencia_1</td>\n",
              "      <td>Subcanal_1</td>\n",
              "      <td>Categoria_1</td>\n",
              "      <td>1</td>\n",
              "    </tr>\n",
              "    <tr>\n",
              "      <th>4</th>\n",
              "      <td>5</td>\n",
              "      <td>Regional 1</td>\n",
              "      <td>Gerencia_1</td>\n",
              "      <td>Subcanal_1</td>\n",
              "      <td>Categoria_2</td>\n",
              "      <td>1</td>\n",
              "    </tr>\n",
              "  </tbody>\n",
              "</table>\n",
              "</div>"
            ],
            "text/plain": [
              "   Cliente   Regional2   Gerencia2   SubCanal2    Categoria  Nevera\n",
              "0        1  Regional 1  Gerencia_1  Subcanal_1  Categoria_1       0\n",
              "1        2  Regional 1  Gerencia_1  Subcanal_1  Categoria_1       0\n",
              "2        3  Regional 1  Gerencia_1  Subcanal_1  Categoria_1       0\n",
              "3        4  Regional 1  Gerencia_1  Subcanal_1  Categoria_1       1\n",
              "4        5  Regional 1  Gerencia_1  Subcanal_1  Categoria_2       1"
            ]
          },
          "metadata": {
            "tags": []
          },
          "execution_count": 3
        }
      ]
    },
    {
      "cell_type": "code",
      "metadata": {
        "colab": {
          "base_uri": "https://localhost:8080/",
          "height": 195
        },
        "id": "ek_9KwFpcxy9",
        "outputId": "6a08a043-bbce-4556-a7d3-a5dfa50724ea"
      },
      "source": [
        "df_venta.head()"
      ],
      "execution_count": 4,
      "outputs": [
        {
          "output_type": "execute_result",
          "data": {
            "text/html": [
              "<div>\n",
              "<style scoped>\n",
              "    .dataframe tbody tr th:only-of-type {\n",
              "        vertical-align: middle;\n",
              "    }\n",
              "\n",
              "    .dataframe tbody tr th {\n",
              "        vertical-align: top;\n",
              "    }\n",
              "\n",
              "    .dataframe thead th {\n",
              "        text-align: right;\n",
              "    }\n",
              "</style>\n",
              "<table border=\"1\" class=\"dataframe\">\n",
              "  <thead>\n",
              "    <tr style=\"text-align: right;\">\n",
              "      <th></th>\n",
              "      <th>Año</th>\n",
              "      <th>Mes</th>\n",
              "      <th>Cliente</th>\n",
              "      <th>SegmentoPrecio2</th>\n",
              "      <th>Marca2</th>\n",
              "      <th>Cupo2</th>\n",
              "      <th>CapacidadEnvase2</th>\n",
              "      <th>Volumen</th>\n",
              "      <th>disc</th>\n",
              "      <th>nr</th>\n",
              "    </tr>\n",
              "  </thead>\n",
              "  <tbody>\n",
              "    <tr>\n",
              "      <th>0</th>\n",
              "      <td>2019</td>\n",
              "      <td>5</td>\n",
              "      <td>10</td>\n",
              "      <td>SegmentoPrecio_1</td>\n",
              "      <td>Marca_1</td>\n",
              "      <td>Cupo_1</td>\n",
              "      <td>CapacidadEnvase_12</td>\n",
              "      <td>0.112229</td>\n",
              "      <td>-30.590603</td>\n",
              "      <td>900.328567</td>\n",
              "    </tr>\n",
              "    <tr>\n",
              "      <th>1</th>\n",
              "      <td>2019</td>\n",
              "      <td>5</td>\n",
              "      <td>10</td>\n",
              "      <td>SegmentoPrecio_1</td>\n",
              "      <td>Marca_2</td>\n",
              "      <td>Cupo_2</td>\n",
              "      <td>CapacidadEnvase_10</td>\n",
              "      <td>0.021734</td>\n",
              "      <td>0.000000</td>\n",
              "      <td>149.184463</td>\n",
              "    </tr>\n",
              "    <tr>\n",
              "      <th>2</th>\n",
              "      <td>2019</td>\n",
              "      <td>5</td>\n",
              "      <td>10</td>\n",
              "      <td>SegmentoPrecio_2</td>\n",
              "      <td>Marca_3</td>\n",
              "      <td>Cupo_2</td>\n",
              "      <td>CapacidadEnvase_10</td>\n",
              "      <td>0.043469</td>\n",
              "      <td>0.000000</td>\n",
              "      <td>359.625828</td>\n",
              "    </tr>\n",
              "    <tr>\n",
              "      <th>3</th>\n",
              "      <td>2019</td>\n",
              "      <td>5</td>\n",
              "      <td>10</td>\n",
              "      <td>SegmentoPrecio_1</td>\n",
              "      <td>Marca_1</td>\n",
              "      <td>Cupo_2</td>\n",
              "      <td>CapacidadEnvase_16</td>\n",
              "      <td>0.026345</td>\n",
              "      <td>-31.065261</td>\n",
              "      <td>134.748399</td>\n",
              "    </tr>\n",
              "    <tr>\n",
              "      <th>4</th>\n",
              "      <td>2019</td>\n",
              "      <td>5</td>\n",
              "      <td>10</td>\n",
              "      <td>SegmentoPrecio_1</td>\n",
              "      <td>Marca_4</td>\n",
              "      <td>Cupo_2</td>\n",
              "      <td>CapacidadEnvase_10</td>\n",
              "      <td>0.086938</td>\n",
              "      <td>0.000000</td>\n",
              "      <td>496.901005</td>\n",
              "    </tr>\n",
              "  </tbody>\n",
              "</table>\n",
              "</div>"
            ],
            "text/plain": [
              "    Año  Mes  Cliente  ...   Volumen       disc          nr\n",
              "0  2019    5       10  ...  0.112229 -30.590603  900.328567\n",
              "1  2019    5       10  ...  0.021734   0.000000  149.184463\n",
              "2  2019    5       10  ...  0.043469   0.000000  359.625828\n",
              "3  2019    5       10  ...  0.026345 -31.065261  134.748399\n",
              "4  2019    5       10  ...  0.086938   0.000000  496.901005\n",
              "\n",
              "[5 rows x 10 columns]"
            ]
          },
          "metadata": {
            "tags": []
          },
          "execution_count": 4
        }
      ]
    },
    {
      "cell_type": "code",
      "metadata": {
        "colab": {
          "base_uri": "https://localhost:8080/"
        },
        "id": "fj7xDFnYczO1",
        "outputId": "edb279bc-6364-48fb-bf44-cf22317546c2"
      },
      "source": [
        "df_venta.isnull().sum()"
      ],
      "execution_count": 5,
      "outputs": [
        {
          "output_type": "execute_result",
          "data": {
            "text/plain": [
              "Año                 0\n",
              "Mes                 0\n",
              "Cliente             0\n",
              "SegmentoPrecio2     0\n",
              "Marca2              0\n",
              "Cupo2               0\n",
              "CapacidadEnvase2    0\n",
              "Volumen             0\n",
              "disc                0\n",
              "nr                  0\n",
              "dtype: int64"
            ]
          },
          "metadata": {
            "tags": []
          },
          "execution_count": 5
        }
      ]
    },
    {
      "cell_type": "code",
      "metadata": {
        "colab": {
          "base_uri": "https://localhost:8080/"
        },
        "id": "9olnPJsTx8QD",
        "outputId": "6fed7b74-9e19-4f84-a7b1-4397b18ebb33"
      },
      "source": [
        "df_venta['Año'].unique()\n",
        "df_venta.groupby('Año')['Mes'].unique()"
      ],
      "execution_count": 6,
      "outputs": [
        {
          "output_type": "execute_result",
          "data": {
            "text/plain": [
              "Año\n",
              "2019    [5, 6, 7, 9, 8, 10, 11, 12]\n",
              "2020    [1, 2, 3, 5, 6, 7, 8, 9, 4]\n",
              "Name: Mes, dtype: object"
            ]
          },
          "metadata": {
            "tags": []
          },
          "execution_count": 6
        }
      ]
    },
    {
      "cell_type": "markdown",
      "metadata": {
        "id": "SFFBpUAwxNtW"
      },
      "source": [
        "<h1>FEATURE ENGINEERING</h1>"
      ]
    },
    {
      "cell_type": "code",
      "metadata": {
        "colab": {
          "base_uri": "https://localhost:8080/"
        },
        "id": "DiD_Mbohc1Ob",
        "outputId": "c340c8cb-f802-4d13-bae3-7c44c55aeed2"
      },
      "source": [
        "# vamos a realizar una copia para dejar la data original tal cual esta\n",
        "df_new_venta = df_venta.copy()\n",
        "df_new_venta.info()"
      ],
      "execution_count": 7,
      "outputs": [
        {
          "output_type": "stream",
          "text": [
            "<class 'pandas.core.frame.DataFrame'>\n",
            "RangeIndex: 1406116 entries, 0 to 1406115\n",
            "Data columns (total 10 columns):\n",
            " #   Column            Non-Null Count    Dtype  \n",
            "---  ------            --------------    -----  \n",
            " 0   Año               1406116 non-null  int64  \n",
            " 1   Mes               1406116 non-null  int64  \n",
            " 2   Cliente           1406116 non-null  int64  \n",
            " 3   SegmentoPrecio2   1406116 non-null  object \n",
            " 4   Marca2            1406116 non-null  object \n",
            " 5   Cupo2             1406116 non-null  object \n",
            " 6   CapacidadEnvase2  1406116 non-null  object \n",
            " 7   Volumen           1406116 non-null  float64\n",
            " 8   disc              1406116 non-null  float64\n",
            " 9   nr                1406116 non-null  float64\n",
            "dtypes: float64(3), int64(3), object(4)\n",
            "memory usage: 107.3+ MB\n"
          ],
          "name": "stdout"
        }
      ]
    },
    {
      "cell_type": "code",
      "metadata": {
        "colab": {
          "base_uri": "https://localhost:8080/",
          "height": 402
        },
        "id": "7VIdYWFic3by",
        "outputId": "cafd17cb-d55f-4191-9596-6a87f1568e79"
      },
      "source": [
        "# vamos a unir las tres columnas de Marca2, Cupo2, CapacidadEnvase2 an una Sola\n",
        "# de esta manera al realizar el filtro nos quedara mas facil\n",
        "def createProduct(x):\n",
        "    result = x['Marca2'] + '-' + x['Cupo2'] + '-' + x['CapacidadEnvase2']\n",
        "    return result\n",
        "df_new_venta['producto'] = df_new_venta.apply(createProduct, axis=1)\n",
        "df_new_venta.drop(['Marca2', 'Cupo2', 'CapacidadEnvase2'], axis=1, inplace=True)\n",
        "df_new_venta"
      ],
      "execution_count": 8,
      "outputs": [
        {
          "output_type": "execute_result",
          "data": {
            "text/html": [
              "<div>\n",
              "<style scoped>\n",
              "    .dataframe tbody tr th:only-of-type {\n",
              "        vertical-align: middle;\n",
              "    }\n",
              "\n",
              "    .dataframe tbody tr th {\n",
              "        vertical-align: top;\n",
              "    }\n",
              "\n",
              "    .dataframe thead th {\n",
              "        text-align: right;\n",
              "    }\n",
              "</style>\n",
              "<table border=\"1\" class=\"dataframe\">\n",
              "  <thead>\n",
              "    <tr style=\"text-align: right;\">\n",
              "      <th></th>\n",
              "      <th>Año</th>\n",
              "      <th>Mes</th>\n",
              "      <th>Cliente</th>\n",
              "      <th>SegmentoPrecio2</th>\n",
              "      <th>Volumen</th>\n",
              "      <th>disc</th>\n",
              "      <th>nr</th>\n",
              "      <th>producto</th>\n",
              "    </tr>\n",
              "  </thead>\n",
              "  <tbody>\n",
              "    <tr>\n",
              "      <th>0</th>\n",
              "      <td>2019</td>\n",
              "      <td>5</td>\n",
              "      <td>10</td>\n",
              "      <td>SegmentoPrecio_1</td>\n",
              "      <td>0.112229</td>\n",
              "      <td>-30.590603</td>\n",
              "      <td>900.328567</td>\n",
              "      <td>Marca_1-Cupo_1-CapacidadEnvase_12</td>\n",
              "    </tr>\n",
              "    <tr>\n",
              "      <th>1</th>\n",
              "      <td>2019</td>\n",
              "      <td>5</td>\n",
              "      <td>10</td>\n",
              "      <td>SegmentoPrecio_1</td>\n",
              "      <td>0.021734</td>\n",
              "      <td>0.000000</td>\n",
              "      <td>149.184463</td>\n",
              "      <td>Marca_2-Cupo_2-CapacidadEnvase_10</td>\n",
              "    </tr>\n",
              "    <tr>\n",
              "      <th>2</th>\n",
              "      <td>2019</td>\n",
              "      <td>5</td>\n",
              "      <td>10</td>\n",
              "      <td>SegmentoPrecio_2</td>\n",
              "      <td>0.043469</td>\n",
              "      <td>0.000000</td>\n",
              "      <td>359.625828</td>\n",
              "      <td>Marca_3-Cupo_2-CapacidadEnvase_10</td>\n",
              "    </tr>\n",
              "    <tr>\n",
              "      <th>3</th>\n",
              "      <td>2019</td>\n",
              "      <td>5</td>\n",
              "      <td>10</td>\n",
              "      <td>SegmentoPrecio_1</td>\n",
              "      <td>0.026345</td>\n",
              "      <td>-31.065261</td>\n",
              "      <td>134.748399</td>\n",
              "      <td>Marca_1-Cupo_2-CapacidadEnvase_16</td>\n",
              "    </tr>\n",
              "    <tr>\n",
              "      <th>4</th>\n",
              "      <td>2019</td>\n",
              "      <td>5</td>\n",
              "      <td>10</td>\n",
              "      <td>SegmentoPrecio_1</td>\n",
              "      <td>0.086938</td>\n",
              "      <td>0.000000</td>\n",
              "      <td>496.901005</td>\n",
              "      <td>Marca_4-Cupo_2-CapacidadEnvase_10</td>\n",
              "    </tr>\n",
              "    <tr>\n",
              "      <th>...</th>\n",
              "      <td>...</td>\n",
              "      <td>...</td>\n",
              "      <td>...</td>\n",
              "      <td>...</td>\n",
              "      <td>...</td>\n",
              "      <td>...</td>\n",
              "      <td>...</td>\n",
              "      <td>...</td>\n",
              "    </tr>\n",
              "    <tr>\n",
              "      <th>1406111</th>\n",
              "      <td>2020</td>\n",
              "      <td>8</td>\n",
              "      <td>20577</td>\n",
              "      <td>SegmentoPrecio_3</td>\n",
              "      <td>0.039122</td>\n",
              "      <td>0.000000</td>\n",
              "      <td>544.150314</td>\n",
              "      <td>Marca_39-Cupo_2-CapacidadEnvase_10</td>\n",
              "    </tr>\n",
              "    <tr>\n",
              "      <th>1406112</th>\n",
              "      <td>2020</td>\n",
              "      <td>7</td>\n",
              "      <td>20580</td>\n",
              "      <td>SegmentoPrecio_1</td>\n",
              "      <td>0.000000</td>\n",
              "      <td>0.000000</td>\n",
              "      <td>0.000000</td>\n",
              "      <td>Marca_38-Cupo_2-CapacidadEnvase_10</td>\n",
              "    </tr>\n",
              "    <tr>\n",
              "      <th>1406113</th>\n",
              "      <td>2020</td>\n",
              "      <td>7</td>\n",
              "      <td>20580</td>\n",
              "      <td>SegmentoPrecio_3</td>\n",
              "      <td>0.058683</td>\n",
              "      <td>0.000000</td>\n",
              "      <td>759.218996</td>\n",
              "      <td>Marca_39-Cupo_2-CapacidadEnvase_10</td>\n",
              "    </tr>\n",
              "    <tr>\n",
              "      <th>1406114</th>\n",
              "      <td>2020</td>\n",
              "      <td>9</td>\n",
              "      <td>20580</td>\n",
              "      <td>SegmentoPrecio_1</td>\n",
              "      <td>0.000000</td>\n",
              "      <td>0.000000</td>\n",
              "      <td>0.000000</td>\n",
              "      <td>Marca_38-Cupo_2-CapacidadEnvase_10</td>\n",
              "    </tr>\n",
              "    <tr>\n",
              "      <th>1406115</th>\n",
              "      <td>2020</td>\n",
              "      <td>9</td>\n",
              "      <td>20580</td>\n",
              "      <td>SegmentoPrecio_3</td>\n",
              "      <td>0.019561</td>\n",
              "      <td>0.000000</td>\n",
              "      <td>269.150196</td>\n",
              "      <td>Marca_39-Cupo_2-CapacidadEnvase_10</td>\n",
              "    </tr>\n",
              "  </tbody>\n",
              "</table>\n",
              "<p>1406116 rows × 8 columns</p>\n",
              "</div>"
            ],
            "text/plain": [
              "          Año  Mes  ...          nr                            producto\n",
              "0        2019    5  ...  900.328567   Marca_1-Cupo_1-CapacidadEnvase_12\n",
              "1        2019    5  ...  149.184463   Marca_2-Cupo_2-CapacidadEnvase_10\n",
              "2        2019    5  ...  359.625828   Marca_3-Cupo_2-CapacidadEnvase_10\n",
              "3        2019    5  ...  134.748399   Marca_1-Cupo_2-CapacidadEnvase_16\n",
              "4        2019    5  ...  496.901005   Marca_4-Cupo_2-CapacidadEnvase_10\n",
              "...       ...  ...  ...         ...                                 ...\n",
              "1406111  2020    8  ...  544.150314  Marca_39-Cupo_2-CapacidadEnvase_10\n",
              "1406112  2020    7  ...    0.000000  Marca_38-Cupo_2-CapacidadEnvase_10\n",
              "1406113  2020    7  ...  759.218996  Marca_39-Cupo_2-CapacidadEnvase_10\n",
              "1406114  2020    9  ...    0.000000  Marca_38-Cupo_2-CapacidadEnvase_10\n",
              "1406115  2020    9  ...  269.150196  Marca_39-Cupo_2-CapacidadEnvase_10\n",
              "\n",
              "[1406116 rows x 8 columns]"
            ]
          },
          "metadata": {
            "tags": []
          },
          "execution_count": 8
        }
      ]
    },
    {
      "cell_type": "code",
      "metadata": {
        "colab": {
          "base_uri": "https://localhost:8080/",
          "height": 195
        },
        "id": "B4M646nUdTgb",
        "outputId": "7848b963-13fb-4c27-e5b6-6fb2c4332255"
      },
      "source": [
        "# de nuevo vamos a realizar una copia para mantener df_new_venta tal cual\n",
        "# ya que nos puede servir para mas adelante\n",
        "df_ventas_2 = df_new_venta.drop(['SegmentoPrecio2', 'Volumen', 'disc', 'nr'], axis=1)\n",
        "df_ventas_2 = df_ventas_2.merge(df_est, on=['Cliente'])\n",
        "df_ventas_2.head()"
      ],
      "execution_count": 9,
      "outputs": [
        {
          "output_type": "execute_result",
          "data": {
            "text/html": [
              "<div>\n",
              "<style scoped>\n",
              "    .dataframe tbody tr th:only-of-type {\n",
              "        vertical-align: middle;\n",
              "    }\n",
              "\n",
              "    .dataframe tbody tr th {\n",
              "        vertical-align: top;\n",
              "    }\n",
              "\n",
              "    .dataframe thead th {\n",
              "        text-align: right;\n",
              "    }\n",
              "</style>\n",
              "<table border=\"1\" class=\"dataframe\">\n",
              "  <thead>\n",
              "    <tr style=\"text-align: right;\">\n",
              "      <th></th>\n",
              "      <th>Año</th>\n",
              "      <th>Mes</th>\n",
              "      <th>Cliente</th>\n",
              "      <th>producto</th>\n",
              "      <th>Regional2</th>\n",
              "      <th>Gerencia2</th>\n",
              "      <th>SubCanal2</th>\n",
              "      <th>Categoria</th>\n",
              "      <th>Nevera</th>\n",
              "    </tr>\n",
              "  </thead>\n",
              "  <tbody>\n",
              "    <tr>\n",
              "      <th>0</th>\n",
              "      <td>2019</td>\n",
              "      <td>5</td>\n",
              "      <td>10</td>\n",
              "      <td>Marca_1-Cupo_1-CapacidadEnvase_12</td>\n",
              "      <td>Regional 1</td>\n",
              "      <td>Gerencia_3</td>\n",
              "      <td>Subcanal_1</td>\n",
              "      <td>Categoria_2</td>\n",
              "      <td>1</td>\n",
              "    </tr>\n",
              "    <tr>\n",
              "      <th>1</th>\n",
              "      <td>2019</td>\n",
              "      <td>5</td>\n",
              "      <td>10</td>\n",
              "      <td>Marca_2-Cupo_2-CapacidadEnvase_10</td>\n",
              "      <td>Regional 1</td>\n",
              "      <td>Gerencia_3</td>\n",
              "      <td>Subcanal_1</td>\n",
              "      <td>Categoria_2</td>\n",
              "      <td>1</td>\n",
              "    </tr>\n",
              "    <tr>\n",
              "      <th>2</th>\n",
              "      <td>2019</td>\n",
              "      <td>5</td>\n",
              "      <td>10</td>\n",
              "      <td>Marca_3-Cupo_2-CapacidadEnvase_10</td>\n",
              "      <td>Regional 1</td>\n",
              "      <td>Gerencia_3</td>\n",
              "      <td>Subcanal_1</td>\n",
              "      <td>Categoria_2</td>\n",
              "      <td>1</td>\n",
              "    </tr>\n",
              "    <tr>\n",
              "      <th>3</th>\n",
              "      <td>2019</td>\n",
              "      <td>5</td>\n",
              "      <td>10</td>\n",
              "      <td>Marca_1-Cupo_2-CapacidadEnvase_16</td>\n",
              "      <td>Regional 1</td>\n",
              "      <td>Gerencia_3</td>\n",
              "      <td>Subcanal_1</td>\n",
              "      <td>Categoria_2</td>\n",
              "      <td>1</td>\n",
              "    </tr>\n",
              "    <tr>\n",
              "      <th>4</th>\n",
              "      <td>2019</td>\n",
              "      <td>5</td>\n",
              "      <td>10</td>\n",
              "      <td>Marca_4-Cupo_2-CapacidadEnvase_10</td>\n",
              "      <td>Regional 1</td>\n",
              "      <td>Gerencia_3</td>\n",
              "      <td>Subcanal_1</td>\n",
              "      <td>Categoria_2</td>\n",
              "      <td>1</td>\n",
              "    </tr>\n",
              "  </tbody>\n",
              "</table>\n",
              "</div>"
            ],
            "text/plain": [
              "    Año  Mes  Cliente  ...   SubCanal2    Categoria Nevera\n",
              "0  2019    5       10  ...  Subcanal_1  Categoria_2      1\n",
              "1  2019    5       10  ...  Subcanal_1  Categoria_2      1\n",
              "2  2019    5       10  ...  Subcanal_1  Categoria_2      1\n",
              "3  2019    5       10  ...  Subcanal_1  Categoria_2      1\n",
              "4  2019    5       10  ...  Subcanal_1  Categoria_2      1\n",
              "\n",
              "[5 rows x 9 columns]"
            ]
          },
          "metadata": {
            "tags": []
          },
          "execution_count": 9
        }
      ]
    },
    {
      "cell_type": "markdown",
      "metadata": {
        "id": "0T1Cn79ltYNJ"
      },
      "source": [
        "<h1>RandomForest</h1>\n"
      ]
    },
    {
      "cell_type": "code",
      "metadata": {
        "id": "gVtDJT2-wgzc"
      },
      "source": [
        "# Aqui vamos a realizar un nuevo feature Engineering donde cambiaremos a 0 y 1 si\n",
        "# la marca a predecir fue comprada o no\n",
        "\n",
        "def marca_uno(x):\n",
        "  if str(x) == 'Marca_20-Cupo_3-CapacidadEnvase_9':\n",
        "    return 1\n",
        "  else:\n",
        "    return 0\n",
        "\n",
        "def marca_dos(x):\n",
        "  if str(x) == 'Marca_16-Cupo_2-CapacidadEnvase_10':\n",
        "    return 1\n",
        "  else:\n",
        "    return 0\n",
        "\n",
        "def marca_tres(x):\n",
        "  if str(x) == 'Marca_9-Cupo_3-CapacidadEnvase_12':\n",
        "    return 1\n",
        "  else:\n",
        "    return 0\n",
        "\n",
        "def marca_Inno_uno(x):\n",
        "  if str(x) == 'Marca_38-Cupo_2-CapacidadEnvase_10':\n",
        "    return 1\n",
        "  else:\n",
        "    return 0\n",
        "\n",
        "def marca_Inno_dos(x):\n",
        "  if str(x) == 'Marca_39-Cupo_2-CapacidadEnvase_10':\n",
        "    return 1\n",
        "  else:\n",
        "    return 0"
      ],
      "execution_count": 10,
      "outputs": []
    },
    {
      "cell_type": "code",
      "metadata": {
        "id": "R0pKvX3exRsz"
      },
      "source": [
        "df_ventas_2['Marca1'] = df_ventas_2['producto'].apply(marca_uno)\n",
        "df_ventas_2['Marca2'] = df_ventas_2['producto'].apply(marca_dos)\n",
        "df_ventas_2['Marca3'] = df_ventas_2['producto'].apply(marca_tres)\n",
        "df_ventas_2['MarcaInno1'] = df_ventas_2['producto'].apply(marca_Inno_uno)\n",
        "df_ventas_2['MarcaInno2'] = df_ventas_2['producto'].apply(marca_Inno_dos)"
      ],
      "execution_count": 11,
      "outputs": []
    },
    {
      "cell_type": "code",
      "metadata": {
        "colab": {
          "base_uri": "https://localhost:8080/",
          "height": 402
        },
        "id": "0bOMBVDLxRZk",
        "outputId": "6eff62f4-a076-4602-cebe-757eb041ef93"
      },
      "source": [
        "aux = df_ventas_2[['Año', 'Mes', 'Cliente', 'Marca1', 'Marca2', 'Marca3', 'MarcaInno1', 'MarcaInno2']]\n",
        "aux_group = aux.groupby(['Año', 'Mes', 'Cliente']).sum()\n",
        "result = aux_group.reset_index()\n",
        "result"
      ],
      "execution_count": 12,
      "outputs": [
        {
          "output_type": "execute_result",
          "data": {
            "text/html": [
              "<div>\n",
              "<style scoped>\n",
              "    .dataframe tbody tr th:only-of-type {\n",
              "        vertical-align: middle;\n",
              "    }\n",
              "\n",
              "    .dataframe tbody tr th {\n",
              "        vertical-align: top;\n",
              "    }\n",
              "\n",
              "    .dataframe thead th {\n",
              "        text-align: right;\n",
              "    }\n",
              "</style>\n",
              "<table border=\"1\" class=\"dataframe\">\n",
              "  <thead>\n",
              "    <tr style=\"text-align: right;\">\n",
              "      <th></th>\n",
              "      <th>Año</th>\n",
              "      <th>Mes</th>\n",
              "      <th>Cliente</th>\n",
              "      <th>Marca1</th>\n",
              "      <th>Marca2</th>\n",
              "      <th>Marca3</th>\n",
              "      <th>MarcaInno1</th>\n",
              "      <th>MarcaInno2</th>\n",
              "    </tr>\n",
              "  </thead>\n",
              "  <tbody>\n",
              "    <tr>\n",
              "      <th>0</th>\n",
              "      <td>2019</td>\n",
              "      <td>5</td>\n",
              "      <td>9</td>\n",
              "      <td>0</td>\n",
              "      <td>0</td>\n",
              "      <td>0</td>\n",
              "      <td>0</td>\n",
              "      <td>0</td>\n",
              "    </tr>\n",
              "    <tr>\n",
              "      <th>1</th>\n",
              "      <td>2019</td>\n",
              "      <td>5</td>\n",
              "      <td>10</td>\n",
              "      <td>0</td>\n",
              "      <td>0</td>\n",
              "      <td>0</td>\n",
              "      <td>0</td>\n",
              "      <td>0</td>\n",
              "    </tr>\n",
              "    <tr>\n",
              "      <th>2</th>\n",
              "      <td>2019</td>\n",
              "      <td>5</td>\n",
              "      <td>11</td>\n",
              "      <td>0</td>\n",
              "      <td>0</td>\n",
              "      <td>0</td>\n",
              "      <td>0</td>\n",
              "      <td>0</td>\n",
              "    </tr>\n",
              "    <tr>\n",
              "      <th>3</th>\n",
              "      <td>2019</td>\n",
              "      <td>5</td>\n",
              "      <td>12</td>\n",
              "      <td>0</td>\n",
              "      <td>1</td>\n",
              "      <td>0</td>\n",
              "      <td>0</td>\n",
              "      <td>0</td>\n",
              "    </tr>\n",
              "    <tr>\n",
              "      <th>4</th>\n",
              "      <td>2019</td>\n",
              "      <td>5</td>\n",
              "      <td>13</td>\n",
              "      <td>0</td>\n",
              "      <td>0</td>\n",
              "      <td>0</td>\n",
              "      <td>0</td>\n",
              "      <td>0</td>\n",
              "    </tr>\n",
              "    <tr>\n",
              "      <th>...</th>\n",
              "      <td>...</td>\n",
              "      <td>...</td>\n",
              "      <td>...</td>\n",
              "      <td>...</td>\n",
              "      <td>...</td>\n",
              "      <td>...</td>\n",
              "      <td>...</td>\n",
              "      <td>...</td>\n",
              "    </tr>\n",
              "    <tr>\n",
              "      <th>204631</th>\n",
              "      <td>2020</td>\n",
              "      <td>9</td>\n",
              "      <td>20411</td>\n",
              "      <td>0</td>\n",
              "      <td>0</td>\n",
              "      <td>0</td>\n",
              "      <td>1</td>\n",
              "      <td>1</td>\n",
              "    </tr>\n",
              "    <tr>\n",
              "      <th>204632</th>\n",
              "      <td>2020</td>\n",
              "      <td>9</td>\n",
              "      <td>20414</td>\n",
              "      <td>0</td>\n",
              "      <td>0</td>\n",
              "      <td>0</td>\n",
              "      <td>1</td>\n",
              "      <td>1</td>\n",
              "    </tr>\n",
              "    <tr>\n",
              "      <th>204633</th>\n",
              "      <td>2020</td>\n",
              "      <td>9</td>\n",
              "      <td>20434</td>\n",
              "      <td>0</td>\n",
              "      <td>0</td>\n",
              "      <td>0</td>\n",
              "      <td>1</td>\n",
              "      <td>1</td>\n",
              "    </tr>\n",
              "    <tr>\n",
              "      <th>204634</th>\n",
              "      <td>2020</td>\n",
              "      <td>9</td>\n",
              "      <td>20456</td>\n",
              "      <td>0</td>\n",
              "      <td>0</td>\n",
              "      <td>0</td>\n",
              "      <td>1</td>\n",
              "      <td>1</td>\n",
              "    </tr>\n",
              "    <tr>\n",
              "      <th>204635</th>\n",
              "      <td>2020</td>\n",
              "      <td>9</td>\n",
              "      <td>20580</td>\n",
              "      <td>0</td>\n",
              "      <td>0</td>\n",
              "      <td>0</td>\n",
              "      <td>1</td>\n",
              "      <td>1</td>\n",
              "    </tr>\n",
              "  </tbody>\n",
              "</table>\n",
              "<p>204636 rows × 8 columns</p>\n",
              "</div>"
            ],
            "text/plain": [
              "         Año  Mes  Cliente  Marca1  Marca2  Marca3  MarcaInno1  MarcaInno2\n",
              "0       2019    5        9       0       0       0           0           0\n",
              "1       2019    5       10       0       0       0           0           0\n",
              "2       2019    5       11       0       0       0           0           0\n",
              "3       2019    5       12       0       1       0           0           0\n",
              "4       2019    5       13       0       0       0           0           0\n",
              "...      ...  ...      ...     ...     ...     ...         ...         ...\n",
              "204631  2020    9    20411       0       0       0           1           1\n",
              "204632  2020    9    20414       0       0       0           1           1\n",
              "204633  2020    9    20434       0       0       0           1           1\n",
              "204634  2020    9    20456       0       0       0           1           1\n",
              "204635  2020    9    20580       0       0       0           1           1\n",
              "\n",
              "[204636 rows x 8 columns]"
            ]
          },
          "metadata": {
            "tags": []
          },
          "execution_count": 12
        }
      ]
    },
    {
      "cell_type": "code",
      "metadata": {
        "id": "acSCzugC0e7d"
      },
      "source": [
        "# este proceso se tiene que realizar para pasarlo por el RandomForest sin problemas\n",
        "cliente_info = df_est.copy()\n",
        "\n",
        "cliente_info['Regional2'] = cliente_info['Regional2'].astype('category')\n",
        "cliente_info['Gerencia2'] = cliente_info['Gerencia2'].astype('category')\n",
        "cliente_info['SubCanal2'] = cliente_info['SubCanal2'].astype('category')\n",
        "cliente_info['Categoria'] = cliente_info['Categoria'].astype('category')\n",
        "\n",
        "cliente_info['Regional2'] = cliente_info.Regional2.cat.codes\n",
        "cliente_info['Gerencia2'] = cliente_info.Gerencia2.cat.codes\n",
        "cliente_info['SubCanal2'] = cliente_info.SubCanal2.cat.codes\n",
        "cliente_info['Categoria'] = cliente_info.Categoria.cat.codes"
      ],
      "execution_count": 13,
      "outputs": []
    },
    {
      "cell_type": "markdown",
      "metadata": {
        "id": "Lqj-zJkFxNDX"
      },
      "source": [
        "primer producto"
      ]
    },
    {
      "cell_type": "code",
      "metadata": {
        "id": "HviOBjqxyS1o"
      },
      "source": [
        "primer_producto = result[['Año', 'Mes', 'Cliente', 'Marca1']]"
      ],
      "execution_count": 14,
      "outputs": []
    },
    {
      "cell_type": "code",
      "metadata": {
        "colab": {
          "base_uri": "https://localhost:8080/",
          "height": 402
        },
        "id": "wD2Rn9bQ0iWk",
        "outputId": "fe0857f7-bb50-4132-d52d-ec55dd188f74"
      },
      "source": [
        "primer_producto = primer_producto.merge(cliente_info, on='Cliente')\n",
        "primer_producto"
      ],
      "execution_count": 15,
      "outputs": [
        {
          "output_type": "execute_result",
          "data": {
            "text/html": [
              "<div>\n",
              "<style scoped>\n",
              "    .dataframe tbody tr th:only-of-type {\n",
              "        vertical-align: middle;\n",
              "    }\n",
              "\n",
              "    .dataframe tbody tr th {\n",
              "        vertical-align: top;\n",
              "    }\n",
              "\n",
              "    .dataframe thead th {\n",
              "        text-align: right;\n",
              "    }\n",
              "</style>\n",
              "<table border=\"1\" class=\"dataframe\">\n",
              "  <thead>\n",
              "    <tr style=\"text-align: right;\">\n",
              "      <th></th>\n",
              "      <th>Año</th>\n",
              "      <th>Mes</th>\n",
              "      <th>Cliente</th>\n",
              "      <th>Marca1</th>\n",
              "      <th>Regional2</th>\n",
              "      <th>Gerencia2</th>\n",
              "      <th>SubCanal2</th>\n",
              "      <th>Categoria</th>\n",
              "      <th>Nevera</th>\n",
              "    </tr>\n",
              "  </thead>\n",
              "  <tbody>\n",
              "    <tr>\n",
              "      <th>0</th>\n",
              "      <td>2019</td>\n",
              "      <td>5</td>\n",
              "      <td>9</td>\n",
              "      <td>0</td>\n",
              "      <td>0</td>\n",
              "      <td>3</td>\n",
              "      <td>22</td>\n",
              "      <td>2</td>\n",
              "      <td>1</td>\n",
              "    </tr>\n",
              "    <tr>\n",
              "      <th>1</th>\n",
              "      <td>2019</td>\n",
              "      <td>6</td>\n",
              "      <td>9</td>\n",
              "      <td>0</td>\n",
              "      <td>0</td>\n",
              "      <td>3</td>\n",
              "      <td>22</td>\n",
              "      <td>2</td>\n",
              "      <td>1</td>\n",
              "    </tr>\n",
              "    <tr>\n",
              "      <th>2</th>\n",
              "      <td>2019</td>\n",
              "      <td>7</td>\n",
              "      <td>9</td>\n",
              "      <td>0</td>\n",
              "      <td>0</td>\n",
              "      <td>3</td>\n",
              "      <td>22</td>\n",
              "      <td>2</td>\n",
              "      <td>1</td>\n",
              "    </tr>\n",
              "    <tr>\n",
              "      <th>3</th>\n",
              "      <td>2019</td>\n",
              "      <td>8</td>\n",
              "      <td>9</td>\n",
              "      <td>0</td>\n",
              "      <td>0</td>\n",
              "      <td>3</td>\n",
              "      <td>22</td>\n",
              "      <td>2</td>\n",
              "      <td>1</td>\n",
              "    </tr>\n",
              "    <tr>\n",
              "      <th>4</th>\n",
              "      <td>2019</td>\n",
              "      <td>9</td>\n",
              "      <td>9</td>\n",
              "      <td>0</td>\n",
              "      <td>0</td>\n",
              "      <td>3</td>\n",
              "      <td>22</td>\n",
              "      <td>2</td>\n",
              "      <td>1</td>\n",
              "    </tr>\n",
              "    <tr>\n",
              "      <th>...</th>\n",
              "      <td>...</td>\n",
              "      <td>...</td>\n",
              "      <td>...</td>\n",
              "      <td>...</td>\n",
              "      <td>...</td>\n",
              "      <td>...</td>\n",
              "      <td>...</td>\n",
              "      <td>...</td>\n",
              "      <td>...</td>\n",
              "    </tr>\n",
              "    <tr>\n",
              "      <th>204631</th>\n",
              "      <td>2020</td>\n",
              "      <td>9</td>\n",
              "      <td>20186</td>\n",
              "      <td>0</td>\n",
              "      <td>0</td>\n",
              "      <td>10</td>\n",
              "      <td>29</td>\n",
              "      <td>0</td>\n",
              "      <td>0</td>\n",
              "    </tr>\n",
              "    <tr>\n",
              "      <th>204632</th>\n",
              "      <td>2020</td>\n",
              "      <td>9</td>\n",
              "      <td>20309</td>\n",
              "      <td>0</td>\n",
              "      <td>0</td>\n",
              "      <td>1</td>\n",
              "      <td>22</td>\n",
              "      <td>2</td>\n",
              "      <td>0</td>\n",
              "    </tr>\n",
              "    <tr>\n",
              "      <th>204633</th>\n",
              "      <td>2020</td>\n",
              "      <td>9</td>\n",
              "      <td>20312</td>\n",
              "      <td>0</td>\n",
              "      <td>0</td>\n",
              "      <td>7</td>\n",
              "      <td>27</td>\n",
              "      <td>1</td>\n",
              "      <td>0</td>\n",
              "    </tr>\n",
              "    <tr>\n",
              "      <th>204634</th>\n",
              "      <td>2020</td>\n",
              "      <td>9</td>\n",
              "      <td>20434</td>\n",
              "      <td>0</td>\n",
              "      <td>0</td>\n",
              "      <td>1</td>\n",
              "      <td>24</td>\n",
              "      <td>2</td>\n",
              "      <td>0</td>\n",
              "    </tr>\n",
              "    <tr>\n",
              "      <th>204635</th>\n",
              "      <td>2020</td>\n",
              "      <td>9</td>\n",
              "      <td>20456</td>\n",
              "      <td>0</td>\n",
              "      <td>0</td>\n",
              "      <td>1</td>\n",
              "      <td>0</td>\n",
              "      <td>1</td>\n",
              "      <td>0</td>\n",
              "    </tr>\n",
              "  </tbody>\n",
              "</table>\n",
              "<p>204636 rows × 9 columns</p>\n",
              "</div>"
            ],
            "text/plain": [
              "         Año  Mes  Cliente  Marca1  ...  Gerencia2  SubCanal2  Categoria  Nevera\n",
              "0       2019    5        9       0  ...          3         22          2       1\n",
              "1       2019    6        9       0  ...          3         22          2       1\n",
              "2       2019    7        9       0  ...          3         22          2       1\n",
              "3       2019    8        9       0  ...          3         22          2       1\n",
              "4       2019    9        9       0  ...          3         22          2       1\n",
              "...      ...  ...      ...     ...  ...        ...        ...        ...     ...\n",
              "204631  2020    9    20186       0  ...         10         29          0       0\n",
              "204632  2020    9    20309       0  ...          1         22          2       0\n",
              "204633  2020    9    20312       0  ...          7         27          1       0\n",
              "204634  2020    9    20434       0  ...          1         24          2       0\n",
              "204635  2020    9    20456       0  ...          1          0          1       0\n",
              "\n",
              "[204636 rows x 9 columns]"
            ]
          },
          "metadata": {
            "tags": []
          },
          "execution_count": 15
        }
      ]
    },
    {
      "cell_type": "code",
      "metadata": {
        "id": "AAj6QGaUWBe1"
      },
      "source": [
        "# primer Marca a predecir\n",
        "y = primer_producto['Marca1']\n",
        "x = primer_producto[['Año', 'Mes', 'Cliente', 'Regional2', 'Gerencia2', 'SubCanal2', 'Categoria', 'Nevera']]"
      ],
      "execution_count": 16,
      "outputs": []
    },
    {
      "cell_type": "code",
      "metadata": {
        "id": "JQ5sig9cWkOl"
      },
      "source": [
        "X_train, X_test, y_train, y_test = train_test_split(x, y, test_size=0.2, random_state=42)"
      ],
      "execution_count": 17,
      "outputs": []
    },
    {
      "cell_type": "code",
      "metadata": {
        "colab": {
          "base_uri": "https://localhost:8080/"
        },
        "id": "RXvObbEWW1rT",
        "outputId": "b19b4fc2-8fad-49d4-800c-afd81801caa6"
      },
      "source": [
        "clf1 = RandomForestClassifier(max_depth=2, random_state=42)\n",
        "clf1.fit(X_train, y_train)"
      ],
      "execution_count": 18,
      "outputs": [
        {
          "output_type": "execute_result",
          "data": {
            "text/plain": [
              "RandomForestClassifier(bootstrap=True, ccp_alpha=0.0, class_weight=None,\n",
              "                       criterion='gini', max_depth=2, max_features='auto',\n",
              "                       max_leaf_nodes=None, max_samples=None,\n",
              "                       min_impurity_decrease=0.0, min_impurity_split=None,\n",
              "                       min_samples_leaf=1, min_samples_split=2,\n",
              "                       min_weight_fraction_leaf=0.0, n_estimators=100,\n",
              "                       n_jobs=None, oob_score=False, random_state=42, verbose=0,\n",
              "                       warm_start=False)"
            ]
          },
          "metadata": {
            "tags": []
          },
          "execution_count": 18
        }
      ]
    },
    {
      "cell_type": "code",
      "metadata": {
        "colab": {
          "base_uri": "https://localhost:8080/"
        },
        "id": "7cGvRG3seNJa",
        "outputId": "da1ab81d-a825-47f5-ef6c-e37eb6b87ca1"
      },
      "source": [
        "answer = clf1.predict(X_test)\n",
        "ans = clf1.predict_proba(X_test)\n",
        "print(ans)\n",
        "print(clf1.classes_)"
      ],
      "execution_count": 19,
      "outputs": [
        {
          "output_type": "stream",
          "text": [
            "[[0.992006   0.007994  ]\n",
            " [0.98616139 0.01383861]\n",
            " [0.97807069 0.02192931]\n",
            " ...\n",
            " [0.94371954 0.05628046]\n",
            " [0.98602662 0.01397338]\n",
            " [0.98382524 0.01617476]]\n",
            "[0 1]\n"
          ],
          "name": "stdout"
        }
      ]
    },
    {
      "cell_type": "code",
      "metadata": {
        "colab": {
          "base_uri": "https://localhost:8080/"
        },
        "id": "7e1fpoFXeZie",
        "outputId": "fc796c83-1675-4e19-fa99-168a6e4363fc"
      },
      "source": [
        "acc_score = accuracy_score(y_test, answer)\n",
        "print(acc_score)\n",
        "roc = roc_curve(y_test, answer)\n",
        "print(roc)\n",
        "auc_score = auc(roc[0], roc[1])\n",
        "print(auc_score)"
      ],
      "execution_count": 20,
      "outputs": [
        {
          "output_type": "stream",
          "text": [
            "0.9736121970289289\n",
            "(array([0., 1.]), array([0., 1.]), array([1, 0]))\n",
            "0.5\n"
          ],
          "name": "stdout"
        }
      ]
    },
    {
      "cell_type": "markdown",
      "metadata": {
        "id": "g7sRezJchI4i"
      },
      "source": [
        "segundo producto\n",
        "\n"
      ]
    },
    {
      "cell_type": "code",
      "metadata": {
        "colab": {
          "base_uri": "https://localhost:8080/"
        },
        "id": "2HCxHLnCiLoC",
        "outputId": "0aa3ba56-1196-49fc-c683-f3a8aeb77d2a"
      },
      "source": [
        "segundo_producto = result[['Año', 'Mes', 'Cliente', 'Marca2']]\n",
        "segundo_producto = segundo_producto.merge(cliente_info, on='Cliente')\n",
        "\n",
        "# separacion de data y separacion entre train y test data\n",
        "y = segundo_producto['Marca2']\n",
        "x = segundo_producto[['Año', 'Mes', 'Cliente', 'Regional2', 'Gerencia2', 'SubCanal2', 'Categoria', 'Nevera']]\n",
        "X_train, X_test, y_train, y_test = train_test_split(x, y, test_size=0.2, random_state=42)\n",
        "\n",
        "# Modelo\n",
        "clf2 = RandomForestClassifier(max_depth=2, random_state=42)\n",
        "clf2.fit(X_train, y_train)\n",
        "\n",
        "# Medidas\n",
        "answer = clf2.predict(X_test)\n",
        "acc_score = accuracy_score(y_test, answer)\n",
        "print(acc_score)\n",
        "roc = roc_curve(y_test, answer)\n",
        "print(roc)\n",
        "auc_score = auc(roc[0], roc[1])\n",
        "print(auc_score)"
      ],
      "execution_count": 21,
      "outputs": [
        {
          "output_type": "stream",
          "text": [
            "0.9521354573885848\n",
            "(array([0., 1.]), array([0., 1.]), array([1, 0]))\n",
            "0.5\n"
          ],
          "name": "stdout"
        }
      ]
    },
    {
      "cell_type": "markdown",
      "metadata": {
        "id": "4Ya1RzmGi7Ux"
      },
      "source": [
        "tercer producto"
      ]
    },
    {
      "cell_type": "code",
      "metadata": {
        "colab": {
          "base_uri": "https://localhost:8080/"
        },
        "id": "E99CDF-Ri7HO",
        "outputId": "d30c46a8-26ff-4faf-d788-8747f2e49dce"
      },
      "source": [
        "tercer_producto = result[['Año', 'Mes', 'Cliente', 'Marca3']]\n",
        "tercer_producto = tercer_producto.merge(cliente_info, on='Cliente')\n",
        "\n",
        "# separacion de data y separacion entre train y test data\n",
        "y = tercer_producto['Marca3']\n",
        "x = tercer_producto[['Año', 'Mes', 'Cliente', 'Regional2', 'Gerencia2', 'SubCanal2', 'Categoria', 'Nevera']]\n",
        "\n",
        "# Modelo\n",
        "X_train, X_test, y_train, y_test = train_test_split(x, y, test_size=0.2, random_state=42)\n",
        "clf3 = RandomForestClassifier(max_depth=2, random_state=42)\n",
        "clf3.fit(X_train, y_train)\n",
        "\n",
        "# Medidas\n",
        "answer = clf3.predict(X_test)\n",
        "acc_score = accuracy_score(y_test, answer)\n",
        "print(acc_score)\n",
        "roc = roc_curve(y_test, answer)\n",
        "print(roc)\n",
        "auc_score = auc(roc[0], roc[1])\n",
        "print(auc_score)"
      ],
      "execution_count": 22,
      "outputs": [
        {
          "output_type": "stream",
          "text": [
            "0.7238809616888194\n",
            "(array([0., 1.]), array([0., 1.]), array([1, 0]))\n",
            "0.5\n"
          ],
          "name": "stdout"
        }
      ]
    },
    {
      "cell_type": "markdown",
      "metadata": {
        "id": "A5zq0rhzjjLM"
      },
      "source": [
        "cuarto producto"
      ]
    },
    {
      "cell_type": "code",
      "metadata": {
        "colab": {
          "base_uri": "https://localhost:8080/"
        },
        "id": "rpatTAm1jkyF",
        "outputId": "bf6f26ec-29e7-429c-af34-8f937779194d"
      },
      "source": [
        "cuarto_producto = result[['Año', 'Mes', 'Cliente', 'MarcaInno1']]\n",
        "cuarto_producto = cuarto_producto.merge(cliente_info, on='Cliente')\n",
        "\n",
        "# separacion de data y separacion entre train y test data\n",
        "y = cuarto_producto['MarcaInno1']\n",
        "x = cuarto_producto[['Año', 'Mes', 'Cliente', 'Regional2', 'Gerencia2', 'SubCanal2', 'Categoria', 'Nevera']]\n",
        "\n",
        "# Modelo\n",
        "X_train, X_test, y_train, y_test = train_test_split(x, y, test_size=0.2, random_state=42)\n",
        "clf4 = RandomForestClassifier(max_depth=2, random_state=42)\n",
        "clf4.fit(X_train, y_train)\n",
        "\n",
        "# Medidas\n",
        "answer = clf4.predict(X_test)\n",
        "acc_score = accuracy_score(y_test, answer)\n",
        "print(acc_score)\n",
        "roc = roc_curve(y_test, answer)\n",
        "print(roc)\n",
        "auc_score = auc(roc[0], roc[1])\n",
        "print(auc_score)"
      ],
      "execution_count": 23,
      "outputs": [
        {
          "output_type": "stream",
          "text": [
            "0.9568999218139171\n",
            "(array([0., 1.]), array([0., 1.]), array([1, 0]))\n",
            "0.5\n"
          ],
          "name": "stdout"
        }
      ]
    },
    {
      "cell_type": "markdown",
      "metadata": {
        "id": "WrC5GuxDj9Rj"
      },
      "source": [
        "quinto producto"
      ]
    },
    {
      "cell_type": "code",
      "metadata": {
        "colab": {
          "base_uri": "https://localhost:8080/"
        },
        "id": "K3x5S9K7j9GT",
        "outputId": "2f035ae3-ec7a-429b-d87c-3fac09ba5e9d"
      },
      "source": [
        "quinto_producto = result[['Año', 'Mes', 'Cliente', 'MarcaInno2']]\n",
        "quinto_producto = quinto_producto.merge(cliente_info, on='Cliente')\n",
        "\n",
        "# separacion de data y separacion entre train y test data\n",
        "y = quinto_producto['MarcaInno2']\n",
        "x = quinto_producto[['Año', 'Mes', 'Cliente', 'Regional2', 'Gerencia2', 'SubCanal2', 'Categoria', 'Nevera']]\n",
        "\n",
        "# Modelo\n",
        "X_train, X_test, y_train, y_test = train_test_split(x, y, test_size=0.2, random_state=42)\n",
        "clf5 = RandomForestClassifier(max_depth=2, random_state=42)\n",
        "clf5.fit(X_train, y_train)\n",
        "\n",
        "answer = clf5.predict(X_test)\n",
        "acc_score = accuracy_score(y_test, answer)\n",
        "print(acc_score)\n",
        "roc = roc_curve(y_test, answer)\n",
        "print(roc)\n",
        "auc_score = auc(roc[0], roc[1])\n",
        "print(auc_score)"
      ],
      "execution_count": 24,
      "outputs": [
        {
          "output_type": "stream",
          "text": [
            "0.9568999218139171\n",
            "(array([0., 1.]), array([0., 1.]), array([1, 0]))\n",
            "0.5\n"
          ],
          "name": "stdout"
        }
      ]
    },
    {
      "cell_type": "markdown",
      "metadata": {
        "id": "OtmTTTILkRxF"
      },
      "source": [
        "LLENANDO TEST"
      ]
    },
    {
      "cell_type": "code",
      "metadata": {
        "id": "CUYg99p5kTWJ"
      },
      "source": [
        "df_test = pd.read_csv(path + 'Input3_clientes_test.csv', sep=';')"
      ],
      "execution_count": 25,
      "outputs": []
    },
    {
      "cell_type": "code",
      "metadata": {
        "colab": {
          "base_uri": "https://localhost:8080/",
          "height": 402
        },
        "id": "lkCTyoZ2kbnD",
        "outputId": "26b0b1e9-416e-437d-a23a-16894f14e6dc"
      },
      "source": [
        "df_test"
      ],
      "execution_count": 26,
      "outputs": [
        {
          "output_type": "execute_result",
          "data": {
            "text/html": [
              "<div>\n",
              "<style scoped>\n",
              "    .dataframe tbody tr th:only-of-type {\n",
              "        vertical-align: middle;\n",
              "    }\n",
              "\n",
              "    .dataframe tbody tr th {\n",
              "        vertical-align: top;\n",
              "    }\n",
              "\n",
              "    .dataframe thead th {\n",
              "        text-align: right;\n",
              "    }\n",
              "</style>\n",
              "<table border=\"1\" class=\"dataframe\">\n",
              "  <thead>\n",
              "    <tr style=\"text-align: right;\">\n",
              "      <th></th>\n",
              "      <th>Cliente</th>\n",
              "      <th>Marca1</th>\n",
              "      <th>Marca2</th>\n",
              "      <th>Marca3</th>\n",
              "      <th>Marca_Inno1</th>\n",
              "      <th>Marca_Inno2</th>\n",
              "    </tr>\n",
              "  </thead>\n",
              "  <tbody>\n",
              "    <tr>\n",
              "      <th>0</th>\n",
              "      <td>10</td>\n",
              "      <td>NaN</td>\n",
              "      <td>NaN</td>\n",
              "      <td>NaN</td>\n",
              "      <td>NaN</td>\n",
              "      <td>NaN</td>\n",
              "    </tr>\n",
              "    <tr>\n",
              "      <th>1</th>\n",
              "      <td>12</td>\n",
              "      <td>NaN</td>\n",
              "      <td>NaN</td>\n",
              "      <td>NaN</td>\n",
              "      <td>NaN</td>\n",
              "      <td>NaN</td>\n",
              "    </tr>\n",
              "    <tr>\n",
              "      <th>2</th>\n",
              "      <td>14</td>\n",
              "      <td>NaN</td>\n",
              "      <td>NaN</td>\n",
              "      <td>NaN</td>\n",
              "      <td>NaN</td>\n",
              "      <td>NaN</td>\n",
              "    </tr>\n",
              "    <tr>\n",
              "      <th>3</th>\n",
              "      <td>15</td>\n",
              "      <td>NaN</td>\n",
              "      <td>NaN</td>\n",
              "      <td>NaN</td>\n",
              "      <td>NaN</td>\n",
              "      <td>NaN</td>\n",
              "    </tr>\n",
              "    <tr>\n",
              "      <th>4</th>\n",
              "      <td>18</td>\n",
              "      <td>NaN</td>\n",
              "      <td>NaN</td>\n",
              "      <td>NaN</td>\n",
              "      <td>NaN</td>\n",
              "      <td>NaN</td>\n",
              "    </tr>\n",
              "    <tr>\n",
              "      <th>...</th>\n",
              "      <td>...</td>\n",
              "      <td>...</td>\n",
              "      <td>...</td>\n",
              "      <td>...</td>\n",
              "      <td>...</td>\n",
              "      <td>...</td>\n",
              "    </tr>\n",
              "    <tr>\n",
              "      <th>9297</th>\n",
              "      <td>20186</td>\n",
              "      <td>NaN</td>\n",
              "      <td>NaN</td>\n",
              "      <td>NaN</td>\n",
              "      <td>NaN</td>\n",
              "      <td>NaN</td>\n",
              "    </tr>\n",
              "    <tr>\n",
              "      <th>9298</th>\n",
              "      <td>20261</td>\n",
              "      <td>NaN</td>\n",
              "      <td>NaN</td>\n",
              "      <td>NaN</td>\n",
              "      <td>NaN</td>\n",
              "      <td>NaN</td>\n",
              "    </tr>\n",
              "    <tr>\n",
              "      <th>9299</th>\n",
              "      <td>20309</td>\n",
              "      <td>NaN</td>\n",
              "      <td>NaN</td>\n",
              "      <td>NaN</td>\n",
              "      <td>NaN</td>\n",
              "      <td>NaN</td>\n",
              "    </tr>\n",
              "    <tr>\n",
              "      <th>9300</th>\n",
              "      <td>20360</td>\n",
              "      <td>NaN</td>\n",
              "      <td>NaN</td>\n",
              "      <td>NaN</td>\n",
              "      <td>NaN</td>\n",
              "      <td>NaN</td>\n",
              "    </tr>\n",
              "    <tr>\n",
              "      <th>9301</th>\n",
              "      <td>20569</td>\n",
              "      <td>NaN</td>\n",
              "      <td>NaN</td>\n",
              "      <td>NaN</td>\n",
              "      <td>NaN</td>\n",
              "      <td>NaN</td>\n",
              "    </tr>\n",
              "  </tbody>\n",
              "</table>\n",
              "<p>9302 rows × 6 columns</p>\n",
              "</div>"
            ],
            "text/plain": [
              "      Cliente  Marca1  Marca2  Marca3  Marca_Inno1  Marca_Inno2\n",
              "0          10     NaN     NaN     NaN          NaN          NaN\n",
              "1          12     NaN     NaN     NaN          NaN          NaN\n",
              "2          14     NaN     NaN     NaN          NaN          NaN\n",
              "3          15     NaN     NaN     NaN          NaN          NaN\n",
              "4          18     NaN     NaN     NaN          NaN          NaN\n",
              "...       ...     ...     ...     ...          ...          ...\n",
              "9297    20186     NaN     NaN     NaN          NaN          NaN\n",
              "9298    20261     NaN     NaN     NaN          NaN          NaN\n",
              "9299    20309     NaN     NaN     NaN          NaN          NaN\n",
              "9300    20360     NaN     NaN     NaN          NaN          NaN\n",
              "9301    20569     NaN     NaN     NaN          NaN          NaN\n",
              "\n",
              "[9302 rows x 6 columns]"
            ]
          },
          "metadata": {
            "tags": []
          },
          "execution_count": 26
        }
      ]
    },
    {
      "cell_type": "code",
      "metadata": {
        "colab": {
          "base_uri": "https://localhost:8080/",
          "height": 402
        },
        "id": "Q1vlh0u_lM2V",
        "outputId": "7e7e0bfa-49dd-4268-cc5c-d3db0e36e3b4"
      },
      "source": [
        "test = df_test[['Cliente']]\n",
        "test = test.merge(df_est, on='Cliente')\n",
        "test['Año'] = 2020\n",
        "test['Mes'] = 10\n",
        "test = test[['Año', 'Mes', 'Cliente', 'Regional2', 'Gerencia2', 'SubCanal2', 'Categoria', 'Nevera']]\n",
        "test"
      ],
      "execution_count": 27,
      "outputs": [
        {
          "output_type": "execute_result",
          "data": {
            "text/html": [
              "<div>\n",
              "<style scoped>\n",
              "    .dataframe tbody tr th:only-of-type {\n",
              "        vertical-align: middle;\n",
              "    }\n",
              "\n",
              "    .dataframe tbody tr th {\n",
              "        vertical-align: top;\n",
              "    }\n",
              "\n",
              "    .dataframe thead th {\n",
              "        text-align: right;\n",
              "    }\n",
              "</style>\n",
              "<table border=\"1\" class=\"dataframe\">\n",
              "  <thead>\n",
              "    <tr style=\"text-align: right;\">\n",
              "      <th></th>\n",
              "      <th>Año</th>\n",
              "      <th>Mes</th>\n",
              "      <th>Cliente</th>\n",
              "      <th>Regional2</th>\n",
              "      <th>Gerencia2</th>\n",
              "      <th>SubCanal2</th>\n",
              "      <th>Categoria</th>\n",
              "      <th>Nevera</th>\n",
              "    </tr>\n",
              "  </thead>\n",
              "  <tbody>\n",
              "    <tr>\n",
              "      <th>0</th>\n",
              "      <td>2020</td>\n",
              "      <td>10</td>\n",
              "      <td>10</td>\n",
              "      <td>Regional 1</td>\n",
              "      <td>Gerencia_3</td>\n",
              "      <td>Subcanal_1</td>\n",
              "      <td>Categoria_2</td>\n",
              "      <td>1</td>\n",
              "    </tr>\n",
              "    <tr>\n",
              "      <th>1</th>\n",
              "      <td>2020</td>\n",
              "      <td>10</td>\n",
              "      <td>12</td>\n",
              "      <td>Regional 1</td>\n",
              "      <td>Gerencia_3</td>\n",
              "      <td>Subcanal_4</td>\n",
              "      <td>Categoria_4</td>\n",
              "      <td>1</td>\n",
              "    </tr>\n",
              "    <tr>\n",
              "      <th>2</th>\n",
              "      <td>2020</td>\n",
              "      <td>10</td>\n",
              "      <td>14</td>\n",
              "      <td>Regional 1</td>\n",
              "      <td>Gerencia_3</td>\n",
              "      <td>Subcanal_1</td>\n",
              "      <td>Categoria_2</td>\n",
              "      <td>1</td>\n",
              "    </tr>\n",
              "    <tr>\n",
              "      <th>3</th>\n",
              "      <td>2020</td>\n",
              "      <td>10</td>\n",
              "      <td>15</td>\n",
              "      <td>Regional 1</td>\n",
              "      <td>Gerencia_2</td>\n",
              "      <td>Subcanal_3</td>\n",
              "      <td>Categoria_2</td>\n",
              "      <td>1</td>\n",
              "    </tr>\n",
              "    <tr>\n",
              "      <th>4</th>\n",
              "      <td>2020</td>\n",
              "      <td>10</td>\n",
              "      <td>18</td>\n",
              "      <td>Regional 1</td>\n",
              "      <td>Gerencia_3</td>\n",
              "      <td>Subcanal_1</td>\n",
              "      <td>Categoria_5</td>\n",
              "      <td>1</td>\n",
              "    </tr>\n",
              "    <tr>\n",
              "      <th>...</th>\n",
              "      <td>...</td>\n",
              "      <td>...</td>\n",
              "      <td>...</td>\n",
              "      <td>...</td>\n",
              "      <td>...</td>\n",
              "      <td>...</td>\n",
              "      <td>...</td>\n",
              "      <td>...</td>\n",
              "    </tr>\n",
              "    <tr>\n",
              "      <th>9297</th>\n",
              "      <td>2020</td>\n",
              "      <td>10</td>\n",
              "      <td>20186</td>\n",
              "      <td>Regional 1</td>\n",
              "      <td>Gerencia_9</td>\n",
              "      <td>Subcanal_7</td>\n",
              "      <td>Categoria_1</td>\n",
              "      <td>0</td>\n",
              "    </tr>\n",
              "    <tr>\n",
              "      <th>9298</th>\n",
              "      <td>2020</td>\n",
              "      <td>10</td>\n",
              "      <td>20261</td>\n",
              "      <td>Regional 1</td>\n",
              "      <td>Gerencia_10</td>\n",
              "      <td>Subcanal_1</td>\n",
              "      <td>Categoria_2</td>\n",
              "      <td>0</td>\n",
              "    </tr>\n",
              "    <tr>\n",
              "      <th>9299</th>\n",
              "      <td>2020</td>\n",
              "      <td>10</td>\n",
              "      <td>20309</td>\n",
              "      <td>Regional 1</td>\n",
              "      <td>Gerencia_10</td>\n",
              "      <td>Subcanal_3</td>\n",
              "      <td>Categoria_3</td>\n",
              "      <td>0</td>\n",
              "    </tr>\n",
              "    <tr>\n",
              "      <th>9300</th>\n",
              "      <td>2020</td>\n",
              "      <td>10</td>\n",
              "      <td>20360</td>\n",
              "      <td>Regional 1</td>\n",
              "      <td>Gerencia_10</td>\n",
              "      <td>Subcanal_8</td>\n",
              "      <td>Categoria_1</td>\n",
              "      <td>0</td>\n",
              "    </tr>\n",
              "    <tr>\n",
              "      <th>9301</th>\n",
              "      <td>2020</td>\n",
              "      <td>10</td>\n",
              "      <td>20569</td>\n",
              "      <td>Regional 1</td>\n",
              "      <td>Gerencia_6</td>\n",
              "      <td>Subcanal_3</td>\n",
              "      <td>Categoria_2</td>\n",
              "      <td>0</td>\n",
              "    </tr>\n",
              "  </tbody>\n",
              "</table>\n",
              "<p>9302 rows × 8 columns</p>\n",
              "</div>"
            ],
            "text/plain": [
              "       Año  Mes  Cliente  ...   SubCanal2    Categoria Nevera\n",
              "0     2020   10       10  ...  Subcanal_1  Categoria_2      1\n",
              "1     2020   10       12  ...  Subcanal_4  Categoria_4      1\n",
              "2     2020   10       14  ...  Subcanal_1  Categoria_2      1\n",
              "3     2020   10       15  ...  Subcanal_3  Categoria_2      1\n",
              "4     2020   10       18  ...  Subcanal_1  Categoria_5      1\n",
              "...    ...  ...      ...  ...         ...          ...    ...\n",
              "9297  2020   10    20186  ...  Subcanal_7  Categoria_1      0\n",
              "9298  2020   10    20261  ...  Subcanal_1  Categoria_2      0\n",
              "9299  2020   10    20309  ...  Subcanal_3  Categoria_3      0\n",
              "9300  2020   10    20360  ...  Subcanal_8  Categoria_1      0\n",
              "9301  2020   10    20569  ...  Subcanal_3  Categoria_2      0\n",
              "\n",
              "[9302 rows x 8 columns]"
            ]
          },
          "metadata": {
            "tags": []
          },
          "execution_count": 27
        }
      ]
    },
    {
      "cell_type": "code",
      "metadata": {
        "id": "MBTrY2CPlbNy"
      },
      "source": [
        "test['Regional2'] = test['Regional2'].astype('category')\n",
        "test['Gerencia2'] = test['Gerencia2'].astype('category')\n",
        "test['SubCanal2'] = test['SubCanal2'].astype('category')\n",
        "test['Categoria'] = test['Categoria'].astype('category')\n",
        "\n",
        "test['Regional2'] = test.Regional2.cat.codes\n",
        "test['Gerencia2'] = test.Gerencia2.cat.codes\n",
        "test['SubCanal2'] = test.SubCanal2.cat.codes\n",
        "test['Categoria'] = test.Categoria.cat.codes"
      ],
      "execution_count": 28,
      "outputs": []
    },
    {
      "cell_type": "code",
      "metadata": {
        "id": "G_jVb9GKmW_s"
      },
      "source": [
        "prob1 = clf1.predict_proba(test)[:, 1]\n",
        "prob2 = clf2.predict_proba(test)[:, 1]\n",
        "prob3 = clf3.predict_proba(test)[:, 1]\n",
        "prob4 = clf4.predict_proba(test)[:, 1]\n",
        "prob5 = clf5.predict_proba(test)[:, 1]"
      ],
      "execution_count": 29,
      "outputs": []
    },
    {
      "cell_type": "code",
      "metadata": {
        "id": "M-RMeCRfmkw1"
      },
      "source": [
        "test['Marca1'] = prob1\n",
        "test['Marca2'] = prob2\n",
        "test['Marca3'] = prob3\n",
        "test['Marca_Inno1'] = prob4\n",
        "test['Marca_Inno2'] = prob5"
      ],
      "execution_count": 30,
      "outputs": []
    },
    {
      "cell_type": "code",
      "metadata": {
        "colab": {
          "base_uri": "https://localhost:8080/",
          "height": 402
        },
        "id": "aoJ4Nw3jm8-w",
        "outputId": "042d4c3d-9756-469b-e264-cfad7976f3de"
      },
      "source": [
        "final = test[['Cliente', 'Marca1', 'Marca2', 'Marca3', 'Marca_Inno1', 'Marca_Inno2']]\n",
        "final"
      ],
      "execution_count": 31,
      "outputs": [
        {
          "output_type": "execute_result",
          "data": {
            "text/html": [
              "<div>\n",
              "<style scoped>\n",
              "    .dataframe tbody tr th:only-of-type {\n",
              "        vertical-align: middle;\n",
              "    }\n",
              "\n",
              "    .dataframe tbody tr th {\n",
              "        vertical-align: top;\n",
              "    }\n",
              "\n",
              "    .dataframe thead th {\n",
              "        text-align: right;\n",
              "    }\n",
              "</style>\n",
              "<table border=\"1\" class=\"dataframe\">\n",
              "  <thead>\n",
              "    <tr style=\"text-align: right;\">\n",
              "      <th></th>\n",
              "      <th>Cliente</th>\n",
              "      <th>Marca1</th>\n",
              "      <th>Marca2</th>\n",
              "      <th>Marca3</th>\n",
              "      <th>Marca_Inno1</th>\n",
              "      <th>Marca_Inno2</th>\n",
              "    </tr>\n",
              "  </thead>\n",
              "  <tbody>\n",
              "    <tr>\n",
              "      <th>0</th>\n",
              "      <td>10</td>\n",
              "      <td>0.055393</td>\n",
              "      <td>0.050081</td>\n",
              "      <td>0.256060</td>\n",
              "      <td>0.084214</td>\n",
              "      <td>0.084214</td>\n",
              "    </tr>\n",
              "    <tr>\n",
              "      <th>1</th>\n",
              "      <td>12</td>\n",
              "      <td>0.053019</td>\n",
              "      <td>0.080051</td>\n",
              "      <td>0.302099</td>\n",
              "      <td>0.089676</td>\n",
              "      <td>0.089676</td>\n",
              "    </tr>\n",
              "    <tr>\n",
              "      <th>2</th>\n",
              "      <td>14</td>\n",
              "      <td>0.055393</td>\n",
              "      <td>0.050081</td>\n",
              "      <td>0.256060</td>\n",
              "      <td>0.084214</td>\n",
              "      <td>0.084214</td>\n",
              "    </tr>\n",
              "    <tr>\n",
              "      <th>3</th>\n",
              "      <td>15</td>\n",
              "      <td>0.052316</td>\n",
              "      <td>0.048440</td>\n",
              "      <td>0.251948</td>\n",
              "      <td>0.084214</td>\n",
              "      <td>0.084214</td>\n",
              "    </tr>\n",
              "    <tr>\n",
              "      <th>4</th>\n",
              "      <td>18</td>\n",
              "      <td>0.056569</td>\n",
              "      <td>0.081615</td>\n",
              "      <td>0.306210</td>\n",
              "      <td>0.089874</td>\n",
              "      <td>0.089874</td>\n",
              "    </tr>\n",
              "    <tr>\n",
              "      <th>...</th>\n",
              "      <td>...</td>\n",
              "      <td>...</td>\n",
              "      <td>...</td>\n",
              "      <td>...</td>\n",
              "      <td>...</td>\n",
              "      <td>...</td>\n",
              "    </tr>\n",
              "    <tr>\n",
              "      <th>9297</th>\n",
              "      <td>20186</td>\n",
              "      <td>0.084881</td>\n",
              "      <td>0.025497</td>\n",
              "      <td>0.211585</td>\n",
              "      <td>0.216928</td>\n",
              "      <td>0.216928</td>\n",
              "    </tr>\n",
              "    <tr>\n",
              "      <th>9298</th>\n",
              "      <td>20261</td>\n",
              "      <td>0.090971</td>\n",
              "      <td>0.032706</td>\n",
              "      <td>0.220766</td>\n",
              "      <td>0.210166</td>\n",
              "      <td>0.210166</td>\n",
              "    </tr>\n",
              "    <tr>\n",
              "      <th>9299</th>\n",
              "      <td>20309</td>\n",
              "      <td>0.089158</td>\n",
              "      <td>0.031441</td>\n",
              "      <td>0.263293</td>\n",
              "      <td>0.220889</td>\n",
              "      <td>0.220889</td>\n",
              "    </tr>\n",
              "    <tr>\n",
              "      <th>9300</th>\n",
              "      <td>20360</td>\n",
              "      <td>0.088400</td>\n",
              "      <td>0.026031</td>\n",
              "      <td>0.216274</td>\n",
              "      <td>0.210332</td>\n",
              "      <td>0.210332</td>\n",
              "    </tr>\n",
              "    <tr>\n",
              "      <th>9301</th>\n",
              "      <td>20569</td>\n",
              "      <td>0.085016</td>\n",
              "      <td>0.029310</td>\n",
              "      <td>0.211237</td>\n",
              "      <td>0.217201</td>\n",
              "      <td>0.217201</td>\n",
              "    </tr>\n",
              "  </tbody>\n",
              "</table>\n",
              "<p>9302 rows × 6 columns</p>\n",
              "</div>"
            ],
            "text/plain": [
              "      Cliente    Marca1    Marca2    Marca3  Marca_Inno1  Marca_Inno2\n",
              "0          10  0.055393  0.050081  0.256060     0.084214     0.084214\n",
              "1          12  0.053019  0.080051  0.302099     0.089676     0.089676\n",
              "2          14  0.055393  0.050081  0.256060     0.084214     0.084214\n",
              "3          15  0.052316  0.048440  0.251948     0.084214     0.084214\n",
              "4          18  0.056569  0.081615  0.306210     0.089874     0.089874\n",
              "...       ...       ...       ...       ...          ...          ...\n",
              "9297    20186  0.084881  0.025497  0.211585     0.216928     0.216928\n",
              "9298    20261  0.090971  0.032706  0.220766     0.210166     0.210166\n",
              "9299    20309  0.089158  0.031441  0.263293     0.220889     0.220889\n",
              "9300    20360  0.088400  0.026031  0.216274     0.210332     0.210332\n",
              "9301    20569  0.085016  0.029310  0.211237     0.217201     0.217201\n",
              "\n",
              "[9302 rows x 6 columns]"
            ]
          },
          "metadata": {
            "tags": []
          },
          "execution_count": 31
        }
      ]
    },
    {
      "cell_type": "code",
      "metadata": {
        "colab": {
          "base_uri": "https://localhost:8080/"
        },
        "id": "NHKXhYjSqmeL",
        "outputId": "fb20c21d-147b-425e-e438-9f20ba775b92"
      },
      "source": [
        "df_test.columns"
      ],
      "execution_count": 32,
      "outputs": [
        {
          "output_type": "execute_result",
          "data": {
            "text/plain": [
              "Index(['Cliente', 'Marca1', 'Marca2', 'Marca3', 'Marca_Inno1', 'Marca_Inno2'], dtype='object')"
            ]
          },
          "metadata": {
            "tags": []
          },
          "execution_count": 32
        }
      ]
    },
    {
      "cell_type": "code",
      "metadata": {
        "colab": {
          "base_uri": "https://localhost:8080/",
          "height": 402
        },
        "id": "FLxmOCXOo66W",
        "outputId": "19866abd-45d7-4c84-b11f-f3248b37b6b3"
      },
      "source": [
        "final.columns = df_test.columns\n",
        "final"
      ],
      "execution_count": 33,
      "outputs": [
        {
          "output_type": "execute_result",
          "data": {
            "text/html": [
              "<div>\n",
              "<style scoped>\n",
              "    .dataframe tbody tr th:only-of-type {\n",
              "        vertical-align: middle;\n",
              "    }\n",
              "\n",
              "    .dataframe tbody tr th {\n",
              "        vertical-align: top;\n",
              "    }\n",
              "\n",
              "    .dataframe thead th {\n",
              "        text-align: right;\n",
              "    }\n",
              "</style>\n",
              "<table border=\"1\" class=\"dataframe\">\n",
              "  <thead>\n",
              "    <tr style=\"text-align: right;\">\n",
              "      <th></th>\n",
              "      <th>Cliente</th>\n",
              "      <th>Marca1</th>\n",
              "      <th>Marca2</th>\n",
              "      <th>Marca3</th>\n",
              "      <th>Marca_Inno1</th>\n",
              "      <th>Marca_Inno2</th>\n",
              "    </tr>\n",
              "  </thead>\n",
              "  <tbody>\n",
              "    <tr>\n",
              "      <th>0</th>\n",
              "      <td>10</td>\n",
              "      <td>0.055393</td>\n",
              "      <td>0.050081</td>\n",
              "      <td>0.256060</td>\n",
              "      <td>0.084214</td>\n",
              "      <td>0.084214</td>\n",
              "    </tr>\n",
              "    <tr>\n",
              "      <th>1</th>\n",
              "      <td>12</td>\n",
              "      <td>0.053019</td>\n",
              "      <td>0.080051</td>\n",
              "      <td>0.302099</td>\n",
              "      <td>0.089676</td>\n",
              "      <td>0.089676</td>\n",
              "    </tr>\n",
              "    <tr>\n",
              "      <th>2</th>\n",
              "      <td>14</td>\n",
              "      <td>0.055393</td>\n",
              "      <td>0.050081</td>\n",
              "      <td>0.256060</td>\n",
              "      <td>0.084214</td>\n",
              "      <td>0.084214</td>\n",
              "    </tr>\n",
              "    <tr>\n",
              "      <th>3</th>\n",
              "      <td>15</td>\n",
              "      <td>0.052316</td>\n",
              "      <td>0.048440</td>\n",
              "      <td>0.251948</td>\n",
              "      <td>0.084214</td>\n",
              "      <td>0.084214</td>\n",
              "    </tr>\n",
              "    <tr>\n",
              "      <th>4</th>\n",
              "      <td>18</td>\n",
              "      <td>0.056569</td>\n",
              "      <td>0.081615</td>\n",
              "      <td>0.306210</td>\n",
              "      <td>0.089874</td>\n",
              "      <td>0.089874</td>\n",
              "    </tr>\n",
              "    <tr>\n",
              "      <th>...</th>\n",
              "      <td>...</td>\n",
              "      <td>...</td>\n",
              "      <td>...</td>\n",
              "      <td>...</td>\n",
              "      <td>...</td>\n",
              "      <td>...</td>\n",
              "    </tr>\n",
              "    <tr>\n",
              "      <th>9297</th>\n",
              "      <td>20186</td>\n",
              "      <td>0.084881</td>\n",
              "      <td>0.025497</td>\n",
              "      <td>0.211585</td>\n",
              "      <td>0.216928</td>\n",
              "      <td>0.216928</td>\n",
              "    </tr>\n",
              "    <tr>\n",
              "      <th>9298</th>\n",
              "      <td>20261</td>\n",
              "      <td>0.090971</td>\n",
              "      <td>0.032706</td>\n",
              "      <td>0.220766</td>\n",
              "      <td>0.210166</td>\n",
              "      <td>0.210166</td>\n",
              "    </tr>\n",
              "    <tr>\n",
              "      <th>9299</th>\n",
              "      <td>20309</td>\n",
              "      <td>0.089158</td>\n",
              "      <td>0.031441</td>\n",
              "      <td>0.263293</td>\n",
              "      <td>0.220889</td>\n",
              "      <td>0.220889</td>\n",
              "    </tr>\n",
              "    <tr>\n",
              "      <th>9300</th>\n",
              "      <td>20360</td>\n",
              "      <td>0.088400</td>\n",
              "      <td>0.026031</td>\n",
              "      <td>0.216274</td>\n",
              "      <td>0.210332</td>\n",
              "      <td>0.210332</td>\n",
              "    </tr>\n",
              "    <tr>\n",
              "      <th>9301</th>\n",
              "      <td>20569</td>\n",
              "      <td>0.085016</td>\n",
              "      <td>0.029310</td>\n",
              "      <td>0.211237</td>\n",
              "      <td>0.217201</td>\n",
              "      <td>0.217201</td>\n",
              "    </tr>\n",
              "  </tbody>\n",
              "</table>\n",
              "<p>9302 rows × 6 columns</p>\n",
              "</div>"
            ],
            "text/plain": [
              "      Cliente    Marca1    Marca2    Marca3  Marca_Inno1  Marca_Inno2\n",
              "0          10  0.055393  0.050081  0.256060     0.084214     0.084214\n",
              "1          12  0.053019  0.080051  0.302099     0.089676     0.089676\n",
              "2          14  0.055393  0.050081  0.256060     0.084214     0.084214\n",
              "3          15  0.052316  0.048440  0.251948     0.084214     0.084214\n",
              "4          18  0.056569  0.081615  0.306210     0.089874     0.089874\n",
              "...       ...       ...       ...       ...          ...          ...\n",
              "9297    20186  0.084881  0.025497  0.211585     0.216928     0.216928\n",
              "9298    20261  0.090971  0.032706  0.220766     0.210166     0.210166\n",
              "9299    20309  0.089158  0.031441  0.263293     0.220889     0.220889\n",
              "9300    20360  0.088400  0.026031  0.216274     0.210332     0.210332\n",
              "9301    20569  0.085016  0.029310  0.211237     0.217201     0.217201\n",
              "\n",
              "[9302 rows x 6 columns]"
            ]
          },
          "metadata": {
            "tags": []
          },
          "execution_count": 33
        }
      ]
    },
    {
      "cell_type": "code",
      "metadata": {
        "colab": {
          "base_uri": "https://localhost:8080/"
        },
        "id": "t6_5tfodquYp",
        "outputId": "63f28bd6-2910-4658-e8b8-57b8138ad6cf"
      },
      "source": [
        "final.columns"
      ],
      "execution_count": 34,
      "outputs": [
        {
          "output_type": "execute_result",
          "data": {
            "text/plain": [
              "Index(['Cliente', 'Marca1', 'Marca2', 'Marca3', 'Marca_Inno1', 'Marca_Inno2'], dtype='object')"
            ]
          },
          "metadata": {
            "tags": []
          },
          "execution_count": 34
        }
      ]
    },
    {
      "cell_type": "code",
      "metadata": {
        "id": "CagXnVYRnF__"
      },
      "source": [
        "final.to_csv('input4_clientes_test.csv', sep=',', encoding='utf-8', index=False)"
      ],
      "execution_count": 35,
      "outputs": []
    },
    {
      "cell_type": "code",
      "metadata": {
        "colab": {
          "base_uri": "https://localhost:8080/",
          "height": 402
        },
        "id": "baLKDqvboUzH",
        "outputId": "1cbb789f-eede-472c-f791-20719b6a71bc"
      },
      "source": [
        "prueba = pd.read_csv(path + 'input4_clientes_test.csv', sep=',')\n",
        "prueba"
      ],
      "execution_count": 36,
      "outputs": [
        {
          "output_type": "execute_result",
          "data": {
            "text/html": [
              "<div>\n",
              "<style scoped>\n",
              "    .dataframe tbody tr th:only-of-type {\n",
              "        vertical-align: middle;\n",
              "    }\n",
              "\n",
              "    .dataframe tbody tr th {\n",
              "        vertical-align: top;\n",
              "    }\n",
              "\n",
              "    .dataframe thead th {\n",
              "        text-align: right;\n",
              "    }\n",
              "</style>\n",
              "<table border=\"1\" class=\"dataframe\">\n",
              "  <thead>\n",
              "    <tr style=\"text-align: right;\">\n",
              "      <th></th>\n",
              "      <th>Cliente</th>\n",
              "      <th>Marca1</th>\n",
              "      <th>Marca2</th>\n",
              "      <th>Marca3</th>\n",
              "      <th>Marca_Inno1</th>\n",
              "      <th>Marca_Inno2</th>\n",
              "    </tr>\n",
              "  </thead>\n",
              "  <tbody>\n",
              "    <tr>\n",
              "      <th>0</th>\n",
              "      <td>10</td>\n",
              "      <td>0.055393</td>\n",
              "      <td>0.050081</td>\n",
              "      <td>0.256060</td>\n",
              "      <td>0.084214</td>\n",
              "      <td>0.084214</td>\n",
              "    </tr>\n",
              "    <tr>\n",
              "      <th>1</th>\n",
              "      <td>12</td>\n",
              "      <td>0.053019</td>\n",
              "      <td>0.080051</td>\n",
              "      <td>0.302099</td>\n",
              "      <td>0.089676</td>\n",
              "      <td>0.089676</td>\n",
              "    </tr>\n",
              "    <tr>\n",
              "      <th>2</th>\n",
              "      <td>14</td>\n",
              "      <td>0.055393</td>\n",
              "      <td>0.050081</td>\n",
              "      <td>0.256060</td>\n",
              "      <td>0.084214</td>\n",
              "      <td>0.084214</td>\n",
              "    </tr>\n",
              "    <tr>\n",
              "      <th>3</th>\n",
              "      <td>15</td>\n",
              "      <td>0.052316</td>\n",
              "      <td>0.048440</td>\n",
              "      <td>0.251948</td>\n",
              "      <td>0.084214</td>\n",
              "      <td>0.084214</td>\n",
              "    </tr>\n",
              "    <tr>\n",
              "      <th>4</th>\n",
              "      <td>18</td>\n",
              "      <td>0.056569</td>\n",
              "      <td>0.081615</td>\n",
              "      <td>0.306210</td>\n",
              "      <td>0.089874</td>\n",
              "      <td>0.089874</td>\n",
              "    </tr>\n",
              "    <tr>\n",
              "      <th>...</th>\n",
              "      <td>...</td>\n",
              "      <td>...</td>\n",
              "      <td>...</td>\n",
              "      <td>...</td>\n",
              "      <td>...</td>\n",
              "      <td>...</td>\n",
              "    </tr>\n",
              "    <tr>\n",
              "      <th>9297</th>\n",
              "      <td>20186</td>\n",
              "      <td>0.084881</td>\n",
              "      <td>0.025497</td>\n",
              "      <td>0.211585</td>\n",
              "      <td>0.216928</td>\n",
              "      <td>0.216928</td>\n",
              "    </tr>\n",
              "    <tr>\n",
              "      <th>9298</th>\n",
              "      <td>20261</td>\n",
              "      <td>0.090971</td>\n",
              "      <td>0.032706</td>\n",
              "      <td>0.220766</td>\n",
              "      <td>0.210166</td>\n",
              "      <td>0.210166</td>\n",
              "    </tr>\n",
              "    <tr>\n",
              "      <th>9299</th>\n",
              "      <td>20309</td>\n",
              "      <td>0.089158</td>\n",
              "      <td>0.031441</td>\n",
              "      <td>0.263293</td>\n",
              "      <td>0.220889</td>\n",
              "      <td>0.220889</td>\n",
              "    </tr>\n",
              "    <tr>\n",
              "      <th>9300</th>\n",
              "      <td>20360</td>\n",
              "      <td>0.088400</td>\n",
              "      <td>0.026031</td>\n",
              "      <td>0.216274</td>\n",
              "      <td>0.210332</td>\n",
              "      <td>0.210332</td>\n",
              "    </tr>\n",
              "    <tr>\n",
              "      <th>9301</th>\n",
              "      <td>20569</td>\n",
              "      <td>0.085016</td>\n",
              "      <td>0.029310</td>\n",
              "      <td>0.211237</td>\n",
              "      <td>0.217201</td>\n",
              "      <td>0.217201</td>\n",
              "    </tr>\n",
              "  </tbody>\n",
              "</table>\n",
              "<p>9302 rows × 6 columns</p>\n",
              "</div>"
            ],
            "text/plain": [
              "      Cliente    Marca1    Marca2    Marca3  Marca_Inno1  Marca_Inno2\n",
              "0          10  0.055393  0.050081  0.256060     0.084214     0.084214\n",
              "1          12  0.053019  0.080051  0.302099     0.089676     0.089676\n",
              "2          14  0.055393  0.050081  0.256060     0.084214     0.084214\n",
              "3          15  0.052316  0.048440  0.251948     0.084214     0.084214\n",
              "4          18  0.056569  0.081615  0.306210     0.089874     0.089874\n",
              "...       ...       ...       ...       ...          ...          ...\n",
              "9297    20186  0.084881  0.025497  0.211585     0.216928     0.216928\n",
              "9298    20261  0.090971  0.032706  0.220766     0.210166     0.210166\n",
              "9299    20309  0.089158  0.031441  0.263293     0.220889     0.220889\n",
              "9300    20360  0.088400  0.026031  0.216274     0.210332     0.210332\n",
              "9301    20569  0.085016  0.029310  0.211237     0.217201     0.217201\n",
              "\n",
              "[9302 rows x 6 columns]"
            ]
          },
          "metadata": {
            "tags": []
          },
          "execution_count": 36
        }
      ]
    },
    {
      "cell_type": "code",
      "metadata": {
        "id": "tJ2v-LYFpj-7"
      },
      "source": [
        ""
      ],
      "execution_count": 36,
      "outputs": []
    },
    {
      "cell_type": "markdown",
      "metadata": {
        "id": "fhDBl8cu5w1B"
      },
      "source": [
        "<h1>XGBOOST</h1>"
      ]
    },
    {
      "cell_type": "markdown",
      "metadata": {
        "id": "4SXTEooHCxxz"
      },
      "source": [
        "producto uno"
      ]
    },
    {
      "cell_type": "code",
      "metadata": {
        "id": "9CxkSEE3-jtR"
      },
      "source": [
        "y = primer_producto['Marca1']\n",
        "x = primer_producto[['Año', 'Mes', 'Cliente', 'Regional2', 'Gerencia2', 'SubCanal2', 'Categoria', 'Nevera']]\n",
        "\n",
        "X_train, X_test, y_train, y_test = train_test_split(x, y, test_size=0.2, random_state=42)"
      ],
      "execution_count": 37,
      "outputs": []
    },
    {
      "cell_type": "code",
      "metadata": {
        "colab": {
          "base_uri": "https://localhost:8080/"
        },
        "id": "AJfAnx9L5z4A",
        "outputId": "d77591fa-2620-4896-ee28-6e0796f5def6"
      },
      "source": [
        "xgb1 = XGBClassifier(max_depth=9, n_estimators=500, learning_rate=0.9, random_state=42)\n",
        "xgb1.fit(X_train, y_train)"
      ],
      "execution_count": 38,
      "outputs": [
        {
          "output_type": "execute_result",
          "data": {
            "text/plain": [
              "XGBClassifier(base_score=0.5, booster='gbtree', colsample_bylevel=1,\n",
              "              colsample_bynode=1, colsample_bytree=1, gamma=0,\n",
              "              learning_rate=0.9, max_delta_step=0, max_depth=9,\n",
              "              min_child_weight=1, missing=None, n_estimators=500, n_jobs=1,\n",
              "              nthread=None, objective='binary:logistic', random_state=42,\n",
              "              reg_alpha=0, reg_lambda=1, scale_pos_weight=1, seed=None,\n",
              "              silent=None, subsample=1, verbosity=1)"
            ]
          },
          "metadata": {
            "tags": []
          },
          "execution_count": 38
        }
      ]
    },
    {
      "cell_type": "code",
      "metadata": {
        "colab": {
          "base_uri": "https://localhost:8080/"
        },
        "id": "rn0vppTK_Gs0",
        "outputId": "5d1cb536-227b-46d4-9642-63f7914cb591"
      },
      "source": [
        "answer = xgb1.predict(X_test)\n",
        "acc_score = accuracy_score(y_test, answer)\n",
        "print(acc_score)\n",
        "roc = roc_curve(y_test, answer)\n",
        "print(roc)\n",
        "auc_score = auc(roc[0], roc[1])\n",
        "print(auc_score)"
      ],
      "execution_count": 39,
      "outputs": [
        {
          "output_type": "stream",
          "text": [
            "0.971706411258796\n",
            "(array([0.        , 0.00971191, 1.        ]), array([0.        , 0.28611111, 1.        ]), array([2, 1, 0]))\n",
            "0.6381996029355997\n"
          ],
          "name": "stdout"
        }
      ]
    },
    {
      "cell_type": "markdown",
      "metadata": {
        "id": "aQnEB0QvCxPh"
      },
      "source": [
        "producto dos"
      ]
    },
    {
      "cell_type": "code",
      "metadata": {
        "id": "-mqKhRJU2wWm"
      },
      "source": [
        "y = segundo_producto['Marca2']\n",
        "x = segundo_producto[['Año', 'Mes', 'Cliente', 'Regional2', 'Gerencia2', 'SubCanal2', 'Categoria', 'Nevera']]\n",
        "X_train, X_test, y_train, y_test = train_test_split(x, y, test_size=0.2, random_state=42)"
      ],
      "execution_count": null,
      "outputs": []
    },
    {
      "cell_type": "code",
      "metadata": {
        "colab": {
          "base_uri": "https://localhost:8080/"
        },
        "id": "AO87GuG3_czp",
        "outputId": "569467e0-4aa5-46f0-ede6-e2760701c2a7"
      },
      "source": [
        "\n",
        "\n",
        "# Modelo\n",
        "xgb2 = XGBClassifier(max_depth=9, n_estimators=500, learning_rate=0.9, random_state=42)\n",
        "xgb2.fit(X_train, y_train)\n",
        "\n",
        "# Medidas\n",
        "answer = xgb2.predict(X_test)\n",
        "acc_score = accuracy_score(y_test, answer)\n",
        "print(acc_score)\n",
        "roc = roc_curve(y_test, answer)\n",
        "print(roc)\n",
        "auc_score = auc(roc[0], roc[1])\n",
        "print(auc_score)"
      ],
      "execution_count": 40,
      "outputs": [
        {
          "output_type": "stream",
          "text": [
            "0.9601739640344019\n",
            "(array([0.        , 0.01442172, 1.        ]), array([0.        , 0.45482389, 1.        ]), array([2, 1, 0]))\n",
            "0.7202010849555408\n"
          ],
          "name": "stdout"
        }
      ]
    },
    {
      "cell_type": "markdown",
      "metadata": {
        "id": "Pi1LsJpIC2u7"
      },
      "source": [
        "producto tres"
      ]
    },
    {
      "cell_type": "code",
      "metadata": {
        "colab": {
          "base_uri": "https://localhost:8080/"
        },
        "id": "6VzUa-ksCbNl",
        "outputId": "09060a0d-0149-47fa-c257-97ce08890b25"
      },
      "source": [
        "y = tercer_producto['Marca3']\n",
        "x = tercer_producto[['Año', 'Mes', 'Cliente', 'Regional2', 'Gerencia2', 'SubCanal2', 'Categoria', 'Nevera']]\n",
        "X_train, X_test, y_train, y_test = train_test_split(x, y, test_size=0.2, random_state=42)\n",
        "\n",
        "# Modelo\n",
        "xgb3 = XGBClassifier(max_depth=9, n_estimators=500, learning_rate=0.9, random_state=42)\n",
        "xgb3.fit(X_train, y_train)\n",
        "\n",
        "# Medidas\n",
        "answer = xgb3.predict(X_test)\n",
        "acc_score = accuracy_score(y_test, answer)\n",
        "print(acc_score)\n",
        "roc = roc_curve(y_test, answer)\n",
        "print(roc)\n",
        "auc_score = auc(roc[0], roc[1])\n",
        "print(auc_score)"
      ],
      "execution_count": 41,
      "outputs": [
        {
          "output_type": "stream",
          "text": [
            "0.8036796325254105\n",
            "(array([0.        , 0.11874304, 1.        ]), array([0.        , 0.60030086, 1.        ]), array([2, 1, 0]))\n",
            "0.7407789099432296\n"
          ],
          "name": "stdout"
        }
      ]
    },
    {
      "cell_type": "markdown",
      "metadata": {
        "id": "kOEtGxDuDAyc"
      },
      "source": [
        "product cuatro"
      ]
    },
    {
      "cell_type": "code",
      "metadata": {
        "colab": {
          "base_uri": "https://localhost:8080/"
        },
        "id": "plb7Of2PC_-q",
        "outputId": "f441f2eb-749a-4cba-9bb5-0bc7a43205d1"
      },
      "source": [
        "y = cuarto_producto['MarcaInno1']\n",
        "x = cuarto_producto[['Año', 'Mes', 'Cliente', 'Regional2', 'Gerencia2', 'SubCanal2', 'Categoria', 'Nevera']]\n",
        "X_train, X_test, y_train, y_test = train_test_split(x, y, test_size=0.2, random_state=42)\n",
        "\n",
        "# Modelo\n",
        "xgb4 = XGBClassifier(max_depth=9, n_estimators=500, learning_rate=0.9, random_state=42)\n",
        "xgb4.fit(X_train, y_train)\n",
        "\n",
        "# Medidas\n",
        "answer = xgb4.predict(X_test)\n",
        "acc_score = accuracy_score(y_test, answer)\n",
        "print(acc_score)\n",
        "roc = roc_curve(y_test, answer)\n",
        "print(roc)\n",
        "auc_score = auc(roc[0], roc[1])\n",
        "print(auc_score)"
      ],
      "execution_count": 42,
      "outputs": [
        {
          "output_type": "stream",
          "text": [
            "0.9653782251759186\n",
            "(array([0.        , 0.01521806, 1.        ]), array([0.       , 0.5345805, 1.       ]), array([2, 1, 0]))\n",
            "0.7596812207332803\n"
          ],
          "name": "stdout"
        }
      ]
    },
    {
      "cell_type": "markdown",
      "metadata": {
        "id": "KUcneYFQDJde"
      },
      "source": [
        "producto cinco"
      ]
    },
    {
      "cell_type": "code",
      "metadata": {
        "colab": {
          "base_uri": "https://localhost:8080/"
        },
        "id": "Ld_02QS5DI2t",
        "outputId": "5a9627e5-3116-47b1-b79d-b03ff9dd3d68"
      },
      "source": [
        "y = quinto_producto['MarcaInno2']\n",
        "x = quinto_producto[['Año', 'Mes', 'Cliente', 'Regional2', 'Gerencia2', 'SubCanal2', 'Categoria', 'Nevera']]\n",
        "X_train, X_test, y_train, y_test = train_test_split(x, y, test_size=0.2, random_state=42)\n",
        "\n",
        "# Modelo\n",
        "xgb5 = XGBClassifier(max_depth=9, n_estimators=500, learning_rate=0.9, random_state=42)\n",
        "xgb5.fit(X_train, y_train)\n",
        "\n",
        "# Medidas\n",
        "answer = xgb5.predict(X_test)\n",
        "acc_score = accuracy_score(y_test, answer)\n",
        "print(acc_score)\n",
        "roc = roc_curve(y_test, answer)\n",
        "print(roc)\n",
        "auc_score = auc(roc[0], roc[1])\n",
        "print(auc_score)"
      ],
      "execution_count": 43,
      "outputs": [
        {
          "output_type": "stream",
          "text": [
            "0.9653782251759186\n",
            "(array([0.        , 0.01521806, 1.        ]), array([0.       , 0.5345805, 1.       ]), array([2, 1, 0]))\n",
            "0.7596812207332803\n"
          ],
          "name": "stdout"
        }
      ]
    },
    {
      "cell_type": "markdown",
      "metadata": {
        "id": "6eodgMgGDTSN"
      },
      "source": [
        "LLENAR TEST"
      ]
    },
    {
      "cell_type": "code",
      "metadata": {
        "id": "-Cw7xb8cEiwe"
      },
      "source": [
        "test = df_test[['Cliente']]\n",
        "test = test.merge(df_est, on='Cliente')\n",
        "test['Año'] = 2020\n",
        "test['Mes'] = 10\n",
        "test = test[['Año', 'Mes', 'Cliente', 'Regional2', 'Gerencia2', 'SubCanal2', 'Categoria', 'Nevera']]\n",
        "\n",
        "test['Regional2'] = test['Regional2'].astype('category')\n",
        "test['Gerencia2'] = test['Gerencia2'].astype('category')\n",
        "test['SubCanal2'] = test['SubCanal2'].astype('category')\n",
        "test['Categoria'] = test['Categoria'].astype('category')\n",
        "\n",
        "test['Regional2'] = test.Regional2.cat.codes\n",
        "test['Gerencia2'] = test.Gerencia2.cat.codes\n",
        "test['SubCanal2'] = test.SubCanal2.cat.codes\n",
        "test['Categoria'] = test.Categoria.cat.codes"
      ],
      "execution_count": 44,
      "outputs": []
    },
    {
      "cell_type": "code",
      "metadata": {
        "id": "T3onBr1mDfav"
      },
      "source": [
        "prob1 = xgb1.predict_proba(test)[:, 1]\n",
        "prob2 = xgb2.predict_proba(test)[:, 1]\n",
        "prob3 = xgb3.predict_proba(test)[:, 1]\n",
        "prob4 = xgb4.predict_proba(test)[:, 1]\n",
        "prob5 = xgb5.predict_proba(test)[:, 1]"
      ],
      "execution_count": 45,
      "outputs": []
    },
    {
      "cell_type": "code",
      "metadata": {
        "id": "nA5Dqsh4DU9a"
      },
      "source": [
        "\n",
        "test['Marca1'] = prob1\n",
        "test['Marca2'] = prob2\n",
        "test['Marca3'] = prob3\n",
        "test['Marca_Inno1'] = prob4\n",
        "test['Marca_Inno2'] = prob5"
      ],
      "execution_count": 46,
      "outputs": []
    },
    {
      "cell_type": "code",
      "metadata": {
        "id": "uPqMEXUNEHxD"
      },
      "source": [
        "final = test[['Cliente', 'Marca1', 'Marca2', 'Marca3', 'Marca_Inno1', 'Marca_Inno2']]\n",
        "final.columns = df_test.columns\n",
        "final.to_csv('input4_clientes_test.csv', sep=',', encoding='utf-8', index=False)"
      ],
      "execution_count": 47,
      "outputs": []
    },
    {
      "cell_type": "code",
      "metadata": {
        "id": "aOVh4W2OFApR"
      },
      "source": [
        ""
      ],
      "execution_count": 47,
      "outputs": []
    },
    {
      "cell_type": "markdown",
      "metadata": {
        "id": "JxlrINoKLNEW"
      },
      "source": [
        "Nueva Estrategia"
      ]
    },
    {
      "cell_type": "code",
      "metadata": {
        "colab": {
          "base_uri": "https://localhost:8080/",
          "height": 570
        },
        "id": "D0oShX3MLOs-",
        "outputId": "f3056882-27e1-490a-c107-52fcae9bdbd2"
      },
      "source": [
        "df_new_venta = df_venta.copy()\n",
        "def createProduct(x):\n",
        "    result = x['Marca2'] + '-' + x['Cupo2'] + '-' + x['CapacidadEnvase2']\n",
        "    return result\n",
        "df_new_venta['producto'] = df_new_venta.apply(createProduct, axis=1)\n",
        "df_new_venta"
      ],
      "execution_count": 48,
      "outputs": [
        {
          "output_type": "execute_result",
          "data": {
            "text/html": [
              "<div>\n",
              "<style scoped>\n",
              "    .dataframe tbody tr th:only-of-type {\n",
              "        vertical-align: middle;\n",
              "    }\n",
              "\n",
              "    .dataframe tbody tr th {\n",
              "        vertical-align: top;\n",
              "    }\n",
              "\n",
              "    .dataframe thead th {\n",
              "        text-align: right;\n",
              "    }\n",
              "</style>\n",
              "<table border=\"1\" class=\"dataframe\">\n",
              "  <thead>\n",
              "    <tr style=\"text-align: right;\">\n",
              "      <th></th>\n",
              "      <th>Año</th>\n",
              "      <th>Mes</th>\n",
              "      <th>Cliente</th>\n",
              "      <th>SegmentoPrecio2</th>\n",
              "      <th>Marca2</th>\n",
              "      <th>Cupo2</th>\n",
              "      <th>CapacidadEnvase2</th>\n",
              "      <th>Volumen</th>\n",
              "      <th>disc</th>\n",
              "      <th>nr</th>\n",
              "      <th>producto</th>\n",
              "    </tr>\n",
              "  </thead>\n",
              "  <tbody>\n",
              "    <tr>\n",
              "      <th>0</th>\n",
              "      <td>2019</td>\n",
              "      <td>5</td>\n",
              "      <td>10</td>\n",
              "      <td>SegmentoPrecio_1</td>\n",
              "      <td>Marca_1</td>\n",
              "      <td>Cupo_1</td>\n",
              "      <td>CapacidadEnvase_12</td>\n",
              "      <td>0.112229</td>\n",
              "      <td>-30.590603</td>\n",
              "      <td>900.328567</td>\n",
              "      <td>Marca_1-Cupo_1-CapacidadEnvase_12</td>\n",
              "    </tr>\n",
              "    <tr>\n",
              "      <th>1</th>\n",
              "      <td>2019</td>\n",
              "      <td>5</td>\n",
              "      <td>10</td>\n",
              "      <td>SegmentoPrecio_1</td>\n",
              "      <td>Marca_2</td>\n",
              "      <td>Cupo_2</td>\n",
              "      <td>CapacidadEnvase_10</td>\n",
              "      <td>0.021734</td>\n",
              "      <td>0.000000</td>\n",
              "      <td>149.184463</td>\n",
              "      <td>Marca_2-Cupo_2-CapacidadEnvase_10</td>\n",
              "    </tr>\n",
              "    <tr>\n",
              "      <th>2</th>\n",
              "      <td>2019</td>\n",
              "      <td>5</td>\n",
              "      <td>10</td>\n",
              "      <td>SegmentoPrecio_2</td>\n",
              "      <td>Marca_3</td>\n",
              "      <td>Cupo_2</td>\n",
              "      <td>CapacidadEnvase_10</td>\n",
              "      <td>0.043469</td>\n",
              "      <td>0.000000</td>\n",
              "      <td>359.625828</td>\n",
              "      <td>Marca_3-Cupo_2-CapacidadEnvase_10</td>\n",
              "    </tr>\n",
              "    <tr>\n",
              "      <th>3</th>\n",
              "      <td>2019</td>\n",
              "      <td>5</td>\n",
              "      <td>10</td>\n",
              "      <td>SegmentoPrecio_1</td>\n",
              "      <td>Marca_1</td>\n",
              "      <td>Cupo_2</td>\n",
              "      <td>CapacidadEnvase_16</td>\n",
              "      <td>0.026345</td>\n",
              "      <td>-31.065261</td>\n",
              "      <td>134.748399</td>\n",
              "      <td>Marca_1-Cupo_2-CapacidadEnvase_16</td>\n",
              "    </tr>\n",
              "    <tr>\n",
              "      <th>4</th>\n",
              "      <td>2019</td>\n",
              "      <td>5</td>\n",
              "      <td>10</td>\n",
              "      <td>SegmentoPrecio_1</td>\n",
              "      <td>Marca_4</td>\n",
              "      <td>Cupo_2</td>\n",
              "      <td>CapacidadEnvase_10</td>\n",
              "      <td>0.086938</td>\n",
              "      <td>0.000000</td>\n",
              "      <td>496.901005</td>\n",
              "      <td>Marca_4-Cupo_2-CapacidadEnvase_10</td>\n",
              "    </tr>\n",
              "    <tr>\n",
              "      <th>...</th>\n",
              "      <td>...</td>\n",
              "      <td>...</td>\n",
              "      <td>...</td>\n",
              "      <td>...</td>\n",
              "      <td>...</td>\n",
              "      <td>...</td>\n",
              "      <td>...</td>\n",
              "      <td>...</td>\n",
              "      <td>...</td>\n",
              "      <td>...</td>\n",
              "      <td>...</td>\n",
              "    </tr>\n",
              "    <tr>\n",
              "      <th>1406111</th>\n",
              "      <td>2020</td>\n",
              "      <td>8</td>\n",
              "      <td>20577</td>\n",
              "      <td>SegmentoPrecio_3</td>\n",
              "      <td>Marca_39</td>\n",
              "      <td>Cupo_2</td>\n",
              "      <td>CapacidadEnvase_10</td>\n",
              "      <td>0.039122</td>\n",
              "      <td>0.000000</td>\n",
              "      <td>544.150314</td>\n",
              "      <td>Marca_39-Cupo_2-CapacidadEnvase_10</td>\n",
              "    </tr>\n",
              "    <tr>\n",
              "      <th>1406112</th>\n",
              "      <td>2020</td>\n",
              "      <td>7</td>\n",
              "      <td>20580</td>\n",
              "      <td>SegmentoPrecio_1</td>\n",
              "      <td>Marca_38</td>\n",
              "      <td>Cupo_2</td>\n",
              "      <td>CapacidadEnvase_10</td>\n",
              "      <td>0.000000</td>\n",
              "      <td>0.000000</td>\n",
              "      <td>0.000000</td>\n",
              "      <td>Marca_38-Cupo_2-CapacidadEnvase_10</td>\n",
              "    </tr>\n",
              "    <tr>\n",
              "      <th>1406113</th>\n",
              "      <td>2020</td>\n",
              "      <td>7</td>\n",
              "      <td>20580</td>\n",
              "      <td>SegmentoPrecio_3</td>\n",
              "      <td>Marca_39</td>\n",
              "      <td>Cupo_2</td>\n",
              "      <td>CapacidadEnvase_10</td>\n",
              "      <td>0.058683</td>\n",
              "      <td>0.000000</td>\n",
              "      <td>759.218996</td>\n",
              "      <td>Marca_39-Cupo_2-CapacidadEnvase_10</td>\n",
              "    </tr>\n",
              "    <tr>\n",
              "      <th>1406114</th>\n",
              "      <td>2020</td>\n",
              "      <td>9</td>\n",
              "      <td>20580</td>\n",
              "      <td>SegmentoPrecio_1</td>\n",
              "      <td>Marca_38</td>\n",
              "      <td>Cupo_2</td>\n",
              "      <td>CapacidadEnvase_10</td>\n",
              "      <td>0.000000</td>\n",
              "      <td>0.000000</td>\n",
              "      <td>0.000000</td>\n",
              "      <td>Marca_38-Cupo_2-CapacidadEnvase_10</td>\n",
              "    </tr>\n",
              "    <tr>\n",
              "      <th>1406115</th>\n",
              "      <td>2020</td>\n",
              "      <td>9</td>\n",
              "      <td>20580</td>\n",
              "      <td>SegmentoPrecio_3</td>\n",
              "      <td>Marca_39</td>\n",
              "      <td>Cupo_2</td>\n",
              "      <td>CapacidadEnvase_10</td>\n",
              "      <td>0.019561</td>\n",
              "      <td>0.000000</td>\n",
              "      <td>269.150196</td>\n",
              "      <td>Marca_39-Cupo_2-CapacidadEnvase_10</td>\n",
              "    </tr>\n",
              "  </tbody>\n",
              "</table>\n",
              "<p>1406116 rows × 11 columns</p>\n",
              "</div>"
            ],
            "text/plain": [
              "          Año  Mes  ...          nr                            producto\n",
              "0        2019    5  ...  900.328567   Marca_1-Cupo_1-CapacidadEnvase_12\n",
              "1        2019    5  ...  149.184463   Marca_2-Cupo_2-CapacidadEnvase_10\n",
              "2        2019    5  ...  359.625828   Marca_3-Cupo_2-CapacidadEnvase_10\n",
              "3        2019    5  ...  134.748399   Marca_1-Cupo_2-CapacidadEnvase_16\n",
              "4        2019    5  ...  496.901005   Marca_4-Cupo_2-CapacidadEnvase_10\n",
              "...       ...  ...  ...         ...                                 ...\n",
              "1406111  2020    8  ...  544.150314  Marca_39-Cupo_2-CapacidadEnvase_10\n",
              "1406112  2020    7  ...    0.000000  Marca_38-Cupo_2-CapacidadEnvase_10\n",
              "1406113  2020    7  ...  759.218996  Marca_39-Cupo_2-CapacidadEnvase_10\n",
              "1406114  2020    9  ...    0.000000  Marca_38-Cupo_2-CapacidadEnvase_10\n",
              "1406115  2020    9  ...  269.150196  Marca_39-Cupo_2-CapacidadEnvase_10\n",
              "\n",
              "[1406116 rows x 11 columns]"
            ]
          },
          "metadata": {
            "tags": []
          },
          "execution_count": 48
        }
      ]
    },
    {
      "cell_type": "code",
      "metadata": {
        "colab": {
          "base_uri": "https://localhost:8080/",
          "height": 402
        },
        "id": "pS4mB7IzLiH4",
        "outputId": "1233035f-a3a3-4d7a-88a6-66ba821af08d"
      },
      "source": [
        "df_new_venta['SegmentoPrecio2'] = df_new_venta['SegmentoPrecio2'].astype('category')\n",
        "df_new_venta['Marca2'] = df_new_venta['Marca2'].astype('category')\n",
        "df_new_venta['Cupo2'] = df_new_venta['Cupo2'].astype('category')\n",
        "df_new_venta['CapacidadEnvase2'] = df_new_venta['CapacidadEnvase2'].astype('category')\n",
        "\n",
        "\n",
        "df_new_venta['SegmentoPrecio2'] = df_new_venta.SegmentoPrecio2.cat.codes\n",
        "df_new_venta['Marca2'] = df_new_venta.Marca2.cat.codes\n",
        "df_new_venta['Cupo2'] = df_new_venta.Cupo2.cat.codes\n",
        "df_new_venta['CapacidadEnvase2'] = df_new_venta.CapacidadEnvase2.cat.codes\n",
        "\n",
        "df_new_venta"
      ],
      "execution_count": 49,
      "outputs": [
        {
          "output_type": "execute_result",
          "data": {
            "text/html": [
              "<div>\n",
              "<style scoped>\n",
              "    .dataframe tbody tr th:only-of-type {\n",
              "        vertical-align: middle;\n",
              "    }\n",
              "\n",
              "    .dataframe tbody tr th {\n",
              "        vertical-align: top;\n",
              "    }\n",
              "\n",
              "    .dataframe thead th {\n",
              "        text-align: right;\n",
              "    }\n",
              "</style>\n",
              "<table border=\"1\" class=\"dataframe\">\n",
              "  <thead>\n",
              "    <tr style=\"text-align: right;\">\n",
              "      <th></th>\n",
              "      <th>Año</th>\n",
              "      <th>Mes</th>\n",
              "      <th>Cliente</th>\n",
              "      <th>SegmentoPrecio2</th>\n",
              "      <th>Marca2</th>\n",
              "      <th>Cupo2</th>\n",
              "      <th>CapacidadEnvase2</th>\n",
              "      <th>Volumen</th>\n",
              "      <th>disc</th>\n",
              "      <th>nr</th>\n",
              "      <th>producto</th>\n",
              "    </tr>\n",
              "  </thead>\n",
              "  <tbody>\n",
              "    <tr>\n",
              "      <th>0</th>\n",
              "      <td>2019</td>\n",
              "      <td>5</td>\n",
              "      <td>10</td>\n",
              "      <td>0</td>\n",
              "      <td>0</td>\n",
              "      <td>0</td>\n",
              "      <td>3</td>\n",
              "      <td>0.112229</td>\n",
              "      <td>-30.590603</td>\n",
              "      <td>900.328567</td>\n",
              "      <td>Marca_1-Cupo_1-CapacidadEnvase_12</td>\n",
              "    </tr>\n",
              "    <tr>\n",
              "      <th>1</th>\n",
              "      <td>2019</td>\n",
              "      <td>5</td>\n",
              "      <td>10</td>\n",
              "      <td>0</td>\n",
              "      <td>11</td>\n",
              "      <td>1</td>\n",
              "      <td>1</td>\n",
              "      <td>0.021734</td>\n",
              "      <td>0.000000</td>\n",
              "      <td>149.184463</td>\n",
              "      <td>Marca_2-Cupo_2-CapacidadEnvase_10</td>\n",
              "    </tr>\n",
              "    <tr>\n",
              "      <th>2</th>\n",
              "      <td>2019</td>\n",
              "      <td>5</td>\n",
              "      <td>10</td>\n",
              "      <td>1</td>\n",
              "      <td>22</td>\n",
              "      <td>1</td>\n",
              "      <td>1</td>\n",
              "      <td>0.043469</td>\n",
              "      <td>0.000000</td>\n",
              "      <td>359.625828</td>\n",
              "      <td>Marca_3-Cupo_2-CapacidadEnvase_10</td>\n",
              "    </tr>\n",
              "    <tr>\n",
              "      <th>3</th>\n",
              "      <td>2019</td>\n",
              "      <td>5</td>\n",
              "      <td>10</td>\n",
              "      <td>0</td>\n",
              "      <td>0</td>\n",
              "      <td>1</td>\n",
              "      <td>7</td>\n",
              "      <td>0.026345</td>\n",
              "      <td>-31.065261</td>\n",
              "      <td>134.748399</td>\n",
              "      <td>Marca_1-Cupo_2-CapacidadEnvase_16</td>\n",
              "    </tr>\n",
              "    <tr>\n",
              "      <th>4</th>\n",
              "      <td>2019</td>\n",
              "      <td>5</td>\n",
              "      <td>10</td>\n",
              "      <td>0</td>\n",
              "      <td>33</td>\n",
              "      <td>1</td>\n",
              "      <td>1</td>\n",
              "      <td>0.086938</td>\n",
              "      <td>0.000000</td>\n",
              "      <td>496.901005</td>\n",
              "      <td>Marca_4-Cupo_2-CapacidadEnvase_10</td>\n",
              "    </tr>\n",
              "    <tr>\n",
              "      <th>...</th>\n",
              "      <td>...</td>\n",
              "      <td>...</td>\n",
              "      <td>...</td>\n",
              "      <td>...</td>\n",
              "      <td>...</td>\n",
              "      <td>...</td>\n",
              "      <td>...</td>\n",
              "      <td>...</td>\n",
              "      <td>...</td>\n",
              "      <td>...</td>\n",
              "      <td>...</td>\n",
              "    </tr>\n",
              "    <tr>\n",
              "      <th>1406111</th>\n",
              "      <td>2020</td>\n",
              "      <td>8</td>\n",
              "      <td>20577</td>\n",
              "      <td>2</td>\n",
              "      <td>32</td>\n",
              "      <td>1</td>\n",
              "      <td>1</td>\n",
              "      <td>0.039122</td>\n",
              "      <td>0.000000</td>\n",
              "      <td>544.150314</td>\n",
              "      <td>Marca_39-Cupo_2-CapacidadEnvase_10</td>\n",
              "    </tr>\n",
              "    <tr>\n",
              "      <th>1406112</th>\n",
              "      <td>2020</td>\n",
              "      <td>7</td>\n",
              "      <td>20580</td>\n",
              "      <td>0</td>\n",
              "      <td>31</td>\n",
              "      <td>1</td>\n",
              "      <td>1</td>\n",
              "      <td>0.000000</td>\n",
              "      <td>0.000000</td>\n",
              "      <td>0.000000</td>\n",
              "      <td>Marca_38-Cupo_2-CapacidadEnvase_10</td>\n",
              "    </tr>\n",
              "    <tr>\n",
              "      <th>1406113</th>\n",
              "      <td>2020</td>\n",
              "      <td>7</td>\n",
              "      <td>20580</td>\n",
              "      <td>2</td>\n",
              "      <td>32</td>\n",
              "      <td>1</td>\n",
              "      <td>1</td>\n",
              "      <td>0.058683</td>\n",
              "      <td>0.000000</td>\n",
              "      <td>759.218996</td>\n",
              "      <td>Marca_39-Cupo_2-CapacidadEnvase_10</td>\n",
              "    </tr>\n",
              "    <tr>\n",
              "      <th>1406114</th>\n",
              "      <td>2020</td>\n",
              "      <td>9</td>\n",
              "      <td>20580</td>\n",
              "      <td>0</td>\n",
              "      <td>31</td>\n",
              "      <td>1</td>\n",
              "      <td>1</td>\n",
              "      <td>0.000000</td>\n",
              "      <td>0.000000</td>\n",
              "      <td>0.000000</td>\n",
              "      <td>Marca_38-Cupo_2-CapacidadEnvase_10</td>\n",
              "    </tr>\n",
              "    <tr>\n",
              "      <th>1406115</th>\n",
              "      <td>2020</td>\n",
              "      <td>9</td>\n",
              "      <td>20580</td>\n",
              "      <td>2</td>\n",
              "      <td>32</td>\n",
              "      <td>1</td>\n",
              "      <td>1</td>\n",
              "      <td>0.019561</td>\n",
              "      <td>0.000000</td>\n",
              "      <td>269.150196</td>\n",
              "      <td>Marca_39-Cupo_2-CapacidadEnvase_10</td>\n",
              "    </tr>\n",
              "  </tbody>\n",
              "</table>\n",
              "<p>1406116 rows × 11 columns</p>\n",
              "</div>"
            ],
            "text/plain": [
              "          Año  Mes  ...          nr                            producto\n",
              "0        2019    5  ...  900.328567   Marca_1-Cupo_1-CapacidadEnvase_12\n",
              "1        2019    5  ...  149.184463   Marca_2-Cupo_2-CapacidadEnvase_10\n",
              "2        2019    5  ...  359.625828   Marca_3-Cupo_2-CapacidadEnvase_10\n",
              "3        2019    5  ...  134.748399   Marca_1-Cupo_2-CapacidadEnvase_16\n",
              "4        2019    5  ...  496.901005   Marca_4-Cupo_2-CapacidadEnvase_10\n",
              "...       ...  ...  ...         ...                                 ...\n",
              "1406111  2020    8  ...  544.150314  Marca_39-Cupo_2-CapacidadEnvase_10\n",
              "1406112  2020    7  ...    0.000000  Marca_38-Cupo_2-CapacidadEnvase_10\n",
              "1406113  2020    7  ...  759.218996  Marca_39-Cupo_2-CapacidadEnvase_10\n",
              "1406114  2020    9  ...    0.000000  Marca_38-Cupo_2-CapacidadEnvase_10\n",
              "1406115  2020    9  ...  269.150196  Marca_39-Cupo_2-CapacidadEnvase_10\n",
              "\n",
              "[1406116 rows x 11 columns]"
            ]
          },
          "metadata": {
            "tags": []
          },
          "execution_count": 49
        }
      ]
    },
    {
      "cell_type": "code",
      "metadata": {
        "id": "QnsGF2AwMk7M"
      },
      "source": [
        "df_2019 = df_new_venta[df_new_venta['Año'] == 2019]\n",
        "df_2020 = df_new_venta[df_new_venta['Año'] == 2020]"
      ],
      "execution_count": 53,
      "outputs": []
    },
    {
      "cell_type": "code",
      "metadata": {
        "colab": {
          "base_uri": "https://localhost:8080/",
          "height": 195
        },
        "id": "00xgAmBQ4KsB",
        "outputId": "96147e10-eafc-439e-e03e-d2518966dfba"
      },
      "source": [
        "df_2019.head()"
      ],
      "execution_count": 54,
      "outputs": [
        {
          "output_type": "execute_result",
          "data": {
            "text/html": [
              "<div>\n",
              "<style scoped>\n",
              "    .dataframe tbody tr th:only-of-type {\n",
              "        vertical-align: middle;\n",
              "    }\n",
              "\n",
              "    .dataframe tbody tr th {\n",
              "        vertical-align: top;\n",
              "    }\n",
              "\n",
              "    .dataframe thead th {\n",
              "        text-align: right;\n",
              "    }\n",
              "</style>\n",
              "<table border=\"1\" class=\"dataframe\">\n",
              "  <thead>\n",
              "    <tr style=\"text-align: right;\">\n",
              "      <th></th>\n",
              "      <th>Año</th>\n",
              "      <th>Mes</th>\n",
              "      <th>Cliente</th>\n",
              "      <th>SegmentoPrecio2</th>\n",
              "      <th>Marca2</th>\n",
              "      <th>Cupo2</th>\n",
              "      <th>CapacidadEnvase2</th>\n",
              "      <th>Volumen</th>\n",
              "      <th>disc</th>\n",
              "      <th>nr</th>\n",
              "      <th>producto</th>\n",
              "    </tr>\n",
              "  </thead>\n",
              "  <tbody>\n",
              "    <tr>\n",
              "      <th>0</th>\n",
              "      <td>2019</td>\n",
              "      <td>5</td>\n",
              "      <td>10</td>\n",
              "      <td>0</td>\n",
              "      <td>0</td>\n",
              "      <td>0</td>\n",
              "      <td>3</td>\n",
              "      <td>0.112229</td>\n",
              "      <td>-30.590603</td>\n",
              "      <td>900.328567</td>\n",
              "      <td>Marca_1-Cupo_1-CapacidadEnvase_12</td>\n",
              "    </tr>\n",
              "    <tr>\n",
              "      <th>1</th>\n",
              "      <td>2019</td>\n",
              "      <td>5</td>\n",
              "      <td>10</td>\n",
              "      <td>0</td>\n",
              "      <td>11</td>\n",
              "      <td>1</td>\n",
              "      <td>1</td>\n",
              "      <td>0.021734</td>\n",
              "      <td>0.000000</td>\n",
              "      <td>149.184463</td>\n",
              "      <td>Marca_2-Cupo_2-CapacidadEnvase_10</td>\n",
              "    </tr>\n",
              "    <tr>\n",
              "      <th>2</th>\n",
              "      <td>2019</td>\n",
              "      <td>5</td>\n",
              "      <td>10</td>\n",
              "      <td>1</td>\n",
              "      <td>22</td>\n",
              "      <td>1</td>\n",
              "      <td>1</td>\n",
              "      <td>0.043469</td>\n",
              "      <td>0.000000</td>\n",
              "      <td>359.625828</td>\n",
              "      <td>Marca_3-Cupo_2-CapacidadEnvase_10</td>\n",
              "    </tr>\n",
              "    <tr>\n",
              "      <th>3</th>\n",
              "      <td>2019</td>\n",
              "      <td>5</td>\n",
              "      <td>10</td>\n",
              "      <td>0</td>\n",
              "      <td>0</td>\n",
              "      <td>1</td>\n",
              "      <td>7</td>\n",
              "      <td>0.026345</td>\n",
              "      <td>-31.065261</td>\n",
              "      <td>134.748399</td>\n",
              "      <td>Marca_1-Cupo_2-CapacidadEnvase_16</td>\n",
              "    </tr>\n",
              "    <tr>\n",
              "      <th>4</th>\n",
              "      <td>2019</td>\n",
              "      <td>5</td>\n",
              "      <td>10</td>\n",
              "      <td>0</td>\n",
              "      <td>33</td>\n",
              "      <td>1</td>\n",
              "      <td>1</td>\n",
              "      <td>0.086938</td>\n",
              "      <td>0.000000</td>\n",
              "      <td>496.901005</td>\n",
              "      <td>Marca_4-Cupo_2-CapacidadEnvase_10</td>\n",
              "    </tr>\n",
              "  </tbody>\n",
              "</table>\n",
              "</div>"
            ],
            "text/plain": [
              "    Año  Mes  Cliente  ...       disc          nr                           producto\n",
              "0  2019    5       10  ... -30.590603  900.328567  Marca_1-Cupo_1-CapacidadEnvase_12\n",
              "1  2019    5       10  ...   0.000000  149.184463  Marca_2-Cupo_2-CapacidadEnvase_10\n",
              "2  2019    5       10  ...   0.000000  359.625828  Marca_3-Cupo_2-CapacidadEnvase_10\n",
              "3  2019    5       10  ... -31.065261  134.748399  Marca_1-Cupo_2-CapacidadEnvase_16\n",
              "4  2019    5       10  ...   0.000000  496.901005  Marca_4-Cupo_2-CapacidadEnvase_10\n",
              "\n",
              "[5 rows x 11 columns]"
            ]
          },
          "metadata": {
            "tags": []
          },
          "execution_count": 54
        }
      ]
    },
    {
      "cell_type": "code",
      "metadata": {
        "colab": {
          "base_uri": "https://localhost:8080/"
        },
        "id": "MFgjDz0P4OEL",
        "outputId": "2eaac9da-4478-4856-c5f6-5350fa321ed1"
      },
      "source": [
        "df_2019.drop('Año', axis=1, inplace=True)"
      ],
      "execution_count": 55,
      "outputs": [
        {
          "output_type": "stream",
          "text": [
            "/usr/local/lib/python3.6/dist-packages/pandas/core/frame.py:4174: SettingWithCopyWarning: \n",
            "A value is trying to be set on a copy of a slice from a DataFrame\n",
            "\n",
            "See the caveats in the documentation: https://pandas.pydata.org/pandas-docs/stable/user_guide/indexing.html#returning-a-view-versus-a-copy\n",
            "  errors=errors,\n"
          ],
          "name": "stderr"
        }
      ]
    },
    {
      "cell_type": "code",
      "metadata": {
        "colab": {
          "base_uri": "https://localhost:8080/",
          "height": 195
        },
        "id": "LOPaDAGb42XB",
        "outputId": "b895c8dc-d210-427f-b370-612ee1e6ca6c"
      },
      "source": [
        "df_2019.head()"
      ],
      "execution_count": 56,
      "outputs": [
        {
          "output_type": "execute_result",
          "data": {
            "text/html": [
              "<div>\n",
              "<style scoped>\n",
              "    .dataframe tbody tr th:only-of-type {\n",
              "        vertical-align: middle;\n",
              "    }\n",
              "\n",
              "    .dataframe tbody tr th {\n",
              "        vertical-align: top;\n",
              "    }\n",
              "\n",
              "    .dataframe thead th {\n",
              "        text-align: right;\n",
              "    }\n",
              "</style>\n",
              "<table border=\"1\" class=\"dataframe\">\n",
              "  <thead>\n",
              "    <tr style=\"text-align: right;\">\n",
              "      <th></th>\n",
              "      <th>Mes</th>\n",
              "      <th>Cliente</th>\n",
              "      <th>SegmentoPrecio2</th>\n",
              "      <th>Marca2</th>\n",
              "      <th>Cupo2</th>\n",
              "      <th>CapacidadEnvase2</th>\n",
              "      <th>Volumen</th>\n",
              "      <th>disc</th>\n",
              "      <th>nr</th>\n",
              "      <th>producto</th>\n",
              "    </tr>\n",
              "  </thead>\n",
              "  <tbody>\n",
              "    <tr>\n",
              "      <th>0</th>\n",
              "      <td>5</td>\n",
              "      <td>10</td>\n",
              "      <td>0</td>\n",
              "      <td>0</td>\n",
              "      <td>0</td>\n",
              "      <td>3</td>\n",
              "      <td>0.112229</td>\n",
              "      <td>-30.590603</td>\n",
              "      <td>900.328567</td>\n",
              "      <td>Marca_1-Cupo_1-CapacidadEnvase_12</td>\n",
              "    </tr>\n",
              "    <tr>\n",
              "      <th>1</th>\n",
              "      <td>5</td>\n",
              "      <td>10</td>\n",
              "      <td>0</td>\n",
              "      <td>11</td>\n",
              "      <td>1</td>\n",
              "      <td>1</td>\n",
              "      <td>0.021734</td>\n",
              "      <td>0.000000</td>\n",
              "      <td>149.184463</td>\n",
              "      <td>Marca_2-Cupo_2-CapacidadEnvase_10</td>\n",
              "    </tr>\n",
              "    <tr>\n",
              "      <th>2</th>\n",
              "      <td>5</td>\n",
              "      <td>10</td>\n",
              "      <td>1</td>\n",
              "      <td>22</td>\n",
              "      <td>1</td>\n",
              "      <td>1</td>\n",
              "      <td>0.043469</td>\n",
              "      <td>0.000000</td>\n",
              "      <td>359.625828</td>\n",
              "      <td>Marca_3-Cupo_2-CapacidadEnvase_10</td>\n",
              "    </tr>\n",
              "    <tr>\n",
              "      <th>3</th>\n",
              "      <td>5</td>\n",
              "      <td>10</td>\n",
              "      <td>0</td>\n",
              "      <td>0</td>\n",
              "      <td>1</td>\n",
              "      <td>7</td>\n",
              "      <td>0.026345</td>\n",
              "      <td>-31.065261</td>\n",
              "      <td>134.748399</td>\n",
              "      <td>Marca_1-Cupo_2-CapacidadEnvase_16</td>\n",
              "    </tr>\n",
              "    <tr>\n",
              "      <th>4</th>\n",
              "      <td>5</td>\n",
              "      <td>10</td>\n",
              "      <td>0</td>\n",
              "      <td>33</td>\n",
              "      <td>1</td>\n",
              "      <td>1</td>\n",
              "      <td>0.086938</td>\n",
              "      <td>0.000000</td>\n",
              "      <td>496.901005</td>\n",
              "      <td>Marca_4-Cupo_2-CapacidadEnvase_10</td>\n",
              "    </tr>\n",
              "  </tbody>\n",
              "</table>\n",
              "</div>"
            ],
            "text/plain": [
              "   Mes  Cliente  ...          nr                           producto\n",
              "0    5       10  ...  900.328567  Marca_1-Cupo_1-CapacidadEnvase_12\n",
              "1    5       10  ...  149.184463  Marca_2-Cupo_2-CapacidadEnvase_10\n",
              "2    5       10  ...  359.625828  Marca_3-Cupo_2-CapacidadEnvase_10\n",
              "3    5       10  ...  134.748399  Marca_1-Cupo_2-CapacidadEnvase_16\n",
              "4    5       10  ...  496.901005  Marca_4-Cupo_2-CapacidadEnvase_10\n",
              "\n",
              "[5 rows x 10 columns]"
            ]
          },
          "metadata": {
            "tags": []
          },
          "execution_count": 56
        }
      ]
    },
    {
      "cell_type": "code",
      "metadata": {
        "id": "U6HSvlBt46s4"
      },
      "source": [
        "unique_mes = list(df_2019['Mes'].unique())\n",
        "unique_cliente = list(df_2019['Cliente'].unique())\n",
        "\n",
        "list_dict = []\n",
        "for mes in unique_mes:\n",
        "  for cliente in unique_cliente:\n",
        "    aux = df_2019[(df_2019['Mes'] == mes) & (df_2019['Cliente'] == cliente)]\n",
        "    if len(aux) > 0:\n",
        "      dicty = {'Año': 2019, 'Mes': mes, 'Cliente': cliente}\n",
        "      Segmento = aux['SegmentoPrecio2'].value_counts()\n",
        "      Segmento_index = list(Segmento.index)\n",
        "      Segmento_values = np.array(list(Segmento.values))\n",
        "      best_segmento = np.argmax(Segmento_values)\n",
        "      best_index = Segmento_index[best_segmento]\n",
        "      dicty['SegmentoPrecio2'] = best_index\n",
        "\n",
        "      marca = aux['Marca2'].value_counts()\n",
        "      marca_index = list(marca.index)\n",
        "      marca_values = np.array(list(marca.values))\n",
        "      best_marca = np.argmax(marca_values)\n",
        "      best_index = marca_index[best_marca]\n",
        "      dicty['Marca2'] = best_index\n",
        "\n",
        "\n",
        "      cupo = aux['Cupo2'].value_counts()\n",
        "      cupo_index = list(cupo.index)\n",
        "      cupo_values = np.array(list(cupo.values))\n",
        "      best_cupo = np.argmax(cupo_values)\n",
        "      best_index = cupo_index[best_cupo]\n",
        "      dicty['Cupo2'] = best_index\n",
        "\n",
        "      list_dict.append(dicty)"
      ],
      "execution_count": 64,
      "outputs": []
    },
    {
      "cell_type": "code",
      "metadata": {
        "colab": {
          "base_uri": "https://localhost:8080/",
          "height": 195
        },
        "id": "dEoAF0dy8f30",
        "outputId": "4221e3c2-cc5f-4db6-a1a4-f90a49cffb8c"
      },
      "source": [
        "df_new_2019 = pd.DataFrame(list_dict)\n",
        "df_new_2019.head()"
      ],
      "execution_count": 65,
      "outputs": [
        {
          "output_type": "execute_result",
          "data": {
            "text/html": [
              "<div>\n",
              "<style scoped>\n",
              "    .dataframe tbody tr th:only-of-type {\n",
              "        vertical-align: middle;\n",
              "    }\n",
              "\n",
              "    .dataframe tbody tr th {\n",
              "        vertical-align: top;\n",
              "    }\n",
              "\n",
              "    .dataframe thead th {\n",
              "        text-align: right;\n",
              "    }\n",
              "</style>\n",
              "<table border=\"1\" class=\"dataframe\">\n",
              "  <thead>\n",
              "    <tr style=\"text-align: right;\">\n",
              "      <th></th>\n",
              "      <th>Año</th>\n",
              "      <th>Mes</th>\n",
              "      <th>Cliente</th>\n",
              "      <th>SegmentoPrecio2</th>\n",
              "      <th>Marca2</th>\n",
              "      <th>Cupo2</th>\n",
              "    </tr>\n",
              "  </thead>\n",
              "  <tbody>\n",
              "    <tr>\n",
              "      <th>0</th>\n",
              "      <td>2019</td>\n",
              "      <td>5</td>\n",
              "      <td>10</td>\n",
              "      <td>0</td>\n",
              "      <td>0</td>\n",
              "      <td>1</td>\n",
              "    </tr>\n",
              "    <tr>\n",
              "      <th>1</th>\n",
              "      <td>2019</td>\n",
              "      <td>5</td>\n",
              "      <td>12</td>\n",
              "      <td>1</td>\n",
              "      <td>36</td>\n",
              "      <td>1</td>\n",
              "    </tr>\n",
              "    <tr>\n",
              "      <th>2</th>\n",
              "      <td>2019</td>\n",
              "      <td>5</td>\n",
              "      <td>14</td>\n",
              "      <td>0</td>\n",
              "      <td>0</td>\n",
              "      <td>1</td>\n",
              "    </tr>\n",
              "    <tr>\n",
              "      <th>3</th>\n",
              "      <td>2019</td>\n",
              "      <td>5</td>\n",
              "      <td>15</td>\n",
              "      <td>0</td>\n",
              "      <td>34</td>\n",
              "      <td>1</td>\n",
              "    </tr>\n",
              "    <tr>\n",
              "      <th>4</th>\n",
              "      <td>2019</td>\n",
              "      <td>5</td>\n",
              "      <td>18</td>\n",
              "      <td>0</td>\n",
              "      <td>0</td>\n",
              "      <td>1</td>\n",
              "    </tr>\n",
              "  </tbody>\n",
              "</table>\n",
              "</div>"
            ],
            "text/plain": [
              "    Año  Mes  Cliente  SegmentoPrecio2  Marca2  Cupo2\n",
              "0  2019    5       10                0       0      1\n",
              "1  2019    5       12                1      36      1\n",
              "2  2019    5       14                0       0      1\n",
              "3  2019    5       15                0      34      1\n",
              "4  2019    5       18                0       0      1"
            ]
          },
          "metadata": {
            "tags": []
          },
          "execution_count": 65
        }
      ]
    },
    {
      "cell_type": "code",
      "metadata": {
        "colab": {
          "base_uri": "https://localhost:8080/"
        },
        "id": "sjmvwCTaFGfn",
        "outputId": "8b65016d-1070-4746-cc2a-0b2162c42b42"
      },
      "source": [
        "df_new_2019.isnull().sum()"
      ],
      "execution_count": 66,
      "outputs": [
        {
          "output_type": "execute_result",
          "data": {
            "text/plain": [
              "Año                0\n",
              "Mes                0\n",
              "Cliente            0\n",
              "SegmentoPrecio2    0\n",
              "Marca2             0\n",
              "Cupo2              0\n",
              "dtype: int64"
            ]
          },
          "metadata": {
            "tags": []
          },
          "execution_count": 66
        }
      ]
    },
    {
      "cell_type": "code",
      "metadata": {
        "id": "thQSi_6OCgZB"
      },
      "source": [
        "unique_mes = list(df_2020['Mes'].unique())\n",
        "unique_cliente = list(df_2020['Cliente'].unique())\n",
        "\n",
        "list_dict = []\n",
        "for mes in unique_mes:\n",
        "  for cliente in unique_cliente:\n",
        "    aux = df_2020[(df_2020['Mes'] == mes) & (df_2020['Cliente'] == cliente)]\n",
        "    if len(aux) > 0:\n",
        "      dicty = {'Año': 2020, 'Mes': mes, 'Cliente': cliente}\n",
        "      Segmento = aux['SegmentoPrecio2'].value_counts()\n",
        "      Segmento_index = list(Segmento.index)\n",
        "      Segmento_values = np.array(list(Segmento.values))\n",
        "      best_segmento = np.argmax(Segmento_values)\n",
        "      best_index = Segmento_index[best_segmento]\n",
        "      dicty['SegmentoPrecio2'] = best_index\n",
        "\n",
        "      marca = aux['Marca2'].value_counts()\n",
        "      marca_index = list(marca.index)\n",
        "      marca_values = np.array(list(marca.values))\n",
        "      best_marca = np.argmax(marca_values)\n",
        "      best_index = marca_index[best_marca]\n",
        "      dicty['Marca2'] = best_index\n",
        "\n",
        "\n",
        "      cupo = aux['Cupo2'].value_counts()\n",
        "      cupo_index = list(cupo.index)\n",
        "      cupo_values = np.array(list(cupo.values))\n",
        "      best_cupo = np.argmax(cupo_values)\n",
        "      best_index = cupo_index[best_cupo]\n",
        "      dicty['Cupo2'] = best_index\n",
        "\n",
        "      list_dict.append(dicty)"
      ],
      "execution_count": 67,
      "outputs": []
    },
    {
      "cell_type": "code",
      "metadata": {
        "colab": {
          "base_uri": "https://localhost:8080/",
          "height": 195
        },
        "id": "fxPn5gkQFKJC",
        "outputId": "6175fca6-17c6-4135-a7b5-fb3307262ddb"
      },
      "source": [
        "df_new_2020 = pd.DataFrame(list_dict)\n",
        "df_new_2020.head()"
      ],
      "execution_count": 68,
      "outputs": [
        {
          "output_type": "execute_result",
          "data": {
            "text/html": [
              "<div>\n",
              "<style scoped>\n",
              "    .dataframe tbody tr th:only-of-type {\n",
              "        vertical-align: middle;\n",
              "    }\n",
              "\n",
              "    .dataframe tbody tr th {\n",
              "        vertical-align: top;\n",
              "    }\n",
              "\n",
              "    .dataframe thead th {\n",
              "        text-align: right;\n",
              "    }\n",
              "</style>\n",
              "<table border=\"1\" class=\"dataframe\">\n",
              "  <thead>\n",
              "    <tr style=\"text-align: right;\">\n",
              "      <th></th>\n",
              "      <th>Año</th>\n",
              "      <th>Mes</th>\n",
              "      <th>Cliente</th>\n",
              "      <th>SegmentoPrecio2</th>\n",
              "      <th>Marca2</th>\n",
              "      <th>Cupo2</th>\n",
              "    </tr>\n",
              "  </thead>\n",
              "  <tbody>\n",
              "    <tr>\n",
              "      <th>0</th>\n",
              "      <td>2020</td>\n",
              "      <td>1</td>\n",
              "      <td>10</td>\n",
              "      <td>0</td>\n",
              "      <td>0</td>\n",
              "      <td>1</td>\n",
              "    </tr>\n",
              "    <tr>\n",
              "      <th>1</th>\n",
              "      <td>2020</td>\n",
              "      <td>1</td>\n",
              "      <td>12</td>\n",
              "      <td>0</td>\n",
              "      <td>33</td>\n",
              "      <td>1</td>\n",
              "    </tr>\n",
              "    <tr>\n",
              "      <th>2</th>\n",
              "      <td>2020</td>\n",
              "      <td>1</td>\n",
              "      <td>14</td>\n",
              "      <td>0</td>\n",
              "      <td>0</td>\n",
              "      <td>1</td>\n",
              "    </tr>\n",
              "    <tr>\n",
              "      <th>3</th>\n",
              "      <td>2020</td>\n",
              "      <td>1</td>\n",
              "      <td>15</td>\n",
              "      <td>0</td>\n",
              "      <td>34</td>\n",
              "      <td>1</td>\n",
              "    </tr>\n",
              "    <tr>\n",
              "      <th>4</th>\n",
              "      <td>2020</td>\n",
              "      <td>1</td>\n",
              "      <td>18</td>\n",
              "      <td>0</td>\n",
              "      <td>0</td>\n",
              "      <td>1</td>\n",
              "    </tr>\n",
              "  </tbody>\n",
              "</table>\n",
              "</div>"
            ],
            "text/plain": [
              "    Año  Mes  Cliente  SegmentoPrecio2  Marca2  Cupo2\n",
              "0  2020    1       10                0       0      1\n",
              "1  2020    1       12                0      33      1\n",
              "2  2020    1       14                0       0      1\n",
              "3  2020    1       15                0      34      1\n",
              "4  2020    1       18                0       0      1"
            ]
          },
          "metadata": {
            "tags": []
          },
          "execution_count": 68
        }
      ]
    },
    {
      "cell_type": "code",
      "metadata": {
        "id": "cMMIbMQXGmjU"
      },
      "source": [
        "df_new_venta_2 = pd.concat([df_new_2019, df_new_2020], ignore_index=True)"
      ],
      "execution_count": 70,
      "outputs": []
    },
    {
      "cell_type": "code",
      "metadata": {
        "colab": {
          "base_uri": "https://localhost:8080/",
          "height": 195
        },
        "id": "DXDg7gMZIE6e",
        "outputId": "6fdb9cae-2cf4-4fd7-e3f9-a236d09539b6"
      },
      "source": [
        "df_new_venta_2.head()"
      ],
      "execution_count": 71,
      "outputs": [
        {
          "output_type": "execute_result",
          "data": {
            "text/html": [
              "<div>\n",
              "<style scoped>\n",
              "    .dataframe tbody tr th:only-of-type {\n",
              "        vertical-align: middle;\n",
              "    }\n",
              "\n",
              "    .dataframe tbody tr th {\n",
              "        vertical-align: top;\n",
              "    }\n",
              "\n",
              "    .dataframe thead th {\n",
              "        text-align: right;\n",
              "    }\n",
              "</style>\n",
              "<table border=\"1\" class=\"dataframe\">\n",
              "  <thead>\n",
              "    <tr style=\"text-align: right;\">\n",
              "      <th></th>\n",
              "      <th>Año</th>\n",
              "      <th>Mes</th>\n",
              "      <th>Cliente</th>\n",
              "      <th>SegmentoPrecio2</th>\n",
              "      <th>Marca2</th>\n",
              "      <th>Cupo2</th>\n",
              "    </tr>\n",
              "  </thead>\n",
              "  <tbody>\n",
              "    <tr>\n",
              "      <th>0</th>\n",
              "      <td>2019</td>\n",
              "      <td>5</td>\n",
              "      <td>10</td>\n",
              "      <td>0</td>\n",
              "      <td>0</td>\n",
              "      <td>1</td>\n",
              "    </tr>\n",
              "    <tr>\n",
              "      <th>1</th>\n",
              "      <td>2019</td>\n",
              "      <td>5</td>\n",
              "      <td>12</td>\n",
              "      <td>1</td>\n",
              "      <td>36</td>\n",
              "      <td>1</td>\n",
              "    </tr>\n",
              "    <tr>\n",
              "      <th>2</th>\n",
              "      <td>2019</td>\n",
              "      <td>5</td>\n",
              "      <td>14</td>\n",
              "      <td>0</td>\n",
              "      <td>0</td>\n",
              "      <td>1</td>\n",
              "    </tr>\n",
              "    <tr>\n",
              "      <th>3</th>\n",
              "      <td>2019</td>\n",
              "      <td>5</td>\n",
              "      <td>15</td>\n",
              "      <td>0</td>\n",
              "      <td>34</td>\n",
              "      <td>1</td>\n",
              "    </tr>\n",
              "    <tr>\n",
              "      <th>4</th>\n",
              "      <td>2019</td>\n",
              "      <td>5</td>\n",
              "      <td>18</td>\n",
              "      <td>0</td>\n",
              "      <td>0</td>\n",
              "      <td>1</td>\n",
              "    </tr>\n",
              "  </tbody>\n",
              "</table>\n",
              "</div>"
            ],
            "text/plain": [
              "    Año  Mes  Cliente  SegmentoPrecio2  Marca2  Cupo2\n",
              "0  2019    5       10                0       0      1\n",
              "1  2019    5       12                1      36      1\n",
              "2  2019    5       14                0       0      1\n",
              "3  2019    5       15                0      34      1\n",
              "4  2019    5       18                0       0      1"
            ]
          },
          "metadata": {
            "tags": []
          },
          "execution_count": 71
        }
      ]
    },
    {
      "cell_type": "code",
      "metadata": {
        "id": "85NULrhzIJkt"
      },
      "source": [
        "unique_cliente = list(df_new_venta_2['Cliente'].unique())\n",
        "\n",
        "list_dict = []\n",
        "for cliente in unique_cliente:\n",
        "  cliente_df = df_new_venta_2[df_new_venta_2['Cliente'] == cliente]\n",
        "  dicty = {'Cliente': cliente}\n",
        "  marcas = cliente_df['Marca2'].value_counts()\n",
        "  marcas_index = list(marcas.index)\n",
        "  marcas_values = list(marcas.values)\n",
        "\n",
        "  union = list(zip(marcas_index, marcas_values))\n",
        "  union_sort = sorted(union, key=lambda x: x[1], reverse=True)\n",
        "  for i in range(3):\n",
        "    if i < len(union_sort):\n",
        "      first = union_sort[i]\n",
        "    dicty['fav{}'.format(i + 1)] = first[0]\n",
        "\n",
        "  list_dict.append(dicty)\n"
      ],
      "execution_count": 78,
      "outputs": []
    },
    {
      "cell_type": "code",
      "metadata": {
        "colab": {
          "base_uri": "https://localhost:8080/",
          "height": 195
        },
        "id": "QOme_B2PI51-",
        "outputId": "47f073a2-d776-4876-adf1-f54517931268"
      },
      "source": [
        "df_fav = pd.DataFrame(list_dict)\n",
        "df_fav.head()"
      ],
      "execution_count": 79,
      "outputs": [
        {
          "output_type": "execute_result",
          "data": {
            "text/html": [
              "<div>\n",
              "<style scoped>\n",
              "    .dataframe tbody tr th:only-of-type {\n",
              "        vertical-align: middle;\n",
              "    }\n",
              "\n",
              "    .dataframe tbody tr th {\n",
              "        vertical-align: top;\n",
              "    }\n",
              "\n",
              "    .dataframe thead th {\n",
              "        text-align: right;\n",
              "    }\n",
              "</style>\n",
              "<table border=\"1\" class=\"dataframe\">\n",
              "  <thead>\n",
              "    <tr style=\"text-align: right;\">\n",
              "      <th></th>\n",
              "      <th>Cliente</th>\n",
              "      <th>fav1</th>\n",
              "      <th>fav2</th>\n",
              "      <th>fav3</th>\n",
              "    </tr>\n",
              "  </thead>\n",
              "  <tbody>\n",
              "    <tr>\n",
              "      <th>0</th>\n",
              "      <td>10</td>\n",
              "      <td>0</td>\n",
              "      <td>34</td>\n",
              "      <td>33</td>\n",
              "    </tr>\n",
              "    <tr>\n",
              "      <th>1</th>\n",
              "      <td>12</td>\n",
              "      <td>3</td>\n",
              "      <td>35</td>\n",
              "      <td>36</td>\n",
              "    </tr>\n",
              "    <tr>\n",
              "      <th>2</th>\n",
              "      <td>14</td>\n",
              "      <td>0</td>\n",
              "      <td>34</td>\n",
              "      <td>34</td>\n",
              "    </tr>\n",
              "    <tr>\n",
              "      <th>3</th>\n",
              "      <td>15</td>\n",
              "      <td>34</td>\n",
              "      <td>0</td>\n",
              "      <td>33</td>\n",
              "    </tr>\n",
              "    <tr>\n",
              "      <th>4</th>\n",
              "      <td>18</td>\n",
              "      <td>0</td>\n",
              "      <td>34</td>\n",
              "      <td>34</td>\n",
              "    </tr>\n",
              "  </tbody>\n",
              "</table>\n",
              "</div>"
            ],
            "text/plain": [
              "   Cliente  fav1  fav2  fav3\n",
              "0       10     0    34    33\n",
              "1       12     3    35    36\n",
              "2       14     0    34    34\n",
              "3       15    34     0    33\n",
              "4       18     0    34    34"
            ]
          },
          "metadata": {
            "tags": []
          },
          "execution_count": 79
        }
      ]
    },
    {
      "cell_type": "code",
      "metadata": {
        "colab": {
          "base_uri": "https://localhost:8080/",
          "height": 195
        },
        "id": "ZPdaicNHPXzP",
        "outputId": "12d6707b-0566-4077-cf22-7b91ccbb8632"
      },
      "source": [
        "cliente_info = cliente_info.merge(df_fav, on='Cliente')\n",
        "cliente_info.head()"
      ],
      "execution_count": 80,
      "outputs": [
        {
          "output_type": "execute_result",
          "data": {
            "text/html": [
              "<div>\n",
              "<style scoped>\n",
              "    .dataframe tbody tr th:only-of-type {\n",
              "        vertical-align: middle;\n",
              "    }\n",
              "\n",
              "    .dataframe tbody tr th {\n",
              "        vertical-align: top;\n",
              "    }\n",
              "\n",
              "    .dataframe thead th {\n",
              "        text-align: right;\n",
              "    }\n",
              "</style>\n",
              "<table border=\"1\" class=\"dataframe\">\n",
              "  <thead>\n",
              "    <tr style=\"text-align: right;\">\n",
              "      <th></th>\n",
              "      <th>Cliente</th>\n",
              "      <th>Regional2</th>\n",
              "      <th>Gerencia2</th>\n",
              "      <th>SubCanal2</th>\n",
              "      <th>Categoria</th>\n",
              "      <th>Nevera</th>\n",
              "      <th>fav1</th>\n",
              "      <th>fav2</th>\n",
              "      <th>fav3</th>\n",
              "    </tr>\n",
              "  </thead>\n",
              "  <tbody>\n",
              "    <tr>\n",
              "      <th>0</th>\n",
              "      <td>1</td>\n",
              "      <td>0</td>\n",
              "      <td>0</td>\n",
              "      <td>0</td>\n",
              "      <td>0</td>\n",
              "      <td>0</td>\n",
              "      <td>33</td>\n",
              "      <td>31</td>\n",
              "      <td>11</td>\n",
              "    </tr>\n",
              "    <tr>\n",
              "      <th>1</th>\n",
              "      <td>2</td>\n",
              "      <td>0</td>\n",
              "      <td>0</td>\n",
              "      <td>0</td>\n",
              "      <td>0</td>\n",
              "      <td>0</td>\n",
              "      <td>33</td>\n",
              "      <td>1</td>\n",
              "      <td>36</td>\n",
              "    </tr>\n",
              "    <tr>\n",
              "      <th>2</th>\n",
              "      <td>3</td>\n",
              "      <td>0</td>\n",
              "      <td>0</td>\n",
              "      <td>0</td>\n",
              "      <td>0</td>\n",
              "      <td>0</td>\n",
              "      <td>33</td>\n",
              "      <td>31</td>\n",
              "      <td>31</td>\n",
              "    </tr>\n",
              "    <tr>\n",
              "      <th>3</th>\n",
              "      <td>4</td>\n",
              "      <td>0</td>\n",
              "      <td>0</td>\n",
              "      <td>0</td>\n",
              "      <td>0</td>\n",
              "      <td>1</td>\n",
              "      <td>11</td>\n",
              "      <td>31</td>\n",
              "      <td>6</td>\n",
              "    </tr>\n",
              "    <tr>\n",
              "      <th>4</th>\n",
              "      <td>5</td>\n",
              "      <td>0</td>\n",
              "      <td>0</td>\n",
              "      <td>0</td>\n",
              "      <td>1</td>\n",
              "      <td>1</td>\n",
              "      <td>33</td>\n",
              "      <td>0</td>\n",
              "      <td>12</td>\n",
              "    </tr>\n",
              "  </tbody>\n",
              "</table>\n",
              "</div>"
            ],
            "text/plain": [
              "   Cliente  Regional2  Gerencia2  SubCanal2  ...  Nevera  fav1  fav2  fav3\n",
              "0        1          0          0          0  ...       0    33    31    11\n",
              "1        2          0          0          0  ...       0    33     1    36\n",
              "2        3          0          0          0  ...       0    33    31    31\n",
              "3        4          0          0          0  ...       1    11    31     6\n",
              "4        5          0          0          0  ...       1    33     0    12\n",
              "\n",
              "[5 rows x 9 columns]"
            ]
          },
          "metadata": {
            "tags": []
          },
          "execution_count": 80
        }
      ]
    },
    {
      "cell_type": "code",
      "metadata": {
        "colab": {
          "base_uri": "https://localhost:8080/",
          "height": 195
        },
        "id": "R4dx5U1lQjXI",
        "outputId": "8917c809-59d7-438f-d2be-95dd47fdfc99"
      },
      "source": [
        "result.head()"
      ],
      "execution_count": 81,
      "outputs": [
        {
          "output_type": "execute_result",
          "data": {
            "text/html": [
              "<div>\n",
              "<style scoped>\n",
              "    .dataframe tbody tr th:only-of-type {\n",
              "        vertical-align: middle;\n",
              "    }\n",
              "\n",
              "    .dataframe tbody tr th {\n",
              "        vertical-align: top;\n",
              "    }\n",
              "\n",
              "    .dataframe thead th {\n",
              "        text-align: right;\n",
              "    }\n",
              "</style>\n",
              "<table border=\"1\" class=\"dataframe\">\n",
              "  <thead>\n",
              "    <tr style=\"text-align: right;\">\n",
              "      <th></th>\n",
              "      <th>Año</th>\n",
              "      <th>Mes</th>\n",
              "      <th>Cliente</th>\n",
              "      <th>Marca1</th>\n",
              "      <th>Marca2</th>\n",
              "      <th>Marca3</th>\n",
              "      <th>MarcaInno1</th>\n",
              "      <th>MarcaInno2</th>\n",
              "    </tr>\n",
              "  </thead>\n",
              "  <tbody>\n",
              "    <tr>\n",
              "      <th>0</th>\n",
              "      <td>2019</td>\n",
              "      <td>5</td>\n",
              "      <td>9</td>\n",
              "      <td>0</td>\n",
              "      <td>0</td>\n",
              "      <td>0</td>\n",
              "      <td>0</td>\n",
              "      <td>0</td>\n",
              "    </tr>\n",
              "    <tr>\n",
              "      <th>1</th>\n",
              "      <td>2019</td>\n",
              "      <td>5</td>\n",
              "      <td>10</td>\n",
              "      <td>0</td>\n",
              "      <td>0</td>\n",
              "      <td>0</td>\n",
              "      <td>0</td>\n",
              "      <td>0</td>\n",
              "    </tr>\n",
              "    <tr>\n",
              "      <th>2</th>\n",
              "      <td>2019</td>\n",
              "      <td>5</td>\n",
              "      <td>11</td>\n",
              "      <td>0</td>\n",
              "      <td>0</td>\n",
              "      <td>0</td>\n",
              "      <td>0</td>\n",
              "      <td>0</td>\n",
              "    </tr>\n",
              "    <tr>\n",
              "      <th>3</th>\n",
              "      <td>2019</td>\n",
              "      <td>5</td>\n",
              "      <td>12</td>\n",
              "      <td>0</td>\n",
              "      <td>1</td>\n",
              "      <td>0</td>\n",
              "      <td>0</td>\n",
              "      <td>0</td>\n",
              "    </tr>\n",
              "    <tr>\n",
              "      <th>4</th>\n",
              "      <td>2019</td>\n",
              "      <td>5</td>\n",
              "      <td>13</td>\n",
              "      <td>0</td>\n",
              "      <td>0</td>\n",
              "      <td>0</td>\n",
              "      <td>0</td>\n",
              "      <td>0</td>\n",
              "    </tr>\n",
              "  </tbody>\n",
              "</table>\n",
              "</div>"
            ],
            "text/plain": [
              "    Año  Mes  Cliente  Marca1  Marca2  Marca3  MarcaInno1  MarcaInno2\n",
              "0  2019    5        9       0       0       0           0           0\n",
              "1  2019    5       10       0       0       0           0           0\n",
              "2  2019    5       11       0       0       0           0           0\n",
              "3  2019    5       12       0       1       0           0           0\n",
              "4  2019    5       13       0       0       0           0           0"
            ]
          },
          "metadata": {
            "tags": []
          },
          "execution_count": 81
        }
      ]
    },
    {
      "cell_type": "code",
      "metadata": {
        "colab": {
          "base_uri": "https://localhost:8080/",
          "height": 195
        },
        "id": "BEia3VS7Qw5w",
        "outputId": "271ee68a-649d-49b4-bfd5-0550022c06a3"
      },
      "source": [
        "full_union = result.merge(cliente_info, on='Cliente')\n",
        "full_union.head()"
      ],
      "execution_count": 110,
      "outputs": [
        {
          "output_type": "execute_result",
          "data": {
            "text/html": [
              "<div>\n",
              "<style scoped>\n",
              "    .dataframe tbody tr th:only-of-type {\n",
              "        vertical-align: middle;\n",
              "    }\n",
              "\n",
              "    .dataframe tbody tr th {\n",
              "        vertical-align: top;\n",
              "    }\n",
              "\n",
              "    .dataframe thead th {\n",
              "        text-align: right;\n",
              "    }\n",
              "</style>\n",
              "<table border=\"1\" class=\"dataframe\">\n",
              "  <thead>\n",
              "    <tr style=\"text-align: right;\">\n",
              "      <th></th>\n",
              "      <th>Año</th>\n",
              "      <th>Mes</th>\n",
              "      <th>Cliente</th>\n",
              "      <th>Marca1</th>\n",
              "      <th>Marca2</th>\n",
              "      <th>Marca3</th>\n",
              "      <th>MarcaInno1</th>\n",
              "      <th>MarcaInno2</th>\n",
              "      <th>Regional2</th>\n",
              "      <th>Gerencia2</th>\n",
              "      <th>SubCanal2</th>\n",
              "      <th>Categoria</th>\n",
              "      <th>Nevera</th>\n",
              "      <th>fav1</th>\n",
              "      <th>fav2</th>\n",
              "      <th>fav3</th>\n",
              "    </tr>\n",
              "  </thead>\n",
              "  <tbody>\n",
              "    <tr>\n",
              "      <th>0</th>\n",
              "      <td>2019</td>\n",
              "      <td>5</td>\n",
              "      <td>9</td>\n",
              "      <td>0</td>\n",
              "      <td>0</td>\n",
              "      <td>0</td>\n",
              "      <td>0</td>\n",
              "      <td>0</td>\n",
              "      <td>0</td>\n",
              "      <td>3</td>\n",
              "      <td>22</td>\n",
              "      <td>2</td>\n",
              "      <td>1</td>\n",
              "      <td>0</td>\n",
              "      <td>34</td>\n",
              "      <td>35</td>\n",
              "    </tr>\n",
              "    <tr>\n",
              "      <th>1</th>\n",
              "      <td>2019</td>\n",
              "      <td>6</td>\n",
              "      <td>9</td>\n",
              "      <td>0</td>\n",
              "      <td>0</td>\n",
              "      <td>0</td>\n",
              "      <td>0</td>\n",
              "      <td>0</td>\n",
              "      <td>0</td>\n",
              "      <td>3</td>\n",
              "      <td>22</td>\n",
              "      <td>2</td>\n",
              "      <td>1</td>\n",
              "      <td>0</td>\n",
              "      <td>34</td>\n",
              "      <td>35</td>\n",
              "    </tr>\n",
              "    <tr>\n",
              "      <th>2</th>\n",
              "      <td>2019</td>\n",
              "      <td>7</td>\n",
              "      <td>9</td>\n",
              "      <td>0</td>\n",
              "      <td>0</td>\n",
              "      <td>0</td>\n",
              "      <td>0</td>\n",
              "      <td>0</td>\n",
              "      <td>0</td>\n",
              "      <td>3</td>\n",
              "      <td>22</td>\n",
              "      <td>2</td>\n",
              "      <td>1</td>\n",
              "      <td>0</td>\n",
              "      <td>34</td>\n",
              "      <td>35</td>\n",
              "    </tr>\n",
              "    <tr>\n",
              "      <th>3</th>\n",
              "      <td>2019</td>\n",
              "      <td>8</td>\n",
              "      <td>9</td>\n",
              "      <td>0</td>\n",
              "      <td>0</td>\n",
              "      <td>0</td>\n",
              "      <td>0</td>\n",
              "      <td>0</td>\n",
              "      <td>0</td>\n",
              "      <td>3</td>\n",
              "      <td>22</td>\n",
              "      <td>2</td>\n",
              "      <td>1</td>\n",
              "      <td>0</td>\n",
              "      <td>34</td>\n",
              "      <td>35</td>\n",
              "    </tr>\n",
              "    <tr>\n",
              "      <th>4</th>\n",
              "      <td>2019</td>\n",
              "      <td>9</td>\n",
              "      <td>9</td>\n",
              "      <td>0</td>\n",
              "      <td>0</td>\n",
              "      <td>0</td>\n",
              "      <td>0</td>\n",
              "      <td>0</td>\n",
              "      <td>0</td>\n",
              "      <td>3</td>\n",
              "      <td>22</td>\n",
              "      <td>2</td>\n",
              "      <td>1</td>\n",
              "      <td>0</td>\n",
              "      <td>34</td>\n",
              "      <td>35</td>\n",
              "    </tr>\n",
              "  </tbody>\n",
              "</table>\n",
              "</div>"
            ],
            "text/plain": [
              "    Año  Mes  Cliente  Marca1  Marca2  ...  Categoria  Nevera  fav1  fav2  fav3\n",
              "0  2019    5        9       0       0  ...          2       1     0    34    35\n",
              "1  2019    6        9       0       0  ...          2       1     0    34    35\n",
              "2  2019    7        9       0       0  ...          2       1     0    34    35\n",
              "3  2019    8        9       0       0  ...          2       1     0    34    35\n",
              "4  2019    9        9       0       0  ...          2       1     0    34    35\n",
              "\n",
              "[5 rows x 16 columns]"
            ]
          },
          "metadata": {
            "tags": []
          },
          "execution_count": 110
        }
      ]
    },
    {
      "cell_type": "markdown",
      "metadata": {
        "id": "RhTQ0W4MRvvB"
      },
      "source": [
        "primer producto"
      ]
    },
    {
      "cell_type": "code",
      "metadata": {
        "colab": {
          "base_uri": "https://localhost:8080/",
          "height": 195
        },
        "id": "CUOesYTRQ95d",
        "outputId": "4f4eb70f-f927-43c5-9252-39e15e086994"
      },
      "source": [
        "primer_prod = full_union[['Año', 'Mes', 'Cliente', 'Marca1', 'Regional2', 'Gerencia2', 'SubCanal2', 'Categoria', 'Nevera', 'fav1', 'fav2', 'fav3']]\n",
        "primer_prod.head()"
      ],
      "execution_count": 148,
      "outputs": [
        {
          "output_type": "execute_result",
          "data": {
            "text/html": [
              "<div>\n",
              "<style scoped>\n",
              "    .dataframe tbody tr th:only-of-type {\n",
              "        vertical-align: middle;\n",
              "    }\n",
              "\n",
              "    .dataframe tbody tr th {\n",
              "        vertical-align: top;\n",
              "    }\n",
              "\n",
              "    .dataframe thead th {\n",
              "        text-align: right;\n",
              "    }\n",
              "</style>\n",
              "<table border=\"1\" class=\"dataframe\">\n",
              "  <thead>\n",
              "    <tr style=\"text-align: right;\">\n",
              "      <th></th>\n",
              "      <th>Año</th>\n",
              "      <th>Mes</th>\n",
              "      <th>Cliente</th>\n",
              "      <th>Marca1</th>\n",
              "      <th>Regional2</th>\n",
              "      <th>Gerencia2</th>\n",
              "      <th>SubCanal2</th>\n",
              "      <th>Categoria</th>\n",
              "      <th>Nevera</th>\n",
              "      <th>fav1</th>\n",
              "      <th>fav2</th>\n",
              "      <th>fav3</th>\n",
              "    </tr>\n",
              "  </thead>\n",
              "  <tbody>\n",
              "    <tr>\n",
              "      <th>0</th>\n",
              "      <td>2019</td>\n",
              "      <td>5</td>\n",
              "      <td>9</td>\n",
              "      <td>0</td>\n",
              "      <td>0</td>\n",
              "      <td>3</td>\n",
              "      <td>22</td>\n",
              "      <td>2</td>\n",
              "      <td>1</td>\n",
              "      <td>0</td>\n",
              "      <td>34</td>\n",
              "      <td>35</td>\n",
              "    </tr>\n",
              "    <tr>\n",
              "      <th>1</th>\n",
              "      <td>2019</td>\n",
              "      <td>6</td>\n",
              "      <td>9</td>\n",
              "      <td>0</td>\n",
              "      <td>0</td>\n",
              "      <td>3</td>\n",
              "      <td>22</td>\n",
              "      <td>2</td>\n",
              "      <td>1</td>\n",
              "      <td>0</td>\n",
              "      <td>34</td>\n",
              "      <td>35</td>\n",
              "    </tr>\n",
              "    <tr>\n",
              "      <th>2</th>\n",
              "      <td>2019</td>\n",
              "      <td>7</td>\n",
              "      <td>9</td>\n",
              "      <td>0</td>\n",
              "      <td>0</td>\n",
              "      <td>3</td>\n",
              "      <td>22</td>\n",
              "      <td>2</td>\n",
              "      <td>1</td>\n",
              "      <td>0</td>\n",
              "      <td>34</td>\n",
              "      <td>35</td>\n",
              "    </tr>\n",
              "    <tr>\n",
              "      <th>3</th>\n",
              "      <td>2019</td>\n",
              "      <td>8</td>\n",
              "      <td>9</td>\n",
              "      <td>0</td>\n",
              "      <td>0</td>\n",
              "      <td>3</td>\n",
              "      <td>22</td>\n",
              "      <td>2</td>\n",
              "      <td>1</td>\n",
              "      <td>0</td>\n",
              "      <td>34</td>\n",
              "      <td>35</td>\n",
              "    </tr>\n",
              "    <tr>\n",
              "      <th>4</th>\n",
              "      <td>2019</td>\n",
              "      <td>9</td>\n",
              "      <td>9</td>\n",
              "      <td>0</td>\n",
              "      <td>0</td>\n",
              "      <td>3</td>\n",
              "      <td>22</td>\n",
              "      <td>2</td>\n",
              "      <td>1</td>\n",
              "      <td>0</td>\n",
              "      <td>34</td>\n",
              "      <td>35</td>\n",
              "    </tr>\n",
              "  </tbody>\n",
              "</table>\n",
              "</div>"
            ],
            "text/plain": [
              "    Año  Mes  Cliente  Marca1  Regional2  ...  Categoria  Nevera  fav1  fav2  fav3\n",
              "0  2019    5        9       0          0  ...          2       1     0    34    35\n",
              "1  2019    6        9       0          0  ...          2       1     0    34    35\n",
              "2  2019    7        9       0          0  ...          2       1     0    34    35\n",
              "3  2019    8        9       0          0  ...          2       1     0    34    35\n",
              "4  2019    9        9       0          0  ...          2       1     0    34    35\n",
              "\n",
              "[5 rows x 12 columns]"
            ]
          },
          "metadata": {
            "tags": []
          },
          "execution_count": 148
        }
      ]
    },
    {
      "cell_type": "code",
      "metadata": {
        "id": "XkQk5KBSRrQA"
      },
      "source": [
        "y = primer_prod['Marca1']\n",
        "x = primer_prod[['Año', 'Mes', 'Cliente', 'Gerencia2', 'SubCanal2', 'Categoria', 'Nevera', 'fav1', 'fav2', 'fav3']]\n",
        "\n",
        "X_train, X_test, y_train, y_test = train_test_split(x, y, test_size=0.2, random_state=0)"
      ],
      "execution_count": 330,
      "outputs": []
    },
    {
      "cell_type": "code",
      "metadata": {
        "id": "-h8D_Zr3ryLr"
      },
      "source": [
        "space={'max_depth': hp.quniform(\"max_depth\", 3, 18, 1),\n",
        "        'gamma': hp.quniform ('gamma', 0, 1, 0.01),\n",
        "        'reg_alpha' : hp.quniform('reg_alpha', 0,10,1),\n",
        "        'reg_lambda' : hp.uniform('reg_lambda', 0,1),\n",
        "        'colsample_bytree' : hp.uniform('colsample_bytree', 0, 1),\n",
        "        'min_child_weight' : hp.quniform('min_child_weight', 0, 10, 1),\n",
        "        'n_estimators': hp.quniform('n_estimators', 50, 200, 10),\n",
        "        'learning_rate': hp.quniform('learning_rate', 0.1, 1, 0.01),\n",
        "        'seed': 0\n",
        "    }"
      ],
      "execution_count": 331,
      "outputs": []
    },
    {
      "cell_type": "code",
      "metadata": {
        "id": "pov9RDd1sYTI"
      },
      "source": [
        "def objective(space):\n",
        "    XGB=XGBClassifier(n_estimators = int(space['n_estimators']), max_depth = int(space['max_depth']), gamma = space['gamma'],\n",
        "                      reg_alpha = int(space['reg_alpha']),min_child_weight=int(space['min_child_weight']), learning_rate=space['learning_rate'],\n",
        "                      colsample_bytree=int(space['colsample_bytree']))\n",
        "    \n",
        "    evaluation = [( X_train, y_train), ( X_test, y_test)]\n",
        "    \n",
        "    XGB.fit(X_train, y_train,\n",
        "            eval_set=evaluation, eval_metric=\"auc\",\n",
        "            early_stopping_rounds=10,verbose=False)\n",
        "    \n",
        "\n",
        "    pred = XGB.predict(X_test)\n",
        "    accuracy = accuracy_score(y_test, pred>0.5)\n",
        "    print (\"SCORE:\", accuracy)\n",
        "    return {'loss': -accuracy, 'status': STATUS_OK }"
      ],
      "execution_count": 332,
      "outputs": []
    },
    {
      "cell_type": "code",
      "metadata": {
        "colab": {
          "base_uri": "https://localhost:8080/"
        },
        "id": "frMuZucvs-6o",
        "outputId": "ae4d1e3e-c013-4b73-a5d3-e0d3121cb733"
      },
      "source": [
        "trials = Trials()\n",
        "\n",
        "best_hyperparams = fmin(fn = objective,\n",
        "                        space = space,\n",
        "                        algo = tpe.suggest,\n",
        "                        max_evals = 50,\n",
        "                        trials = trials)"
      ],
      "execution_count": 333,
      "outputs": [
        {
          "output_type": "stream",
          "text": [
            "SCORE:\n",
            "0.9732701329163409\n",
            "SCORE:\n",
            "0.9736121970289289\n",
            "SCORE:\n",
            "0.9732701329163409\n",
            "SCORE:\n",
            "0.9732701329163409\n",
            "SCORE:\n",
            "0.9732701329163409\n",
            "SCORE:\n",
            "0.9741985926505082\n",
            "SCORE:\n",
            "0.9732701329163409\n",
            "SCORE:\n",
            "0.9733434323690383\n",
            "SCORE:\n",
            "0.9732701329163409\n",
            "SCORE:\n",
            "0.9732701329163409\n",
            "SCORE:\n",
            "0.9739542611415168\n",
            "SCORE:\n",
            "0.9732701329163409\n",
            "SCORE:\n",
            "0.9732701329163409\n",
            "SCORE:\n",
            "0.9739542611415168\n",
            "SCORE:\n",
            "0.9732701329163409\n",
            "SCORE:\n",
            "0.9732701329163409\n",
            "SCORE:\n",
            "0.9732701329163409\n",
            "SCORE:\n",
            "0.9732701329163409\n",
            "SCORE:\n",
            "0.9732701329163409\n",
            "SCORE:\n",
            "0.9732701329163409\n",
            "SCORE:\n",
            "0.9735633307271305\n",
            "SCORE:\n",
            "0.9739786942924159\n",
            "SCORE:\n",
            "0.9732701329163409\n",
            "SCORE:\n",
            "0.9732701329163409\n",
            "SCORE:\n",
            "0.9740031274433151\n",
            "SCORE:\n",
            "0.9737832290852229\n",
            "SCORE:\n",
            "0.9732701329163409\n",
            "SCORE:\n",
            "0.9738076622361219\n",
            "SCORE:\n",
            "0.9732701329163409\n",
            "SCORE:\n",
            "0.9732701329163409\n",
            "SCORE:\n",
            "0.9739053948397185\n",
            "SCORE:\n",
            "0.9732701329163409\n",
            "SCORE:\n",
            "0.9737832290852229\n",
            "SCORE:\n",
            "0.9736121970289289\n",
            "SCORE:\n",
            "0.9742474589523065\n",
            "SCORE:\n",
            "0.9732701329163409\n",
            "SCORE:\n",
            "0.9732456997654417\n",
            "SCORE:\n",
            "0.9740031274433151\n",
            "SCORE:\n",
            "0.9732701329163409\n",
            "SCORE:\n",
            "0.9732701329163409\n",
            "SCORE:\n",
            "0.9732701329163409\n",
            "SCORE:\n",
            "0.9738320953870211\n",
            "SCORE:\n",
            "0.9734411649726349\n",
            "SCORE:\n",
            "0.9738320953870211\n",
            "SCORE:\n",
            "0.9732701329163409\n",
            "SCORE:\n",
            "0.9739053948397185\n",
            "SCORE:\n",
            "0.9732701329163409\n",
            "SCORE:\n",
            "0.9739053948397185\n",
            "SCORE:\n",
            "0.9732701329163409\n",
            "SCORE:\n",
            "0.9732701329163409\n",
            "100%|██████████| 50/50 [02:55<00:00,  3.51s/it, best loss: -0.9742474589523065]\n"
          ],
          "name": "stdout"
        }
      ]
    },
    {
      "cell_type": "code",
      "metadata": {
        "colab": {
          "base_uri": "https://localhost:8080/"
        },
        "id": "k30QD0sXumkj",
        "outputId": "e16fabac-1e69-4e49-edc6-590d1d461381"
      },
      "source": [
        "print(\"The best hyperparameters are : \",\"\\n\")\n",
        "print(best_hyperparams)"
      ],
      "execution_count": 334,
      "outputs": [
        {
          "output_type": "stream",
          "text": [
            "The best hyperparameters are :  \n",
            "\n",
            "{'colsample_bytree': 0.3667630798061273, 'gamma': 0.26, 'learning_rate': 0.8300000000000001, 'max_depth': 17.0, 'min_child_weight': 1.0, 'n_estimators': 90.0, 'reg_alpha': 2.0, 'reg_lambda': 0.902408278776433}\n"
          ],
          "name": "stdout"
        }
      ]
    },
    {
      "cell_type": "code",
      "metadata": {
        "colab": {
          "base_uri": "https://localhost:8080/"
        },
        "id": "Z0QPyQQNSoyf",
        "outputId": "3dc44741-c3e2-4818-c328-25231dcc951a"
      },
      "source": [
        "xgb1 = XGBClassifier(colsample_bytree=0.3667630798061273, gamma=0.26, learning_rate=0.8300000000000001, max_depth=17 , min_child_weight=1, n_estimators=90, reg_alpha=2, reg_lambda=0.902408278776433)\n",
        "xgb1.fit(X_train, y_train)"
      ],
      "execution_count": 335,
      "outputs": [
        {
          "output_type": "execute_result",
          "data": {
            "text/plain": [
              "XGBClassifier(base_score=0.5, booster='gbtree', colsample_bylevel=1,\n",
              "              colsample_bynode=1, colsample_bytree=0.3667630798061273,\n",
              "              gamma=0.26, learning_rate=0.8300000000000001, max_delta_step=0,\n",
              "              max_depth=17, min_child_weight=1, missing=None, n_estimators=90,\n",
              "              n_jobs=1, nthread=None, objective='binary:logistic',\n",
              "              random_state=0, reg_alpha=2, reg_lambda=0.902408278776433,\n",
              "              scale_pos_weight=1, seed=None, silent=None, subsample=1,\n",
              "              verbosity=1)"
            ]
          },
          "metadata": {
            "tags": []
          },
          "execution_count": 335
        }
      ]
    },
    {
      "cell_type": "code",
      "metadata": {
        "colab": {
          "base_uri": "https://localhost:8080/"
        },
        "id": "xrbgX0DBS0LM",
        "outputId": "c9d5d9fc-9584-4890-d7c4-014cf5c2d8f9"
      },
      "source": [
        "answer = xgb1.predict(X_test)\n",
        "acc_score = accuracy_score(y_test, answer)\n",
        "print(acc_score)\n",
        "roc = roc_curve(y_test, answer)\n",
        "print(roc)\n",
        "auc_score = auc(roc[0], roc[1])\n",
        "print(auc_score)"
      ],
      "execution_count": 336,
      "outputs": [
        {
          "output_type": "stream",
          "text": [
            "0.9736610633307271\n",
            "(array([0.        , 0.00557313, 1.        ]), array([0.        , 0.21755027, 1.        ]), array([2, 1, 0]))\n",
            "0.6059885728699147\n"
          ],
          "name": "stdout"
        }
      ]
    },
    {
      "cell_type": "markdown",
      "metadata": {
        "id": "pzCFkZy2Un0k"
      },
      "source": [
        "segundo prod"
      ]
    },
    {
      "cell_type": "code",
      "metadata": {
        "id": "6Ovk9N79UmaT"
      },
      "source": [
        "segundo_prod = full_union[['Año', 'Mes', 'Cliente', 'Marca2', 'Gerencia2', 'SubCanal2', 'Categoria', 'Nevera', 'fav1', 'fav2', 'fav3']]\n",
        "\n",
        "y = segundo_prod['Marca2']\n",
        "x = segundo_prod[['Año', 'Mes','Cliente', 'Gerencia2', 'SubCanal2', 'Categoria', 'Nevera', 'fav1', 'fav2', 'fav3']]\n",
        "X_train, X_test, y_train, y_test = train_test_split(x, y, test_size=0.2, random_state=0)"
      ],
      "execution_count": 297,
      "outputs": []
    },
    {
      "cell_type": "code",
      "metadata": {
        "colab": {
          "base_uri": "https://localhost:8080/"
        },
        "id": "9r0eaZN53ArT",
        "outputId": "9a434deb-fbda-4acc-bc4f-cc9b9cafc747"
      },
      "source": [
        "trials = Trials()\n",
        "\n",
        "best_hyperparams = fmin(fn = objective,\n",
        "                        space = space,\n",
        "                        algo = tpe.suggest,\n",
        "                        max_evals = 30,\n",
        "                        trials = trials)\n",
        "print(\"The best hyperparameters are : \",\"\\n\")\n",
        "print(best_hyperparams)"
      ],
      "execution_count": 298,
      "outputs": [
        {
          "output_type": "stream",
          "text": [
            "SCORE:\n",
            "0.9568510555121188\n",
            "SCORE:\n",
            "0.9574863174354965\n",
            "SCORE:\n",
            "0.9566067240031274\n",
            "SCORE:\n",
            "0.956337959343237\n",
            "SCORE:\n",
            "0.9540656763096169\n",
            "SCORE:\n",
            "0.9562402267396404\n",
            "SCORE:\n",
            "0.956875488663018\n",
            "SCORE:\n",
            "0.9575596168881939\n",
            "SCORE:\n",
            "0.9564112587959344\n",
            "SCORE:\n",
            "0.9542855746677091\n",
            "SCORE:\n",
            "0.95653342455043\n",
            "SCORE:\n",
            "0.9572175527756059\n",
            "SCORE:\n",
            "0.9566067240031274\n",
            "SCORE:\n",
            "0.9548231039874903\n",
            "SCORE:\n",
            "0.9565578577013292\n",
            "SCORE:\n",
            "0.956191360437842\n",
            "SCORE:\n",
            "0.9553362001563722\n",
            "SCORE:\n",
            "0.9566311571540266\n",
            "SCORE:\n",
            "0.9540656763096169\n",
            "SCORE:\n",
            "0.9569732212666145\n",
            "SCORE:\n",
            "0.9564112587959344\n",
            "SCORE:\n",
            "0.9570709538702111\n",
            "SCORE:\n",
            "0.9591966379984362\n",
            "SCORE:\n",
            "0.9595387021110242\n",
            "SCORE:\n",
            "0.9590011727912432\n",
            "SCORE:\n",
            "0.958976739640344\n",
            "SCORE:\n",
            "0.9586102423768569\n",
            "SCORE:\n",
            "0.9587568412822518\n",
            "SCORE:\n",
            "0.9586102423768569\n",
            "SCORE:\n",
            "0.9556293979671618\n",
            "100%|██████████| 30/30 [03:15<00:00,  6.53s/it, best loss: -0.9595387021110242]\n",
            "The best hyperparameters are :  \n",
            "\n",
            "{'colsample_bytree': 0.3216478669732097, 'gamma': 0.01, 'learning_rate': 1.0, 'max_depth': 16.0, 'min_child_weight': 6.0, 'n_estimators': 200.0, 'reg_alpha': 0.0, 'reg_lambda': 0.13284107259706027}\n"
          ],
          "name": "stdout"
        }
      ]
    },
    {
      "cell_type": "code",
      "metadata": {
        "colab": {
          "base_uri": "https://localhost:8080/"
        },
        "id": "8UUN4-Af25sw",
        "outputId": "9bded6fe-cfcf-48a8-e248-147365e95247"
      },
      "source": [
        "xgb2 = XGBClassifier(colsample_bytree=0.3216478669732097, gamma=0.01, learning_rate=0.1, max_depth=16 , min_child_weight=6, n_estimators=200, reg_alpha=0, reg_lambda=0.13284107259706027)\n",
        "xgb2.fit(X_train, y_train)"
      ],
      "execution_count": 299,
      "outputs": [
        {
          "output_type": "execute_result",
          "data": {
            "text/plain": [
              "XGBClassifier(base_score=0.5, booster='gbtree', colsample_bylevel=1,\n",
              "              colsample_bynode=1, colsample_bytree=0.3216478669732097,\n",
              "              gamma=0.01, learning_rate=0.1, max_delta_step=0, max_depth=16,\n",
              "              min_child_weight=6, missing=None, n_estimators=200, n_jobs=1,\n",
              "              nthread=None, objective='binary:logistic', random_state=0,\n",
              "              reg_alpha=0, reg_lambda=0.13284107259706027, scale_pos_weight=1,\n",
              "              seed=None, silent=None, subsample=1, verbosity=1)"
            ]
          },
          "metadata": {
            "tags": []
          },
          "execution_count": 299
        }
      ]
    },
    {
      "cell_type": "code",
      "metadata": {
        "colab": {
          "base_uri": "https://localhost:8080/"
        },
        "id": "USI1VrS5Uy5e",
        "outputId": "4611e925-ad06-407a-cd57-e6c86dd2dad8"
      },
      "source": [
        "answer = xgb2.predict(X_test)\n",
        "acc_score = accuracy_score(y_test, answer)\n",
        "print(acc_score)\n",
        "roc = roc_curve(y_test, answer)\n",
        "print(roc)\n",
        "auc_score = auc(roc[0], roc[1])\n",
        "print(auc_score)"
      ],
      "execution_count": 300,
      "outputs": [
        {
          "output_type": "stream",
          "text": [
            "0.9614933541829555\n",
            "(array([0.        , 0.00489142, 1.        ]), array([0.        , 0.26329787, 1.        ]), array([2, 1, 0]))\n",
            "0.6292032283234602\n"
          ],
          "name": "stdout"
        }
      ]
    },
    {
      "cell_type": "markdown",
      "metadata": {
        "id": "1hMSYmsNU2s2"
      },
      "source": [
        "producto tres"
      ]
    },
    {
      "cell_type": "code",
      "metadata": {
        "id": "k20T1xOOU1H1"
      },
      "source": [
        "tercero_prod = full_union[['Año', 'Mes', 'Cliente', 'Marca3', 'Regional2', 'Gerencia2', 'SubCanal2', 'Categoria', 'Nevera', 'fav1', 'fav2', 'fav3']]\n",
        "\n",
        "y = tercero_prod['Marca3']\n",
        "x = tercero_prod[['Año', 'Mes','Cliente', 'Gerencia2', 'SubCanal2', 'Categoria', 'Nevera', 'fav1', 'fav2', 'fav3']]\n",
        "X_train, X_test, y_train, y_test = train_test_split(x, y, test_size=0.2, random_state=0)\n",
        "\n"
      ],
      "execution_count": 301,
      "outputs": []
    },
    {
      "cell_type": "code",
      "metadata": {
        "colab": {
          "base_uri": "https://localhost:8080/"
        },
        "id": "OvB6Qhtw6N-y",
        "outputId": "d61a72ba-f12d-4009-f991-0fa1580572bb"
      },
      "source": [
        "trials = Trials()\n",
        "\n",
        "best_hyperparams = fmin(fn = objective,\n",
        "                        space = space,\n",
        "                        algo = tpe.suggest,\n",
        "                        max_evals = 30,\n",
        "                        trials = trials)\n",
        "print(\"The best hyperparameters are : \",\"\\n\")\n",
        "print(best_hyperparams)"
      ],
      "execution_count": 302,
      "outputs": [
        {
          "output_type": "stream",
          "text": [
            "SCORE:\n",
            "0.7549599296325255\n",
            "SCORE:\n",
            "0.7653440187646599\n",
            "SCORE:\n",
            "0.7601886239249414\n",
            "SCORE:\n",
            "0.7624853401094606\n",
            "SCORE:\n",
            "0.7609460516028147\n",
            "SCORE:\n",
            "0.7689112587959344\n",
            "SCORE:\n",
            "0.752809812353401\n",
            "SCORE:\n",
            "0.7716966379984362\n",
            "SCORE:\n",
            "0.7676896012509773\n",
            "SCORE:\n",
            "0.7780003909304144\n",
            "SCORE:\n",
            "0.7555218921032056\n",
            "SCORE:\n",
            "0.7588203674745895\n",
            "SCORE:\n",
            "0.7652951524628616\n",
            "SCORE:\n",
            "0.75994429241595\n",
            "SCORE:\n",
            "0.7586737685691947\n",
            "SCORE:\n",
            "0.7663946442533229\n",
            "SCORE:\n",
            "0.7627785379202502\n",
            "SCORE:\n",
            "0.7660281469898358\n",
            "SCORE:\n",
            "0.7553752931978108\n",
            "SCORE:\n",
            "0.7613858483189992\n",
            "SCORE:\n",
            "0.7762412040656763\n",
            "SCORE:\n",
            "0.7772673964034402\n",
            "SCORE:\n",
            "0.758551602814699\n",
            "SCORE:\n",
            "0.7399091086786552\n",
            "SCORE:\n",
            "0.7763145035183737\n",
            "SCORE:\n",
            "0.7766565676309617\n",
            "SCORE:\n",
            "0.7581851055512119\n",
            "SCORE:\n",
            "0.7713545738858483\n",
            "SCORE:\n",
            "0.7739444878811571\n",
            "SCORE:\n",
            "0.7627052384675528\n",
            "100%|██████████| 30/30 [04:35<00:00,  9.19s/it, best loss: -0.7780003909304144]\n",
            "The best hyperparameters are :  \n",
            "\n",
            "{'colsample_bytree': 0.8074219629301445, 'gamma': 0.64, 'learning_rate': 0.55, 'max_depth': 18.0, 'min_child_weight': 4.0, 'n_estimators': 110.0, 'reg_alpha': 1.0, 'reg_lambda': 0.1643095431794116}\n"
          ],
          "name": "stdout"
        }
      ]
    },
    {
      "cell_type": "code",
      "metadata": {
        "colab": {
          "base_uri": "https://localhost:8080/"
        },
        "id": "0OkXH3G26JpD",
        "outputId": "271798f5-f152-44fd-9ae9-2c495ef4a2f0"
      },
      "source": [
        "xgb3 = XGBClassifier(colsample_bytree=0.8074219629301445, gamma=0.64, learning_rate=0.55, max_depth=18 , min_child_weight=4, n_estimators=110, reg_alpha=1, reg_lambda=0.1643095431794116)\n",
        "xgb3.fit(X_train, y_train)"
      ],
      "execution_count": 303,
      "outputs": [
        {
          "output_type": "execute_result",
          "data": {
            "text/plain": [
              "XGBClassifier(base_score=0.5, booster='gbtree', colsample_bylevel=1,\n",
              "              colsample_bynode=1, colsample_bytree=0.8074219629301445,\n",
              "              gamma=0.64, learning_rate=0.55, max_delta_step=0, max_depth=18,\n",
              "              min_child_weight=4, missing=None, n_estimators=110, n_jobs=1,\n",
              "              nthread=None, objective='binary:logistic', random_state=0,\n",
              "              reg_alpha=1, reg_lambda=0.1643095431794116, scale_pos_weight=1,\n",
              "              seed=None, silent=None, subsample=1, verbosity=1)"
            ]
          },
          "metadata": {
            "tags": []
          },
          "execution_count": 303
        }
      ]
    },
    {
      "cell_type": "code",
      "metadata": {
        "colab": {
          "base_uri": "https://localhost:8080/"
        },
        "id": "NzprF8_qVBgg",
        "outputId": "cc82d052-d208-4bdc-8877-460b403db86d"
      },
      "source": [
        "answer = xgb3.predict(X_test)\n",
        "acc_score = accuracy_score(y_test, answer)\n",
        "print(acc_score)\n",
        "roc = roc_curve(y_test, answer)\n",
        "print(roc)\n",
        "auc_score = auc(roc[0], roc[1])\n",
        "print(auc_score)"
      ],
      "execution_count": 304,
      "outputs": [
        {
          "output_type": "stream",
          "text": [
            "0.81022771696638\n",
            "(array([0.        , 0.10805793, 1.        ]), array([0.        , 0.59610792, 1.        ]), array([2, 1, 0]))\n",
            "0.7440249944447848\n"
          ],
          "name": "stdout"
        }
      ]
    },
    {
      "cell_type": "markdown",
      "metadata": {
        "id": "zk3wAZwdVIki"
      },
      "source": [
        "producto cuatro"
      ]
    },
    {
      "cell_type": "code",
      "metadata": {
        "id": "3F1UNevaVHay"
      },
      "source": [
        "cuarto_prod = full_union[['Año', 'Mes', 'Cliente', 'MarcaInno1', 'Regional2', 'Gerencia2', 'SubCanal2', 'Categoria', 'Nevera', 'fav1', 'fav2', 'fav3']]\n",
        "\n",
        "y = cuarto_prod['MarcaInno1']\n",
        "x = cuarto_prod[['Año', 'Mes','Cliente', 'Gerencia2', 'SubCanal2', 'Categoria', 'Nevera', 'fav1', 'fav2', 'fav3']]\n",
        "\n",
        "X_train, X_test, y_train, y_test = train_test_split(x, y, test_size=0.2, random_state=0)\n",
        "\n"
      ],
      "execution_count": 305,
      "outputs": []
    },
    {
      "cell_type": "code",
      "metadata": {
        "colab": {
          "base_uri": "https://localhost:8080/"
        },
        "id": "AUxOS-YX-fay",
        "outputId": "8ef9a992-9ff6-4296-91f3-5eb0b41ce5c8"
      },
      "source": [
        "trials = Trials()\n",
        "\n",
        "best_hyperparams = fmin(fn = objective,\n",
        "                        space = space,\n",
        "                        algo = tpe.suggest,\n",
        "                        max_evals = 30,\n",
        "                        trials = trials)\n",
        "print(\"The best hyperparameters are : \",\"\\n\")\n",
        "print(best_hyperparams)"
      ],
      "execution_count": 306,
      "outputs": [
        {
          "output_type": "stream",
          "text": [
            "SCORE:\n",
            "0.9708023846755277\n",
            "SCORE:\n",
            "0.9705824863174355\n",
            "SCORE:\n",
            "0.9707535183737295\n",
            "SCORE:\n",
            "0.9707290852228303\n",
            "SCORE:\n",
            "0.9702892885066459\n",
            "SCORE:\n",
            "0.9570953870211102\n",
            "SCORE:\n",
            "0.9570953870211102\n",
            "SCORE:\n",
            "0.9638878029710711\n",
            "SCORE:\n",
            "0.9570953870211102\n",
            "SCORE:\n",
            "0.9593921032056294\n",
            "SCORE:\n",
            "0.9570953870211102\n",
            "SCORE:\n",
            "0.9646696637998436\n",
            "SCORE:\n",
            "0.9709734167318217\n",
            "SCORE:\n",
            "0.9704358874120407\n",
            "SCORE:\n",
            "0.9703137216575449\n",
            "SCORE:\n",
            "0.9706557857701329\n",
            "SCORE:\n",
            "0.9593921032056294\n",
            "SCORE:\n",
            "0.965964620797498\n",
            "SCORE:\n",
            "0.9707046520719312\n",
            "SCORE:\n",
            "0.9705580531665363\n",
            "SCORE:\n",
            "0.9703625879593433\n",
            "SCORE:\n",
            "0.970851250977326\n",
            "SCORE:\n",
            "0.9709245504300235\n",
            "SCORE:\n",
            "0.9709978498827209\n",
            "SCORE:\n",
            "0.9570953870211102\n",
            "SCORE:\n",
            "0.9593921032056294\n",
            "SCORE:\n",
            "0.9709001172791243\n",
            "SCORE:\n",
            "0.9570953870211102\n",
            "SCORE:\n",
            "0.970851250977326\n",
            "SCORE:\n",
            "0.9710711493354183\n",
            "100%|██████████| 30/30 [02:39<00:00,  5.31s/it, best loss: -0.9710711493354183]\n",
            "The best hyperparameters are :  \n",
            "\n",
            "{'colsample_bytree': 0.637032980303668, 'gamma': 0.88, 'learning_rate': 0.67, 'max_depth': 7.0, 'min_child_weight': 3.0, 'n_estimators': 190.0, 'reg_alpha': 4.0, 'reg_lambda': 0.4519111386667546}\n"
          ],
          "name": "stdout"
        }
      ]
    },
    {
      "cell_type": "code",
      "metadata": {
        "colab": {
          "base_uri": "https://localhost:8080/"
        },
        "id": "F6bu9ffY-epT",
        "outputId": "b72e1f0c-dd96-46df-8bf7-2857a6a09133"
      },
      "source": [
        "xgb4 = XGBClassifier(colsample_bytree=0.637032980303668, gamma=0.88, learning_rate=0.67, max_depth=7 , min_child_weight=3, n_estimators=190, reg_alpha=4, reg_lambda=0.4519111386667546)\n",
        "xgb4.fit(X_train, y_train)"
      ],
      "execution_count": 307,
      "outputs": [
        {
          "output_type": "execute_result",
          "data": {
            "text/plain": [
              "XGBClassifier(base_score=0.5, booster='gbtree', colsample_bylevel=1,\n",
              "              colsample_bynode=1, colsample_bytree=0.637032980303668,\n",
              "              gamma=0.88, learning_rate=0.67, max_delta_step=0, max_depth=7,\n",
              "              min_child_weight=3, missing=None, n_estimators=190, n_jobs=1,\n",
              "              nthread=None, objective='binary:logistic', random_state=0,\n",
              "              reg_alpha=4, reg_lambda=0.4519111386667546, scale_pos_weight=1,\n",
              "              seed=None, silent=None, subsample=1, verbosity=1)"
            ]
          },
          "metadata": {
            "tags": []
          },
          "execution_count": 307
        }
      ]
    },
    {
      "cell_type": "code",
      "metadata": {
        "colab": {
          "base_uri": "https://localhost:8080/"
        },
        "id": "X3C_UzKmVQBt",
        "outputId": "70279299-bd38-4a9e-a638-e85bcdaf3793"
      },
      "source": [
        "answer = xgb4.predict(X_test)\n",
        "acc_score = accuracy_score(y_test, answer)\n",
        "print(acc_score)\n",
        "roc = roc_curve(y_test, answer)\n",
        "print(roc)\n",
        "auc_score = auc(roc[0], roc[1])\n",
        "print(auc_score)"
      ],
      "execution_count": 308,
      "outputs": [
        {
          "output_type": "stream",
          "text": [
            "0.9706313526192337\n",
            "(array([0.        , 0.00827121, 1.        ]), array([0. , 0.5, 1. ]), array([2, 1, 0]))\n",
            "0.7458643929337282\n"
          ],
          "name": "stdout"
        }
      ]
    },
    {
      "cell_type": "markdown",
      "metadata": {
        "id": "l7t6s26uVS20"
      },
      "source": [
        "producto cinco"
      ]
    },
    {
      "cell_type": "code",
      "metadata": {
        "id": "6bAFpeQWVSKn"
      },
      "source": [
        "cinco_prod = full_union[['Año', 'Mes', 'Cliente', 'MarcaInno2', 'Regional2', 'Gerencia2', 'SubCanal2', 'Categoria', 'Nevera', 'fav1', 'fav2', 'fav3']]\n",
        "\n",
        "y = cinco_prod['MarcaInno2']\n",
        "x = cinco_prod[['Año', 'Mes','Cliente', 'Gerencia2', 'SubCanal2', 'Categoria', 'Nevera', 'fav1', 'fav2', 'fav3']]\n",
        "\n",
        "X_train, X_test, y_train, y_test = train_test_split(x, y, test_size=0.2, random_state=0)"
      ],
      "execution_count": 309,
      "outputs": []
    },
    {
      "cell_type": "code",
      "metadata": {
        "colab": {
          "base_uri": "https://localhost:8080/"
        },
        "id": "rlXppVsl-kvF",
        "outputId": "b22ca8e0-3247-4a0d-b999-ecbfcad3da09"
      },
      "source": [
        "trials = Trials()\n",
        "\n",
        "best_hyperparams = fmin(fn = objective,\n",
        "                        space = space,\n",
        "                        algo = tpe.suggest,\n",
        "                        max_evals = 30,\n",
        "                        trials = trials)\n",
        "print(\"The best hyperparameters are : \",\"\\n\")\n",
        "print(best_hyperparams)"
      ],
      "execution_count": 310,
      "outputs": [
        {
          "output_type": "stream",
          "text": [
            "SCORE:\n",
            "0.9570953870211102\n",
            "SCORE:\n",
            "0.9570953870211102\n",
            "SCORE:\n",
            "0.9709734167318217\n",
            "SCORE:\n",
            "0.9593921032056294\n",
            "SCORE:\n",
            "0.9708268178264269\n",
            "SCORE:\n",
            "0.9707779515246286\n",
            "SCORE:\n",
            "0.9647918295543393\n",
            "SCORE:\n",
            "0.9709978498827209\n",
            "SCORE:\n",
            "0.9570953870211102\n",
            "SCORE:\n",
            "0.9570953870211102\n",
            "SCORE:\n",
            "0.9709489835809226\n",
            "SCORE:\n",
            "0.9593921032056294\n",
            "SCORE:\n",
            "0.9570953870211102\n",
            "SCORE:\n",
            "0.9570953870211102\n",
            "SCORE:\n",
            "0.9570953870211102\n",
            "SCORE:\n",
            "0.9593921032056294\n",
            "SCORE:\n",
            "0.970851250977326\n",
            "SCORE:\n",
            "0.9570953870211102\n",
            "SCORE:\n",
            "0.970851250977326\n",
            "SCORE:\n",
            "0.9570953870211102\n",
            "SCORE:\n",
            "0.9711200156372166\n",
            "SCORE:\n",
            "0.9709978498827209\n",
            "SCORE:\n",
            "0.9708756841282252\n",
            "SCORE:\n",
            "0.9707046520719312\n",
            "SCORE:\n",
            "0.9709001172791243\n",
            "SCORE:\n",
            "0.9709734167318217\n",
            "SCORE:\n",
            "0.9570953870211102\n",
            "SCORE:\n",
            "0.970851250977326\n",
            "SCORE:\n",
            "0.9707779515246286\n",
            "SCORE:\n",
            "0.9709734167318217\n",
            "100%|██████████| 30/30 [02:13<00:00,  4.46s/it, best loss: -0.9711200156372166]\n",
            "The best hyperparameters are :  \n",
            "\n",
            "{'colsample_bytree': 0.9500298028057517, 'gamma': 0.99, 'learning_rate': 0.6, 'max_depth': 3.0, 'min_child_weight': 4.0, 'n_estimators': 80.0, 'reg_alpha': 10.0, 'reg_lambda': 0.5106728652198309}\n"
          ],
          "name": "stdout"
        }
      ]
    },
    {
      "cell_type": "code",
      "metadata": {
        "colab": {
          "base_uri": "https://localhost:8080/"
        },
        "id": "DLEZR4ti-lc-",
        "outputId": "0314beff-d67d-4f56-ca89-ecbf9d774422"
      },
      "source": [
        "xgb5 = XGBClassifier(colsample_bytree=0.9500298028057517, gamma=0.99, learning_rate=0.6, max_depth=3 , min_child_weight=4, n_estimators=80, reg_alpha=10, reg_lambda=0.5106728652198309)\n",
        "xgb5.fit(X_train, y_train)"
      ],
      "execution_count": 311,
      "outputs": [
        {
          "output_type": "execute_result",
          "data": {
            "text/plain": [
              "XGBClassifier(base_score=0.5, booster='gbtree', colsample_bylevel=1,\n",
              "              colsample_bynode=1, colsample_bytree=0.9500298028057517,\n",
              "              gamma=0.99, learning_rate=0.6, max_delta_step=0, max_depth=3,\n",
              "              min_child_weight=4, missing=None, n_estimators=80, n_jobs=1,\n",
              "              nthread=None, objective='binary:logistic', random_state=0,\n",
              "              reg_alpha=10, reg_lambda=0.5106728652198309, scale_pos_weight=1,\n",
              "              seed=None, silent=None, subsample=1, verbosity=1)"
            ]
          },
          "metadata": {
            "tags": []
          },
          "execution_count": 311
        }
      ]
    },
    {
      "cell_type": "code",
      "metadata": {
        "colab": {
          "base_uri": "https://localhost:8080/"
        },
        "id": "u_OJ-GEtWCsA",
        "outputId": "d5f4a161-8d38-42b7-ffad-0325adf1d180"
      },
      "source": [
        "answer = xgb5.predict(X_test)\n",
        "acc_score = accuracy_score(y_test, answer)\n",
        "print(acc_score)\n",
        "roc = roc_curve(y_test, answer)\n",
        "print(roc)\n",
        "auc_score = auc(roc[0], roc[1])\n",
        "print(auc_score)"
      ],
      "execution_count": 312,
      "outputs": [
        {
          "output_type": "stream",
          "text": [
            "0.9708023846755277\n",
            "(array([0.        , 0.00479935, 1.        ]), array([0.        , 0.42653759, 1.        ]), array([2, 1, 0]))\n",
            "0.7108691194747213\n"
          ],
          "name": "stdout"
        }
      ]
    },
    {
      "cell_type": "code",
      "metadata": {
        "id": "l-5a7PrVWEiB"
      },
      "source": [
        ""
      ],
      "execution_count": null,
      "outputs": []
    },
    {
      "cell_type": "markdown",
      "metadata": {
        "id": "Oy111tX0BH48"
      },
      "source": [
        "LLENAR"
      ]
    },
    {
      "cell_type": "code",
      "metadata": {
        "id": "XDYDdpOtBI8N"
      },
      "source": [
        "test = df_test[['Cliente']]\n",
        "test = test.merge(cliente_info, on='Cliente')\n",
        "test['Año'] = 2020\n",
        "test['Mes'] = 10\n",
        "test = test[['Año', 'Mes', 'Cliente', 'Gerencia2', 'SubCanal2', 'Categoria', 'Nevera', 'fav1', 'fav2', 'fav3']]"
      ],
      "execution_count": 327,
      "outputs": []
    },
    {
      "cell_type": "code",
      "metadata": {
        "id": "z-fECZF3BZ6j"
      },
      "source": [
        "prob1 = xgb1.predict_proba(test)[:, 1]\n",
        "prob2 = xgb2.predict_proba(test)[:, 1]\n",
        "prob3 = xgb3.predict_proba(test)[:, 1]\n",
        "prob4 = xgb4.predict_proba(test)[:, 1]\n",
        "prob5 = xgb5.predict_proba(test)[:, 1]\n",
        "\n",
        "test['Marca1'] = prob1\n",
        "test['Marca2'] = prob2\n",
        "test['Marca3'] = prob3\n",
        "test['Marca_Inno1'] = prob4\n",
        "test['Marca_Inno2'] = prob5"
      ],
      "execution_count": 328,
      "outputs": []
    },
    {
      "cell_type": "code",
      "metadata": {
        "id": "DY9ascVfBmNg"
      },
      "source": [
        "final = test[['Cliente', 'Marca1', 'Marca2', 'Marca3', 'Marca_Inno1', 'Marca_Inno2']]\n",
        "final.columns = df_test.columns\n",
        "final.to_csv('input4_clientes_test.csv', sep=',', encoding='utf-8', index=False)"
      ],
      "execution_count": 329,
      "outputs": []
    },
    {
      "cell_type": "code",
      "metadata": {
        "id": "JcoM1U0ZF-CF"
      },
      "source": [
        ""
      ],
      "execution_count": null,
      "outputs": []
    }
  ]
}